{
  "cells": [
    {
      "cell_type": "code",
      "execution_count": null,
      "metadata": {
        "colab": {
          "base_uri": "https://localhost:8080/"
        },
        "id": "hfocM7Qv9FBm",
        "outputId": "d0b8bcc7-4a7f-4248-84f1-7c1f48ca7f5f"
      },
      "outputs": [
        {
          "output_type": "stream",
          "name": "stdout",
          "text": [
            "Mounted at /content/drive/\n"
          ]
        }
      ],
      "source": [
        "from google.colab import drive\n",
        "\n",
        "drive.mount('/content/drive/')"
      ]
    },
    {
      "cell_type": "code",
      "execution_count": null,
      "metadata": {
        "colab": {
          "base_uri": "https://localhost:8080/",
          "height": 36
        },
        "id": "rUQkRc8i9avq",
        "outputId": "b1a07d0f-98d3-444f-b4c6-00cfc36a3040"
      },
      "outputs": [
        {
          "output_type": "execute_result",
          "data": {
            "text/plain": [
              "'/content/dataset.rar'"
            ],
            "application/vnd.google.colaboratory.intrinsic+json": {
              "type": "string"
            }
          },
          "metadata": {},
          "execution_count": 2
        }
      ],
      "source": [
        "import shutil\n",
        "\n",
        "shutil.copyfile(\"/content/drive/MyDrive/dataset/dataset.rar\", '/content/dataset.rar')"
      ]
    },
    {
      "cell_type": "code",
      "execution_count": null,
      "metadata": {
        "colab": {
          "base_uri": "https://localhost:8080/"
        },
        "id": "hKvahE6P-Hng",
        "outputId": "ae4b2c4a-685a-4b0e-dded-311a74c82c68"
      },
      "outputs": [
        {
          "output_type": "stream",
          "name": "stdout",
          "text": [
            "Looking in indexes: https://pypi.org/simple, https://us-python.pkg.dev/colab-wheels/public/simple/\n",
            "Collecting unrar\n",
            "  Downloading unrar-0.4-py3-none-any.whl (25 kB)\n",
            "Installing collected packages: unrar\n",
            "Successfully installed unrar-0.4\n",
            "\n",
            "UNRAR 5.50 freeware      Copyright (c) 1993-2017 Alexander Roshal\n",
            "\n",
            "\n",
            "Extracting from dataset.rar\n",
            "\n",
            "Creating    dataset                                                   OK\n",
            "Creating    dataset/test                                              OK\n",
            "Creating    dataset/test/chatamari                                    OK\n",
            "Extracting  dataset/test/chatamari/1.jpeg                                \b\b\b\b  0%\b\b\b\b\b  OK \n",
            "Extracting  dataset/test/chatamari/11.jpeg                               \b\b\b\b  0%\b\b\b\b\b  OK \n",
            "Extracting  dataset/test/chatamari/117.jpeg                              \b\b\b\b  0%\b\b\b\b\b  OK \n",
            "Extracting  dataset/test/chatamari/125.jpeg                              \b\b\b\b  0%\b\b\b\b\b  OK \n",
            "Extracting  dataset/test/chatamari/132.jpeg                              \b\b\b\b  0%\b\b\b\b\b  OK \n",
            "Extracting  dataset/test/chatamari/146.jpeg                              \b\b\b\b  0%\b\b\b\b\b  OK \n",
            "Extracting  dataset/test/chatamari/147.jpeg                              \b\b\b\b  0%\b\b\b\b\b  OK \n",
            "Extracting  dataset/test/chatamari/158.jpeg                              \b\b\b\b  0%\b\b\b\b\b  OK \n",
            "Extracting  dataset/test/chatamari/185.jpeg                              \b\b\b\b  0%\b\b\b\b\b  OK \n",
            "Extracting  dataset/test/chatamari/207.jpeg                              \b\b\b\b  0%\b\b\b\b\b  OK \n",
            "Extracting  dataset/test/chatamari/213.jpeg                              \b\b\b\b  0%\b\b\b\b\b  OK \n",
            "Extracting  dataset/test/chatamari/224.jpeg                              \b\b\b\b  0%\b\b\b\b\b  OK \n",
            "Extracting  dataset/test/chatamari/242.jpeg                              \b\b\b\b  0%\b\b\b\b\b  OK \n",
            "Extracting  dataset/test/chatamari/243.jpeg                              \b\b\b\b  0%\b\b\b\b\b  OK \n",
            "Extracting  dataset/test/chatamari/248.jpeg                              \b\b\b\b  0%\b\b\b\b\b  OK \n",
            "Extracting  dataset/test/chatamari/25.jpeg                               \b\b\b\b  0%\b\b\b\b\b  OK \n",
            "Extracting  dataset/test/chatamari/269.jpeg                              \b\b\b\b  0%\b\b\b\b\b  OK \n",
            "Extracting  dataset/test/chatamari/272.jpeg                              \b\b\b\b  0%\b\b\b\b\b  OK \n",
            "Extracting  dataset/test/chatamari/290.jpeg                              \b\b\b\b  0%\b\b\b\b\b  OK \n",
            "Extracting  dataset/test/chatamari/301.jpeg                              \b\b\b\b  0%\b\b\b\b\b  OK \n",
            "Extracting  dataset/test/chatamari/327.jpeg                              \b\b\b\b  1%\b\b\b\b\b  OK \n",
            "Extracting  dataset/test/chatamari/348.jpeg                              \b\b\b\b  1%\b\b\b\b\b  OK \n",
            "Extracting  dataset/test/chatamari/354.jpeg                              \b\b\b\b  1%\b\b\b\b\b  OK \n",
            "Extracting  dataset/test/chatamari/371.jpeg                              \b\b\b\b  1%\b\b\b\b\b  OK \n",
            "Extracting  dataset/test/chatamari/379.jpeg                              \b\b\b\b  1%\b\b\b\b\b  OK \n",
            "Extracting  dataset/test/chatamari/381.jpeg                              \b\b\b\b  1%\b\b\b\b\b  OK \n",
            "Extracting  dataset/test/chatamari/387.jpeg                              \b\b\b\b  1%\b\b\b\b\b  OK \n",
            "Extracting  dataset/test/chatamari/391.jpeg                              \b\b\b\b  1%\b\b\b\b\b  OK \n",
            "Extracting  dataset/test/chatamari/400.jpeg                              \b\b\b\b  1%\b\b\b\b\b  OK \n",
            "Extracting  dataset/test/chatamari/41.jpeg                               \b\b\b\b  1%\b\b\b\b\b  OK \n",
            "Extracting  dataset/test/chatamari/57.jpeg                               \b\b\b\b  1%\b\b\b\b\b  OK \n",
            "Extracting  dataset/test/chatamari/59.jpeg                               \b\b\b\b  1%\b\b\b\b\b  OK \n",
            "Extracting  dataset/test/chatamari/68.jpeg                               \b\b\b\b  2%\b\b\b\b\b  OK \n",
            "Extracting  dataset/test/chatamari/71.jpeg                               \b\b\b\b  2%\b\b\b\b\b  OK \n",
            "Extracting  dataset/test/chatamari/76.jpeg                               \b\b\b\b  2%\b\b\b\b\b  OK \n",
            "Extracting  dataset/test/chatamari/83.jpeg                               \b\b\b\b  2%\b\b\b\b\b  OK \n",
            "Creating    dataset/test/chhoila                                      OK\n",
            "Extracting  dataset/test/chhoila/105.jpeg                                \b\b\b\b  2%\b\b\b\b\b  OK \n",
            "Extracting  dataset/test/chhoila/106.jpeg                                \b\b\b\b  2%\b\b\b\b\b  OK \n",
            "Extracting  dataset/test/chhoila/122.jpeg                                \b\b\b\b  2%\b\b\b\b\b  OK \n",
            "Extracting  dataset/test/chhoila/124.jpeg                                \b\b\b\b  2%\b\b\b\b\b  OK \n",
            "Extracting  dataset/test/chhoila/126.jpeg                                \b\b\b\b  2%\b\b\b\b\b  OK \n",
            "Extracting  dataset/test/chhoila/132.jpeg                                \b\b\b\b  2%\b\b\b\b\b  OK \n",
            "Extracting  dataset/test/chhoila/165.jpeg                                \b\b\b\b  2%\b\b\b\b\b  OK \n",
            "Extracting  dataset/test/chhoila/17.jpeg                                 \b\b\b\b  2%\b\b\b\b\b  OK \n",
            "Extracting  dataset/test/chhoila/182.jpeg                                \b\b\b\b  2%\b\b\b\b\b  OK \n",
            "Extracting  dataset/test/chhoila/212.jpeg                                \b\b\b\b  2%\b\b\b\b\b  OK \n",
            "Extracting  dataset/test/chhoila/214.jpeg                                \b\b\b\b  2%\b\b\b\b\b  OK \n",
            "Extracting  dataset/test/chhoila/215.jpeg                                \b\b\b\b  2%\b\b\b\b\b  OK \n",
            "Extracting  dataset/test/chhoila/233.jpeg                                \b\b\b\b  2%\b\b\b\b\b  OK \n",
            "Extracting  dataset/test/chhoila/250.jpeg                                \b\b\b\b  2%\b\b\b\b\b  OK \n",
            "Extracting  dataset/test/chhoila/252.jpeg                                \b\b\b\b  2%\b\b\b\b\b  OK \n",
            "Extracting  dataset/test/chhoila/259.jpeg                                \b\b\b\b  2%\b\b\b\b\b  OK \n",
            "Extracting  dataset/test/chhoila/299.jpeg                                \b\b\b\b  3%\b\b\b\b\b  OK \n",
            "Extracting  dataset/test/chhoila/303.jpeg                                \b\b\b\b  3%\b\b\b\b\b  OK \n",
            "Extracting  dataset/test/chhoila/315.jpeg                                \b\b\b\b  3%\b\b\b\b\b  OK \n",
            "Extracting  dataset/test/chhoila/337.jpeg                                \b\b\b\b  3%\b\b\b\b\b  OK \n",
            "Extracting  dataset/test/chhoila/345.jpeg                                \b\b\b\b  3%\b\b\b\b\b  OK \n",
            "Extracting  dataset/test/chhoila/348.jpeg                                \b\b\b\b  3%\b\b\b\b\b  OK \n",
            "Extracting  dataset/test/chhoila/350.jpeg                                \b\b\b\b  3%\b\b\b\b\b  OK \n",
            "Extracting  dataset/test/chhoila/353.jpeg                                \b\b\b\b  3%\b\b\b\b\b  OK \n",
            "Extracting  dataset/test/chhoila/40.jpeg                                 \b\b\b\b  3%\b\b\b\b\b  OK \n",
            "Extracting  dataset/test/chhoila/41.jpeg                                 \b\b\b\b  3%\b\b\b\b\b  OK \n",
            "Extracting  dataset/test/chhoila/5.jpeg                                  \b\b\b\b  3%\b\b\b\b\b  OK \n",
            "Extracting  dataset/test/chhoila/55.jpeg                                 \b\b\b\b  3%\b\b\b\b\b  OK \n",
            "Extracting  dataset/test/chhoila/63.jpeg                                 \b\b\b\b  3%\b\b\b\b\b  OK \n",
            "Extracting  dataset/test/chhoila/80.jpeg                                 \b\b\b\b  3%\b\b\b\b\b  OK \n",
            "Creating    dataset/test/dalbhat                                      OK\n",
            "Extracting  dataset/test/dalbhat/10.jpeg                                 \b\b\b\b  3%\b\b\b\b\b  OK \n",
            "Extracting  dataset/test/dalbhat/101.jpeg                                \b\b\b\b  3%\b\b\b\b\b  OK \n",
            "Extracting  dataset/test/dalbhat/102.jpeg                                \b\b\b\b  3%\b\b\b\b\b  OK \n",
            "Extracting  dataset/test/dalbhat/119.jpeg                                \b\b\b\b  4%\b\b\b\b\b  OK \n",
            "Extracting  dataset/test/dalbhat/126.jpeg                                \b\b\b\b  4%\b\b\b\b\b  OK \n",
            "Extracting  dataset/test/dalbhat/154.jpeg                                \b\b\b\b  4%\b\b\b\b\b  OK \n",
            "Extracting  dataset/test/dalbhat/158.jpeg                                \b\b\b\b  4%\b\b\b\b\b  OK \n",
            "Extracting  dataset/test/dalbhat/163.jpeg                                \b\b\b\b  4%\b\b\b\b\b  OK \n",
            "Extracting  dataset/test/dalbhat/174 (2).jpeg                            \b\b\b\b  4%\b\b\b\b\b  OK \n",
            "Extracting  dataset/test/dalbhat/18.jpeg                                 \b\b\b\b  4%\b\b\b\b\b  OK \n",
            "Extracting  dataset/test/dalbhat/19.jpeg                                 \b\b\b\b  4%\b\b\b\b\b  OK \n",
            "Extracting  dataset/test/dalbhat/192.jpeg                                \b\b\b\b  4%\b\b\b\b\b  OK \n",
            "Extracting  dataset/test/dalbhat/193.jpeg                                \b\b\b\b  5%\b\b\b\b\b  OK \n",
            "Extracting  dataset/test/dalbhat/195.jpeg                                \b\b\b\b  5%\b\b\b\b\b  OK \n",
            "Extracting  dataset/test/dalbhat/197.jpeg                                \b\b\b\b  5%\b\b\b\b\b  OK \n",
            "Extracting  dataset/test/dalbhat/198.jpeg                                \b\b\b\b  5%\b\b\b\b\b  OK \n",
            "Extracting  dataset/test/dalbhat/20.jpeg                                 \b\b\b\b  5%\b\b\b\b\b  OK \n",
            "Extracting  dataset/test/dalbhat/209.jpeg                                \b\b\b\b  5%\b\b\b\b\b  OK \n",
            "Extracting  dataset/test/dalbhat/233.jpeg                                \b\b\b\b  5%\b\b\b\b\b  OK \n",
            "Extracting  dataset/test/dalbhat/236.jpeg                                \b\b\b\b  5%\b\b\b\b\b  OK \n",
            "Extracting  dataset/test/dalbhat/244.jpeg                                \b\b\b\b  5%\b\b\b\b\b  OK \n",
            "Extracting  dataset/test/dalbhat/248.jpeg                                \b\b\b\b  5%\b\b\b\b\b  OK \n",
            "Extracting  dataset/test/dalbhat/260.jpeg                                \b\b\b\b  5%\b\b\b\b\b  OK \n",
            "Extracting  dataset/test/dalbhat/262.jpeg                                \b\b\b\b  5%\b\b\b\b\b  OK \n",
            "Extracting  dataset/test/dalbhat/264.jpeg                                \b\b\b\b  5%\b\b\b\b\b  OK \n",
            "Extracting  dataset/test/dalbhat/265.jpeg                                \b\b\b\b  5%\b\b\b\b\b  OK \n",
            "Extracting  dataset/test/dalbhat/268.jpeg                                \b\b\b\b  5%\b\b\b\b\b  OK \n",
            "Extracting  dataset/test/dalbhat/271.jpeg                                \b\b\b\b  5%\b\b\b\b\b  OK \n",
            "Extracting  dataset/test/dalbhat/275.jpeg                                \b\b\b\b  5%\b\b\b\b\b  OK \n",
            "Extracting  dataset/test/dalbhat/279.jpeg                                \b\b\b\b  5%\b\b\b\b\b  OK \n",
            "Extracting  dataset/test/dalbhat/283.jpeg                                \b\b\b\b  5%\b\b\b\b\b  OK \n",
            "Extracting  dataset/test/dalbhat/294.jpeg                                \b\b\b\b  5%\b\b\b\b\b  OK \n",
            "Extracting  dataset/test/dalbhat/295.jpeg                                \b\b\b\b  5%\b\b\b\b\b  OK \n",
            "Extracting  dataset/test/dalbhat/303.jpeg                                \b\b\b\b  5%\b\b\b\b\b  OK \n",
            "Extracting  dataset/test/dalbhat/342.jpeg                                \b\b\b\b  5%\b\b\b\b\b  OK \n",
            "Extracting  dataset/test/dalbhat/351.jpeg                                \b\b\b\b  5%\b\b\b\b\b  OK \n",
            "Extracting  dataset/test/dalbhat/355.jpeg                                \b\b\b\b  5%\b\b\b\b\b  OK \n",
            "Extracting  dataset/test/dalbhat/371.jpeg                                \b\b\b\b  5%\b\b\b\b\b  OK \n",
            "Extracting  dataset/test/dalbhat/381.jpeg                                \b\b\b\b  5%\b\b\b\b\b  OK \n",
            "Extracting  dataset/test/dalbhat/384.jpeg                                \b\b\b\b  5%\b\b\b\b\b  OK \n",
            "Extracting  dataset/test/dalbhat/393.jpeg                                \b\b\b\b  5%\b\b\b\b\b  OK \n",
            "Extracting  dataset/test/dalbhat/398.jpeg                                \b\b\b\b  5%\b\b\b\b\b  OK \n",
            "Extracting  dataset/test/dalbhat/404.jpeg                                \b\b\b\b  5%\b\b\b\b\b  OK \n",
            "Extracting  dataset/test/dalbhat/406.jpeg                                \b\b\b\b  5%\b\b\b\b\b  OK \n",
            "Extracting  dataset/test/dalbhat/412.jpeg                                \b\b\b\b  5%\b\b\b\b\b  OK \n",
            "Extracting  dataset/test/dalbhat/414.jpeg                                \b\b\b\b  5%\b\b\b\b\b  OK \n",
            "Extracting  dataset/test/dalbhat/46.jpeg                                 \b\b\b\b  5%\b\b\b\b\b  OK \n",
            "Extracting  dataset/test/dalbhat/47.jpeg                                 \b\b\b\b  6%\b\b\b\b\b  OK \n",
            "Extracting  dataset/test/dalbhat/51.jpeg                                 \b\b\b\b  6%\b\b\b\b\b  OK \n",
            "Extracting  dataset/test/dalbhat/63.jpeg                                 \b\b\b\b  6%\b\b\b\b\b  OK \n",
            "Extracting  dataset/test/dalbhat/81.jpeg                                 \b\b\b\b  6%\b\b\b\b\b  OK \n",
            "Extracting  dataset/test/dalbhat/83.jpeg                                 \b\b\b\b  6%\b\b\b\b\b  OK \n",
            "Extracting  dataset/test/dalbhat/85.jpeg                                 \b\b\b\b  6%\b\b\b\b\b  OK \n",
            "Creating    dataset/test/dhindo                                       OK\n",
            "Extracting  dataset/test/dhindo/101.jpeg                                 \b\b\b\b  6%\b\b\b\b\b  OK \n",
            "Extracting  dataset/test/dhindo/116.jpeg                                 \b\b\b\b  6%\b\b\b\b\b  OK \n",
            "Extracting  dataset/test/dhindo/117.jpeg                                 \b\b\b\b  6%\b\b\b\b\b  OK \n",
            "Extracting  dataset/test/dhindo/123.jpeg                                 \b\b\b\b  6%\b\b\b\b\b  OK \n",
            "Extracting  dataset/test/dhindo/130.jpeg                                 \b\b\b\b  6%\b\b\b\b\b  OK \n",
            "Extracting  dataset/test/dhindo/145.jpeg                                 \b\b\b\b  6%\b\b\b\b\b  OK \n",
            "Extracting  dataset/test/dhindo/146.jpeg                                 \b\b\b\b  6%\b\b\b\b\b  OK \n",
            "Extracting  dataset/test/dhindo/16.jpeg                                  \b\b\b\b  6%\b\b\b\b\b  OK \n",
            "Extracting  dataset/test/dhindo/18.jpeg                                  \b\b\b\b  6%\b\b\b\b\b  OK \n",
            "Extracting  dataset/test/dhindo/22.jpeg                                  \b\b\b\b  6%\b\b\b\b\b  OK \n",
            "Extracting  dataset/test/dhindo/29.jpeg                                  \b\b\b\b  6%\b\b\b\b\b  OK \n",
            "Extracting  dataset/test/dhindo/3.jpeg                                   \b\b\b\b  6%\b\b\b\b\b  OK \n",
            "Extracting  dataset/test/dhindo/30.jpeg                                  \b\b\b\b  6%\b\b\b\b\b  OK \n",
            "Extracting  dataset/test/dhindo/32.jpeg                                  \b\b\b\b  6%\b\b\b\b\b  OK \n",
            "Extracting  dataset/test/dhindo/33.jpeg                                  \b\b\b\b  6%\b\b\b\b\b  OK \n",
            "Extracting  dataset/test/dhindo/47.jpeg                                  \b\b\b\b  6%\b\b\b\b\b  OK \n",
            "Extracting  dataset/test/dhindo/57.jpeg                                  \b\b\b\b  6%\b\b\b\b\b  OK \n",
            "Extracting  dataset/test/dhindo/58.jpeg                                  \b\b\b\b  6%\b\b\b\b\b  OK \n",
            "Extracting  dataset/test/dhindo/6.jpeg                                   \b\b\b\b  6%\b\b\b\b\b  OK \n",
            "Extracting  dataset/test/dhindo/60.jpeg                                  \b\b\b\b  6%\b\b\b\b\b  OK \n",
            "Extracting  dataset/test/dhindo/62.jpeg                                  \b\b\b\b  6%\b\b\b\b\b  OK \n",
            "Extracting  dataset/test/dhindo/66.jpeg                                  \b\b\b\b  6%\b\b\b\b\b  OK \n",
            "Extracting  dataset/test/dhindo/76.jpeg                                  \b\b\b\b  6%\b\b\b\b\b  OK \n",
            "Extracting  dataset/test/dhindo/79.jpeg                                  \b\b\b\b  6%\b\b\b\b\b  OK \n",
            "Extracting  dataset/test/dhindo/81.jpeg                                  \b\b\b\b  6%\b\b\b\b\b  OK \n",
            "Extracting  dataset/test/dhindo/83.jpeg                                  \b\b\b\b  6%\b\b\b\b\b  OK \n",
            "Extracting  dataset/test/dhindo/93.jpeg                                  \b\b\b\b  7%\b\b\b\b\b  OK \n",
            "Creating    dataset/test/gundruk                                      OK\n",
            "Extracting  dataset/test/gundruk/1.jpeg                                  \b\b\b\b  7%\b\b\b\b\b  OK \n",
            "Extracting  dataset/test/gundruk/10.jpeg                                 \b\b\b\b  7%\b\b\b\b\b  OK \n",
            "Extracting  dataset/test/gundruk/11.jpeg                                 \b\b\b\b  7%\b\b\b\b\b  OK \n",
            "Extracting  dataset/test/gundruk/19.jpeg                                 \b\b\b\b  7%\b\b\b\b\b  OK \n",
            "Extracting  dataset/test/gundruk/2.jpeg                                  \b\b\b\b  7%\b\b\b\b\b  OK \n",
            "Extracting  dataset/test/gundruk/20.jpeg                                 \b\b\b\b  7%\b\b\b\b\b  OK \n",
            "Extracting  dataset/test/gundruk/26.jpeg                                 \b\b\b\b  7%\b\b\b\b\b  OK \n",
            "Extracting  dataset/test/gundruk/29.jpeg                                 \b\b\b\b  7%\b\b\b\b\b  OK \n",
            "Extracting  dataset/test/gundruk/32.jpeg                                 \b\b\b\b  7%\b\b\b\b\b  OK \n",
            "Extracting  dataset/test/gundruk/40.jpeg                                 \b\b\b\b  7%\b\b\b\b\b  OK \n",
            "Extracting  dataset/test/gundruk/44.jpeg                                 \b\b\b\b  7%\b\b\b\b\b  OK \n",
            "Extracting  dataset/test/gundruk/46.jpeg                                 \b\b\b\b  7%\b\b\b\b\b  OK \n",
            "Extracting  dataset/test/gundruk/47.jpeg                                 \b\b\b\b  7%\b\b\b\b\b  OK \n",
            "Extracting  dataset/test/gundruk/49.jpeg                                 \b\b\b\b  7%\b\b\b\b\b  OK \n",
            "Extracting  dataset/test/gundruk/52.jpeg                                 \b\b\b\b  7%\b\b\b\b\b  OK \n",
            "Extracting  dataset/test/gundruk/73.jpeg                                 \b\b\b\b  7%\b\b\b\b\b  OK \n",
            "Extracting  dataset/test/gundruk/75.jpeg                                 \b\b\b\b  7%\b\b\b\b\b  OK \n",
            "Extracting  dataset/test/gundruk/8.jpeg                                  \b\b\b\b  7%\b\b\b\b\b  OK \n",
            "Extracting  dataset/test/gundruk/80.jpeg                                 \b\b\b\b  7%\b\b\b\b\b  OK \n",
            "Extracting  dataset/test/gundruk/90.jpeg                                 \b\b\b\b  7%\b\b\b\b\b  OK \n",
            "Creating    dataset/test/kheer                                        OK\n",
            "Extracting  dataset/test/kheer/100.jpeg                                  \b\b\b\b  7%\b\b\b\b\b  OK \n",
            "Extracting  dataset/test/kheer/102.jpeg                                  \b\b\b\b  7%\b\b\b\b\b  OK \n",
            "Extracting  dataset/test/kheer/109.jpeg                                  \b\b\b\b  7%\b\b\b\b\b  OK \n",
            "Extracting  dataset/test/kheer/115.jpeg                                  \b\b\b\b  7%\b\b\b\b\b  OK \n",
            "Extracting  dataset/test/kheer/121.jpeg                                  \b\b\b\b  7%\b\b\b\b\b  OK \n",
            "Extracting  dataset/test/kheer/122.jpeg                                  \b\b\b\b  7%\b\b\b\b\b  OK \n",
            "Extracting  dataset/test/kheer/128.jpeg                                  \b\b\b\b  7%\b\b\b\b\b  OK \n",
            "Extracting  dataset/test/kheer/134.jpeg                                  \b\b\b\b  8%\b\b\b\b\b  OK \n",
            "Extracting  dataset/test/kheer/148.jpeg                                  \b\b\b\b  8%\b\b\b\b\b  OK \n",
            "Extracting  dataset/test/kheer/153.jpeg                                  \b\b\b\b  8%\b\b\b\b\b  OK \n",
            "Extracting  dataset/test/kheer/161.jpeg                                  \b\b\b\b  8%\b\b\b\b\b  OK \n",
            "Extracting  dataset/test/kheer/166.jpeg                                  \b\b\b\b  8%\b\b\b\b\b  OK \n",
            "Extracting  dataset/test/kheer/167.jpeg                                  \b\b\b\b  8%\b\b\b\b\b  OK \n",
            "Extracting  dataset/test/kheer/171.jpeg                                  \b\b\b\b  8%\b\b\b\b\b  OK \n",
            "Extracting  dataset/test/kheer/175.jpeg                                  \b\b\b\b  8%\b\b\b\b\b  OK \n",
            "Extracting  dataset/test/kheer/180 (2).jpeg                              \b\b\b\b  8%\b\b\b\b\b  OK \n",
            "Extracting  dataset/test/kheer/188.jpeg                                  \b\b\b\b  8%\b\b\b\b\b  OK \n",
            "Extracting  dataset/test/kheer/189.jpeg                                  \b\b\b\b  8%\b\b\b\b\b  OK \n",
            "Extracting  dataset/test/kheer/191.jpeg                                  \b\b\b\b  8%\b\b\b\b\b  OK \n",
            "Extracting  dataset/test/kheer/193.jpeg                                  \b\b\b\b  8%\b\b\b\b\b  OK \n",
            "Extracting  dataset/test/kheer/204.jpeg                                  \b\b\b\b  8%\b\b\b\b\b  OK \n",
            "Extracting  dataset/test/kheer/210.jpeg                                  \b\b\b\b  8%\b\b\b\b\b  OK \n",
            "Extracting  dataset/test/kheer/215.jpeg                                  \b\b\b\b  8%\b\b\b\b\b  OK \n",
            "Extracting  dataset/test/kheer/220.jpeg                                  \b\b\b\b  8%\b\b\b\b\b  OK \n",
            "Extracting  dataset/test/kheer/228.jpeg                                  \b\b\b\b  8%\b\b\b\b\b  OK \n",
            "Extracting  dataset/test/kheer/230.jpeg                                  \b\b\b\b  8%\b\b\b\b\b  OK \n",
            "Extracting  dataset/test/kheer/240.jpeg                                  \b\b\b\b  8%\b\b\b\b\b  OK \n",
            "Extracting  dataset/test/kheer/241.jpeg                                  \b\b\b\b  8%\b\b\b\b\b  OK \n",
            "Extracting  dataset/test/kheer/252.jpeg                                  \b\b\b\b  8%\b\b\b\b\b  OK \n",
            "Extracting  dataset/test/kheer/259.jpeg                                  \b\b\b\b  8%\b\b\b\b\b  OK \n",
            "Extracting  dataset/test/kheer/263.jpeg                                  \b\b\b\b  8%\b\b\b\b\b  OK \n",
            "Extracting  dataset/test/kheer/264.jpeg                                  \b\b\b\b  8%\b\b\b\b\b  OK \n",
            "Extracting  dataset/test/kheer/265.jpeg                                  \b\b\b\b  8%\b\b\b\b\b  OK \n",
            "Extracting  dataset/test/kheer/267.jpeg                                  \b\b\b\b  8%\b\b\b\b\b  OK \n",
            "Extracting  dataset/test/kheer/269.jpeg                                  \b\b\b\b  9%\b\b\b\b\b  OK \n",
            "Extracting  dataset/test/kheer/274.jpeg                                  \b\b\b\b  9%\b\b\b\b\b  OK \n",
            "Extracting  dataset/test/kheer/275.jpeg                                  \b\b\b\b  9%\b\b\b\b\b  OK \n",
            "Extracting  dataset/test/kheer/279.jpeg                                  \b\b\b\b  9%\b\b\b\b\b  OK \n",
            "Extracting  dataset/test/kheer/280.jpeg                                  \b\b\b\b  9%\b\b\b\b\b  OK \n",
            "Extracting  dataset/test/kheer/284.jpeg                                  \b\b\b\b  9%\b\b\b\b\b  OK \n",
            "Extracting  dataset/test/kheer/288.jpeg                                  \b\b\b\b  9%\b\b\b\b\b  OK \n",
            "Extracting  dataset/test/kheer/290.jpeg                                  \b\b\b\b  9%\b\b\b\b\b  OK \n",
            "Extracting  dataset/test/kheer/292.jpeg                                  \b\b\b\b  9%\b\b\b\b\b  OK \n",
            "Extracting  dataset/test/kheer/310.jpeg                                  \b\b\b\b  9%\b\b\b\b\b  OK \n",
            "Extracting  dataset/test/kheer/317.jpeg                                  \b\b\b\b  9%\b\b\b\b\b  OK \n",
            "Extracting  dataset/test/kheer/318.jpeg                                  \b\b\b\b  9%\b\b\b\b\b  OK \n",
            "Extracting  dataset/test/kheer/319.jpeg                                  \b\b\b\b  9%\b\b\b\b\b  OK \n",
            "Extracting  dataset/test/kheer/326.jpeg                                  \b\b\b\b  9%\b\b\b\b\b  OK \n",
            "Extracting  dataset/test/kheer/330.jpeg                                  \b\b\b\b  9%\b\b\b\b\b  OK \n",
            "Extracting  dataset/test/kheer/344.jpeg                                  \b\b\b\b  9%\b\b\b\b\b  OK \n",
            "Extracting  dataset/test/kheer/347.jpeg                                  \b\b\b\b  9%\b\b\b\b\b  OK \n",
            "Extracting  dataset/test/kheer/357.jpeg                                  \b\b\b\b  9%\b\b\b\b 10%\b\b\b\b\b  OK \n",
            "Extracting  dataset/test/kheer/358.jpeg                                  \b\b\b\b 10%\b\b\b\b\b  OK \n",
            "Extracting  dataset/test/kheer/361.jpeg                                  \b\b\b\b 10%\b\b\b\b\b  OK \n",
            "Extracting  dataset/test/kheer/37.jpeg                                   \b\b\b\b 10%\b\b\b\b\b  OK \n",
            "Extracting  dataset/test/kheer/370.jpeg                                  \b\b\b\b 10%\b\b\b\b\b  OK \n",
            "Extracting  dataset/test/kheer/371.jpeg                                  \b\b\b\b 10%\b\b\b\b\b  OK \n",
            "Extracting  dataset/test/kheer/376.jpeg                                  \b\b\b\b 10%\b\b\b\b\b  OK \n",
            "Extracting  dataset/test/kheer/382.jpeg                                  \b\b\b\b 10%\b\b\b\b\b  OK \n",
            "Extracting  dataset/test/kheer/384.jpeg                                  \b\b\b\b 10%\b\b\b\b\b  OK \n",
            "Extracting  dataset/test/kheer/392.jpeg                                  \b\b\b\b 10%\b\b\b\b\b  OK \n",
            "Extracting  dataset/test/kheer/397.jpeg                                  \b\b\b\b 10%\b\b\b\b\b  OK \n",
            "Extracting  dataset/test/kheer/44.jpeg                                   \b\b\b\b 10%\b\b\b\b\b  OK \n",
            "Extracting  dataset/test/kheer/53.jpeg                                   \b\b\b\b 10%\b\b\b\b\b  OK \n",
            "Extracting  dataset/test/kheer/55.jpeg                                   \b\b\b\b 10%\b\b\b\b\b  OK \n",
            "Extracting  dataset/test/kheer/60.jpeg                                   \b\b\b\b 10%\b\b\b\b\b  OK \n",
            "Extracting  dataset/test/kheer/64.jpeg                                   \b\b\b\b 10%\b\b\b\b\b  OK \n",
            "Extracting  dataset/test/kheer/68.jpeg                                   \b\b\b\b 10%\b\b\b\b\b  OK \n",
            "Extracting  dataset/test/kheer/70.jpeg                                   \b\b\b\b 10%\b\b\b\b\b  OK \n",
            "Extracting  dataset/test/kheer/73.jpeg                                   \b\b\b\b 10%\b\b\b\b\b  OK \n",
            "Extracting  dataset/test/kheer/82.jpeg                                   \b\b\b\b 10%\b\b\b\b\b  OK \n",
            "Extracting  dataset/test/kheer/90.jpeg                                   \b\b\b\b 10%\b\b\b\b\b  OK \n",
            "Extracting  dataset/test/kheer/97.jpeg                                   \b\b\b\b 11%\b\b\b\b\b  OK \n",
            "Creating    dataset/test/momo                                         OK\n",
            "Extracting  dataset/test/momo/1.jpeg                                     \b\b\b\b 11%\b\b\b\b\b  OK \n",
            "Extracting  dataset/test/momo/101.jpeg                                   \b\b\b\b 11%\b\b\b\b\b  OK \n",
            "Extracting  dataset/test/momo/104.jpeg                                   \b\b\b\b 11%\b\b\b\b\b  OK \n",
            "Extracting  dataset/test/momo/110.jpeg                                   \b\b\b\b 11%\b\b\b\b\b  OK \n",
            "Extracting  dataset/test/momo/116.jpeg                                   \b\b\b\b 11%\b\b\b\b\b  OK \n",
            "Extracting  dataset/test/momo/122.jpeg                                   \b\b\b\b 11%\b\b\b\b\b  OK \n",
            "Extracting  dataset/test/momo/125.jpeg                                   \b\b\b\b 11%\b\b\b\b\b  OK \n",
            "Extracting  dataset/test/momo/130.jpeg                                   \b\b\b\b 11%\b\b\b\b\b  OK \n",
            "Extracting  dataset/test/momo/131.jpeg                                   \b\b\b\b 11%\b\b\b\b\b  OK \n",
            "Extracting  dataset/test/momo/134.jpeg                                   \b\b\b\b 11%\b\b\b\b\b  OK \n",
            "Extracting  dataset/test/momo/141.jpeg                                   \b\b\b\b 11%\b\b\b\b\b  OK \n",
            "Extracting  dataset/test/momo/142.jpeg                                   \b\b\b\b 11%\b\b\b\b\b  OK \n",
            "Extracting  dataset/test/momo/145.jpeg                                   \b\b\b\b 11%\b\b\b\b\b  OK \n",
            "Extracting  dataset/test/momo/16.jpeg                                    \b\b\b\b 11%\b\b\b\b\b  OK \n",
            "Extracting  dataset/test/momo/171.jpeg                                   \b\b\b\b 11%\b\b\b\b\b  OK \n",
            "Extracting  dataset/test/momo/176.jpeg                                   \b\b\b\b 11%\b\b\b\b\b  OK \n",
            "Extracting  dataset/test/momo/180.jpeg                                   \b\b\b\b 11%\b\b\b\b\b  OK \n",
            "Extracting  dataset/test/momo/187.jpeg                                   \b\b\b\b 11%\b\b\b\b\b  OK \n",
            "Extracting  dataset/test/momo/190.jpeg                                   \b\b\b\b 11%\b\b\b\b\b  OK \n",
            "Extracting  dataset/test/momo/196.jpeg                                   \b\b\b\b 11%\b\b\b\b\b  OK \n",
            "Extracting  dataset/test/momo/203.jpeg                                   \b\b\b\b 11%\b\b\b\b 12%\b\b\b\b\b  OK \n",
            "Extracting  dataset/test/momo/205.jpeg                                   \b\b\b\b 12%\b\b\b\b\b  OK \n",
            "Extracting  dataset/test/momo/210.jpeg                                   \b\b\b\b 12%\b\b\b\b\b  OK \n",
            "Extracting  dataset/test/momo/216.jpeg                                   \b\b\b\b 12%\b\b\b\b\b  OK \n",
            "Extracting  dataset/test/momo/220.jpeg                                   \b\b\b\b 12%\b\b\b\b\b  OK \n",
            "Extracting  dataset/test/momo/222.jpeg                                   \b\b\b\b 12%\b\b\b\b\b  OK \n",
            "Extracting  dataset/test/momo/228.jpeg                                   \b\b\b\b 12%\b\b\b\b\b  OK \n",
            "Extracting  dataset/test/momo/229.jpeg                                   \b\b\b\b 12%\b\b\b\b\b  OK \n",
            "Extracting  dataset/test/momo/23.jpeg                                    \b\b\b\b 12%\b\b\b\b\b  OK \n",
            "Extracting  dataset/test/momo/233.jpeg                                   \b\b\b\b 12%\b\b\b\b\b  OK \n",
            "Extracting  dataset/test/momo/234.jpeg                                   \b\b\b\b 12%\b\b\b\b\b  OK \n",
            "Extracting  dataset/test/momo/236.jpeg                                   \b\b\b\b 12%\b\b\b\b\b  OK \n",
            "Extracting  dataset/test/momo/238.jpeg                                   \b\b\b\b 12%\b\b\b\b\b  OK \n",
            "Extracting  dataset/test/momo/239.jpeg                                   \b\b\b\b 12%\b\b\b\b\b  OK \n",
            "Extracting  dataset/test/momo/249.jpeg                                   \b\b\b\b 12%\b\b\b\b\b  OK \n",
            "Extracting  dataset/test/momo/271.jpeg                                   \b\b\b\b 12%\b\b\b\b\b  OK \n",
            "Extracting  dataset/test/momo/28.jpeg                                    \b\b\b\b 12%\b\b\b\b\b  OK \n",
            "Extracting  dataset/test/momo/285.jpeg                                   \b\b\b\b 12%\b\b\b\b\b  OK \n",
            "Extracting  dataset/test/momo/29.jpeg                                    \b\b\b\b 12%\b\b\b\b\b  OK \n",
            "Extracting  dataset/test/momo/293.jpeg                                   \b\b\b\b 12%\b\b\b\b\b  OK \n",
            "Extracting  dataset/test/momo/294.jpeg                                   \b\b\b\b 12%\b\b\b\b\b  OK \n",
            "Extracting  dataset/test/momo/297.jpeg                                   \b\b\b\b 13%\b\b\b\b\b  OK \n",
            "Extracting  dataset/test/momo/3.jpeg                                     \b\b\b\b 13%\b\b\b\b\b  OK \n",
            "Extracting  dataset/test/momo/309.jpeg                                   \b\b\b\b 13%\b\b\b\b\b  OK \n",
            "Extracting  dataset/test/momo/314.jpeg                                   \b\b\b\b 13%\b\b\b\b\b  OK \n",
            "Extracting  dataset/test/momo/326.jpeg                                   \b\b\b\b 13%\b\b\b\b\b  OK \n",
            "Extracting  dataset/test/momo/327.jpeg                                   \b\b\b\b 13%\b\b\b\b\b  OK \n",
            "Extracting  dataset/test/momo/328.jpeg                                   \b\b\b\b 13%\b\b\b\b\b  OK \n",
            "Extracting  dataset/test/momo/331.jpeg                                   \b\b\b\b 13%\b\b\b\b\b  OK \n",
            "Extracting  dataset/test/momo/336.jpeg                                   \b\b\b\b 13%\b\b\b\b\b  OK \n",
            "Extracting  dataset/test/momo/338.jpeg                                   \b\b\b\b 13%\b\b\b\b\b  OK \n",
            "Extracting  dataset/test/momo/347.jpeg                                   \b\b\b\b 13%\b\b\b\b\b  OK \n",
            "Extracting  dataset/test/momo/358.jpeg                                   \b\b\b\b 13%\b\b\b\b\b  OK \n",
            "Extracting  dataset/test/momo/361.jpeg                                   \b\b\b\b 13%\b\b\b\b\b  OK \n",
            "Extracting  dataset/test/momo/364.jpeg                                   \b\b\b\b 13%\b\b\b\b\b  OK \n",
            "Extracting  dataset/test/momo/37.jpeg                                    \b\b\b\b 13%\b\b\b\b\b  OK \n",
            "Extracting  dataset/test/momo/376.jpeg                                   \b\b\b\b 13%\b\b\b\b\b  OK \n",
            "Extracting  dataset/test/momo/40.jpeg                                    \b\b\b\b 13%\b\b\b\b\b  OK \n",
            "Extracting  dataset/test/momo/47.jpeg                                    \b\b\b\b 13%\b\b\b\b\b  OK \n",
            "Extracting  dataset/test/momo/48.jpeg                                    \b\b\b\b 13%\b\b\b\b\b  OK \n",
            "Extracting  dataset/test/momo/55.jpeg                                    \b\b\b\b 13%\b\b\b\b\b  OK \n",
            "Extracting  dataset/test/momo/56.jpeg                                    \b\b\b\b 13%\b\b\b\b\b  OK \n",
            "Extracting  dataset/test/momo/59.jpeg                                    \b\b\b\b 13%\b\b\b\b\b  OK \n",
            "Extracting  dataset/test/momo/67.jpeg                                    \b\b\b\b 13%\b\b\b\b\b  OK \n",
            "Extracting  dataset/test/momo/69.jpeg                                    \b\b\b\b 14%\b\b\b\b\b  OK \n",
            "Extracting  dataset/test/momo/77.jpeg                                    \b\b\b\b 14%\b\b\b\b\b  OK \n",
            "Extracting  dataset/test/momo/86.jpeg                                    \b\b\b\b 14%\b\b\b\b\b  OK \n",
            "Extracting  dataset/test/momo/89.jpeg                                    \b\b\b\b 14%\b\b\b\b\b  OK \n",
            "Extracting  dataset/test/momo/90.jpeg                                    \b\b\b\b 14%\b\b\b\b\b  OK \n",
            "Creating    dataset/test/sekuwa                                       OK\n",
            "Extracting  dataset/test/sekuwa/1.jpeg                                   \b\b\b\b 14%\b\b\b\b\b  OK \n",
            "Extracting  dataset/test/sekuwa/104.jpeg                                 \b\b\b\b 14%\b\b\b\b\b  OK \n",
            "Extracting  dataset/test/sekuwa/117.jpeg                                 \b\b\b\b 14%\b\b\b\b\b  OK \n",
            "Extracting  dataset/test/sekuwa/118.jpeg                                 \b\b\b\b 14%\b\b\b\b\b  OK \n",
            "Extracting  dataset/test/sekuwa/132 (2).jpeg                             \b\b\b\b 14%\b\b\b\b\b  OK \n",
            "Extracting  dataset/test/sekuwa/141.jpeg                                 \b\b\b\b 14%\b\b\b\b\b  OK \n",
            "Extracting  dataset/test/sekuwa/150.jpeg                                 \b\b\b\b 14%\b\b\b\b\b  OK \n",
            "Extracting  dataset/test/sekuwa/151.jpeg                                 \b\b\b\b 14%\b\b\b\b\b  OK \n",
            "Extracting  dataset/test/sekuwa/162.jpeg                                 \b\b\b\b 14%\b\b\b\b\b  OK \n",
            "Extracting  dataset/test/sekuwa/167.jpeg                                 \b\b\b\b 14%\b\b\b\b\b  OK \n",
            "Extracting  dataset/test/sekuwa/18.jpeg                                  \b\b\b\b 14%\b\b\b\b\b  OK \n",
            "Extracting  dataset/test/sekuwa/185.jpeg                                 \b\b\b\b 14%\b\b\b\b\b  OK \n",
            "Extracting  dataset/test/sekuwa/187.jpeg                                 \b\b\b\b 14%\b\b\b\b\b  OK \n",
            "Extracting  dataset/test/sekuwa/188.jpeg                                 \b\b\b\b 14%\b\b\b\b\b  OK \n",
            "Extracting  dataset/test/sekuwa/199.jpeg                                 \b\b\b\b 14%\b\b\b\b\b  OK \n",
            "Extracting  dataset/test/sekuwa/2.jpeg                                   \b\b\b\b 14%\b\b\b\b\b  OK \n",
            "Extracting  dataset/test/sekuwa/200.jpeg                                 \b\b\b\b 14%\b\b\b\b\b  OK \n",
            "Extracting  dataset/test/sekuwa/224.jpeg                                 \b\b\b\b 14%\b\b\b\b\b  OK \n",
            "Extracting  dataset/test/sekuwa/228.jpeg                                 \b\b\b\b 15%\b\b\b\b\b  OK \n",
            "Extracting  dataset/test/sekuwa/246.jpeg                                 \b\b\b\b 15%\b\b\b\b\b  OK \n",
            "Extracting  dataset/test/sekuwa/26.jpeg                                  \b\b\b\b 15%\b\b\b\b\b  OK \n",
            "Extracting  dataset/test/sekuwa/260.jpeg                                 \b\b\b\b 15%\b\b\b\b\b  OK \n",
            "Extracting  dataset/test/sekuwa/280.jpeg                                 \b\b\b\b 15%\b\b\b\b\b  OK \n",
            "Extracting  dataset/test/sekuwa/288.jpeg                                 \b\b\b\b 15%\b\b\b\b\b  OK \n",
            "Extracting  dataset/test/sekuwa/29.jpeg                                  \b\b\b\b 15%\b\b\b\b\b  OK \n",
            "Extracting  dataset/test/sekuwa/296.jpeg                                 \b\b\b\b 15%\b\b\b\b\b  OK \n",
            "Extracting  dataset/test/sekuwa/3.jpeg                                   \b\b\b\b 15%\b\b\b\b\b  OK \n",
            "Extracting  dataset/test/sekuwa/40.jpeg                                  \b\b\b\b 15%\b\b\b\b\b  OK \n",
            "Extracting  dataset/test/sekuwa/51.jpeg                                  \b\b\b\b 15%\b\b\b\b\b  OK \n",
            "Extracting  dataset/test/sekuwa/56.jpeg                                  \b\b\b\b 15%\b\b\b\b\b  OK \n",
            "Extracting  dataset/test/sekuwa/7.jpeg                                   \b\b\b\b 15%\b\b\b\b\b  OK \n",
            "Extracting  dataset/test/sekuwa/72.jpeg                                  \b\b\b\b 15%\b\b\b\b\b  OK \n",
            "Extracting  dataset/test/sekuwa/73.jpeg                                  \b\b\b\b 15%\b\b\b\b\b  OK \n",
            "Extracting  dataset/test/sekuwa/85.jpeg                                  \b\b\b\b 16%\b\b\b\b\b  OK \n",
            "Creating    dataset/test/selroti                                      OK\n",
            "Extracting  dataset/test/selroti/1.jpeg                                  \b\b\b\b 16%\b\b\b\b\b  OK \n",
            "Extracting  dataset/test/selroti/126.jpeg                                \b\b\b\b 16%\b\b\b\b\b  OK \n",
            "Extracting  dataset/test/selroti/147.jpeg                                \b\b\b\b 16%\b\b\b\b\b  OK \n",
            "Extracting  dataset/test/selroti/150.jpeg                                \b\b\b\b 16%\b\b\b\b\b  OK \n",
            "Extracting  dataset/test/selroti/153.jpeg                                \b\b\b\b 16%\b\b\b\b\b  OK \n",
            "Extracting  dataset/test/selroti/154.jpeg                                \b\b\b\b 16%\b\b\b\b\b  OK \n",
            "Extracting  dataset/test/selroti/165.jpeg                                \b\b\b\b 16%\b\b\b\b\b  OK \n",
            "Extracting  dataset/test/selroti/172.jpeg                                \b\b\b\b 16%\b\b\b\b\b  OK \n",
            "Extracting  dataset/test/selroti/176 (2).jpeg                            \b\b\b\b 16%\b\b\b\b\b  OK \n",
            "Extracting  dataset/test/selroti/181.jpeg                                \b\b\b\b 16%\b\b\b\b\b  OK \n",
            "Extracting  dataset/test/selroti/187.jpeg                                \b\b\b\b 16%\b\b\b\b\b  OK \n",
            "Extracting  dataset/test/selroti/192.jpeg                                \b\b\b\b 16%\b\b\b\b\b  OK \n",
            "Extracting  dataset/test/selroti/197.jpeg                                \b\b\b\b 16%\b\b\b\b\b  OK \n",
            "Extracting  dataset/test/selroti/205.jpeg                                \b\b\b\b 16%\b\b\b\b\b  OK \n",
            "Extracting  dataset/test/selroti/222.jpeg                                \b\b\b\b 17%\b\b\b\b\b  OK \n",
            "Extracting  dataset/test/selroti/227.jpeg                                \b\b\b\b 17%\b\b\b\b\b  OK \n",
            "Extracting  dataset/test/selroti/248.jpeg                                \b\b\b\b 17%\b\b\b\b\b  OK \n",
            "Extracting  dataset/test/selroti/252.jpeg                                \b\b\b\b 17%\b\b\b\b\b  OK \n",
            "Extracting  dataset/test/selroti/253.jpeg                                \b\b\b\b 17%\b\b\b\b\b  OK \n",
            "Extracting  dataset/test/selroti/282.jpeg                                \b\b\b\b 17%\b\b\b\b\b  OK \n",
            "Extracting  dataset/test/selroti/317.jpeg                                \b\b\b\b 17%\b\b\b\b\b  OK \n",
            "Extracting  dataset/test/selroti/323.jpeg                                \b\b\b\b 17%\b\b\b\b\b  OK \n",
            "Extracting  dataset/test/selroti/328.jpeg                                \b\b\b\b 17%\b\b\b\b\b  OK \n",
            "Extracting  dataset/test/selroti/332.jpeg                                \b\b\b\b 17%\b\b\b\b\b  OK \n",
            "Extracting  dataset/test/selroti/333.jpeg                                \b\b\b\b 17%\b\b\b\b\b  OK \n",
            "Extracting  dataset/test/selroti/334.jpeg                                \b\b\b\b 17%\b\b\b\b\b  OK \n",
            "Extracting  dataset/test/selroti/348.jpeg                                \b\b\b\b 17%\b\b\b\b\b  OK \n",
            "Extracting  dataset/test/selroti/353.jpeg                                \b\b\b\b 17%\b\b\b\b\b  OK \n",
            "Extracting  dataset/test/selroti/374.jpeg                                \b\b\b\b 17%\b\b\b\b\b  OK \n",
            "Extracting  dataset/test/selroti/375.jpeg                                \b\b\b\b 17%\b\b\b\b\b  OK \n",
            "Extracting  dataset/test/selroti/376.jpeg                                \b\b\b\b 18%\b\b\b\b\b  OK \n",
            "Extracting  dataset/test/selroti/389.jpeg                                \b\b\b\b 18%\b\b\b\b\b  OK \n",
            "Extracting  dataset/test/selroti/390.jpeg                                \b\b\b\b 18%\b\b\b\b\b  OK \n",
            "Extracting  dataset/test/selroti/4.jpeg                                  \b\b\b\b 18%\b\b\b\b\b  OK \n",
            "Extracting  dataset/test/selroti/408.jpeg                                \b\b\b\b 18%\b\b\b\b\b  OK \n",
            "Extracting  dataset/test/selroti/412.jpeg                                \b\b\b\b 18%\b\b\b\b\b  OK \n",
            "Extracting  dataset/test/selroti/421.jpeg                                \b\b\b\b 18%\b\b\b\b\b  OK \n",
            "Extracting  dataset/test/selroti/424.jpeg                                \b\b\b\b 18%\b\b\b\b\b  OK \n",
            "Extracting  dataset/test/selroti/439.jpeg                                \b\b\b\b 18%\b\b\b\b\b  OK \n",
            "Extracting  dataset/test/selroti/440.jpeg                                \b\b\b\b 19%\b\b\b\b\b  OK \n",
            "Extracting  dataset/test/selroti/446.jpeg                                \b\b\b\b 19%\b\b\b\b\b  OK \n",
            "Extracting  dataset/test/selroti/450.jpeg                                \b\b\b\b 19%\b\b\b\b\b  OK \n",
            "Extracting  dataset/test/selroti/453.jpeg                                \b\b\b\b 19%\b\b\b\b\b  OK \n",
            "Extracting  dataset/test/selroti/454.jpeg                                \b\b\b\b 19%\b\b\b\b\b  OK \n",
            "Extracting  dataset/test/selroti/5.jpeg                                  \b\b\b\b 20%\b\b\b\b\b  OK \n",
            "Extracting  dataset/test/selroti/6.jpeg                                  \b\b\b\b 20%\b\b\b\b\b  OK \n",
            "Extracting  dataset/test/selroti/74.jpeg                                 \b\b\b\b 20%\b\b\b\b\b  OK \n",
            "Extracting  dataset/test/selroti/76.jpeg                                 \b\b\b\b 20%\b\b\b\b\b  OK \n",
            "Extracting  dataset/test/selroti/77.jpeg                                 \b\b\b\b 20%\b\b\b\b\b  OK \n",
            "Extracting  dataset/test/selroti/79.jpeg                                 \b\b\b\b 20%\b\b\b\b\b  OK \n",
            "Extracting  dataset/test/selroti/90.jpeg                                 \b\b\b\b 20%\b\b\b\b\b  OK \n",
            "Extracting  dataset/test/selroti/91.jpeg                                 \b\b\b\b 20%\b\b\b\b\b  OK \n",
            "Extracting  dataset/test/selroti/95.jpeg                                 \b\b\b\b 20%\b\b\b\b\b  OK \n",
            "Creating    dataset/train                                             OK\n",
            "Creating    dataset/train/chatamari                                   OK\n",
            "Extracting  dataset/train/chatamari/101.jpeg                             \b\b\b\b 20%\b\b\b\b\b  OK \n",
            "Extracting  dataset/train/chatamari/103.jpeg                             \b\b\b\b 20%\b\b\b\b\b  OK \n",
            "Extracting  dataset/train/chatamari/106.jpeg                             \b\b\b\b 20%\b\b\b\b\b  OK \n",
            "Extracting  dataset/train/chatamari/108.jpeg                             \b\b\b\b 20%\b\b\b\b\b  OK \n",
            "Extracting  dataset/train/chatamari/111.jpeg                             \b\b\b\b 20%\b\b\b\b\b  OK \n",
            "Extracting  dataset/train/chatamari/112.jpeg                             \b\b\b\b 20%\b\b\b\b\b  OK \n",
            "Extracting  dataset/train/chatamari/118.jpeg                             \b\b\b\b 20%\b\b\b\b\b  OK \n",
            "Extracting  dataset/train/chatamari/12.jpeg                              \b\b\b\b 20%\b\b\b\b\b  OK \n",
            "Extracting  dataset/train/chatamari/120.jpeg                             \b\b\b\b 20%\b\b\b\b\b  OK \n",
            "Extracting  dataset/train/chatamari/121.jpeg                             \b\b\b\b 20%\b\b\b\b\b  OK \n",
            "Extracting  dataset/train/chatamari/124.jpeg                             \b\b\b\b 20%\b\b\b\b\b  OK \n",
            "Extracting  dataset/train/chatamari/135.jpeg                             \b\b\b\b 20%\b\b\b\b\b  OK \n",
            "Extracting  dataset/train/chatamari/137.jpeg                             \b\b\b\b 20%\b\b\b\b\b  OK \n",
            "Extracting  dataset/train/chatamari/142.jpeg                             \b\b\b\b 20%\b\b\b\b\b  OK \n",
            "Extracting  dataset/train/chatamari/144.jpeg                             \b\b\b\b 20%\b\b\b\b\b  OK \n",
            "Extracting  dataset/train/chatamari/145.jpeg                             \b\b\b\b 20%\b\b\b\b\b  OK \n",
            "Extracting  dataset/train/chatamari/150.jpeg                             \b\b\b\b 20%\b\b\b\b\b  OK \n",
            "Extracting  dataset/train/chatamari/151.jpeg                             \b\b\b\b 20%\b\b\b\b\b  OK \n",
            "Extracting  dataset/train/chatamari/153.jpeg                             \b\b\b\b 21%\b\b\b\b\b  OK \n",
            "Extracting  dataset/train/chatamari/154.jpeg                             \b\b\b\b 21%\b\b\b\b\b  OK \n",
            "Extracting  dataset/train/chatamari/155.jpeg                             \b\b\b\b 21%\b\b\b\b\b  OK \n",
            "Extracting  dataset/train/chatamari/156.jpeg                             \b\b\b\b 21%\b\b\b\b\b  OK \n",
            "Extracting  dataset/train/chatamari/157.jpeg                             \b\b\b\b 21%\b\b\b\b\b  OK \n",
            "Extracting  dataset/train/chatamari/159.jpeg                             \b\b\b\b 21%\b\b\b\b\b  OK \n",
            "Extracting  dataset/train/chatamari/16.jpeg                              \b\b\b\b 21%\b\b\b\b\b  OK \n",
            "Extracting  dataset/train/chatamari/164.jpeg                             \b\b\b\b 21%\b\b\b\b\b  OK \n",
            "Extracting  dataset/train/chatamari/168.jpeg                             \b\b\b\b 21%\b\b\b\b\b  OK \n",
            "Extracting  dataset/train/chatamari/170.jpeg                             \b\b\b\b 21%\b\b\b\b\b  OK \n",
            "Extracting  dataset/train/chatamari/171.jpeg                             \b\b\b\b 21%\b\b\b\b\b  OK \n",
            "Extracting  dataset/train/chatamari/175.jpeg                             \b\b\b\b 21%\b\b\b\b\b  OK \n",
            "Extracting  dataset/train/chatamari/179.jpeg                             \b\b\b\b 21%\b\b\b\b\b  OK \n",
            "Extracting  dataset/train/chatamari/181.jpeg                             \b\b\b\b 21%\b\b\b\b\b  OK \n",
            "Extracting  dataset/train/chatamari/187.jpeg                             \b\b\b\b 21%\b\b\b\b\b  OK \n",
            "Extracting  dataset/train/chatamari/188.jpeg                             \b\b\b\b 21%\b\b\b\b\b  OK \n",
            "Extracting  dataset/train/chatamari/19.jpeg                              \b\b\b\b 21%\b\b\b\b\b  OK \n",
            "Extracting  dataset/train/chatamari/191.jpeg                             \b\b\b\b 21%\b\b\b\b\b  OK \n",
            "Extracting  dataset/train/chatamari/192.jpeg                             \b\b\b\b 21%\b\b\b\b\b  OK \n",
            "Extracting  dataset/train/chatamari/195.jpeg                             \b\b\b\b 21%\b\b\b\b\b  OK \n",
            "Extracting  dataset/train/chatamari/196.jpeg                             \b\b\b\b 21%\b\b\b\b\b  OK \n",
            "Extracting  dataset/train/chatamari/197.jpeg                             \b\b\b\b 21%\b\b\b\b\b  OK \n",
            "Extracting  dataset/train/chatamari/20.jpeg                              \b\b\b\b 21%\b\b\b\b\b  OK \n",
            "Extracting  dataset/train/chatamari/202.jpeg                             \b\b\b\b 22%\b\b\b\b\b  OK \n",
            "Extracting  dataset/train/chatamari/208.jpeg                             \b\b\b\b 22%\b\b\b\b\b  OK \n",
            "Extracting  dataset/train/chatamari/210.jpeg                             \b\b\b\b 22%\b\b\b\b\b  OK \n",
            "Extracting  dataset/train/chatamari/214.jpeg                             \b\b\b\b 22%\b\b\b\b\b  OK \n",
            "Extracting  dataset/train/chatamari/215.jpeg                             \b\b\b\b 22%\b\b\b\b\b  OK \n",
            "Extracting  dataset/train/chatamari/22.jpeg                              \b\b\b\b 22%\b\b\b\b\b  OK \n",
            "Extracting  dataset/train/chatamari/222.jpeg                             \b\b\b\b 22%\b\b\b\b\b  OK \n",
            "Extracting  dataset/train/chatamari/228.jpeg                             \b\b\b\b 22%\b\b\b\b\b  OK \n",
            "Extracting  dataset/train/chatamari/229.jpeg                             \b\b\b\b 22%\b\b\b\b\b  OK \n",
            "Extracting  dataset/train/chatamari/23.jpeg                              \b\b\b\b 22%\b\b\b\b\b  OK \n",
            "Extracting  dataset/train/chatamari/232.jpeg                             \b\b\b\b 22%\b\b\b\b\b  OK \n",
            "Extracting  dataset/train/chatamari/24.jpeg                              \b\b\b\b 22%\b\b\b\b\b  OK \n",
            "Extracting  dataset/train/chatamari/241.jpeg                             \b\b\b\b 22%\b\b\b\b 23%\b\b\b\b\b  OK \n",
            "Extracting  dataset/train/chatamari/249.jpeg                             \b\b\b\b 23%\b\b\b\b\b  OK \n",
            "Extracting  dataset/train/chatamari/250.jpeg                             \b\b\b\b 23%\b\b\b\b\b  OK \n",
            "Extracting  dataset/train/chatamari/251.jpeg                             \b\b\b\b 23%\b\b\b\b\b  OK \n",
            "Extracting  dataset/train/chatamari/252.jpeg                             \b\b\b\b 23%\b\b\b\b\b  OK \n",
            "Extracting  dataset/train/chatamari/258.jpeg                             \b\b\b\b 23%\b\b\b\b\b  OK \n",
            "Extracting  dataset/train/chatamari/265.jpeg                             \b\b\b\b 23%\b\b\b\b\b  OK \n",
            "Extracting  dataset/train/chatamari/267.jpeg                             \b\b\b\b 23%\b\b\b\b\b  OK \n",
            "Extracting  dataset/train/chatamari/268.jpeg                             \b\b\b\b 23%\b\b\b\b\b  OK \n",
            "Extracting  dataset/train/chatamari/271.jpeg                             \b\b\b\b 23%\b\b\b\b\b  OK \n",
            "Extracting  dataset/train/chatamari/274.jpeg                             \b\b\b\b 23%\b\b\b\b\b  OK \n",
            "Extracting  dataset/train/chatamari/275.jpeg                             \b\b\b\b 23%\b\b\b\b\b  OK \n",
            "Extracting  dataset/train/chatamari/277.jpeg                             \b\b\b\b 23%\b\b\b\b\b  OK \n",
            "Extracting  dataset/train/chatamari/280.jpeg                             \b\b\b\b 23%\b\b\b\b\b  OK \n",
            "Extracting  dataset/train/chatamari/281.jpeg                             \b\b\b\b 23%\b\b\b\b\b  OK \n",
            "Extracting  dataset/train/chatamari/285.jpeg                             \b\b\b\b 23%\b\b\b\b\b  OK \n",
            "Extracting  dataset/train/chatamari/286.jpeg                             \b\b\b\b 23%\b\b\b\b\b  OK \n",
            "Extracting  dataset/train/chatamari/287.jpeg                             \b\b\b\b 23%\b\b\b\b\b  OK \n",
            "Extracting  dataset/train/chatamari/289.jpeg                             \b\b\b\b 23%\b\b\b\b\b  OK \n",
            "Extracting  dataset/train/chatamari/291.jpeg                             \b\b\b\b 23%\b\b\b\b\b  OK \n",
            "Extracting  dataset/train/chatamari/297.jpeg                             \b\b\b\b 23%\b\b\b\b\b  OK \n",
            "Extracting  dataset/train/chatamari/298.jpeg                             \b\b\b\b 24%\b\b\b\b\b  OK \n",
            "Extracting  dataset/train/chatamari/300.jpeg                             \b\b\b\b 24%\b\b\b\b\b  OK \n",
            "Extracting  dataset/train/chatamari/302.jpeg                             \b\b\b\b 24%\b\b\b\b\b  OK \n",
            "Extracting  dataset/train/chatamari/303.jpeg                             \b\b\b\b 24%\b\b\b\b\b  OK \n",
            "Extracting  dataset/train/chatamari/304.jpeg                             \b\b\b\b 24%\b\b\b\b\b  OK \n",
            "Extracting  dataset/train/chatamari/305.jpeg                             \b\b\b\b 24%\b\b\b\b\b  OK \n",
            "Extracting  dataset/train/chatamari/306.jpeg                             \b\b\b\b 24%\b\b\b\b\b  OK \n",
            "Extracting  dataset/train/chatamari/308.jpeg                             \b\b\b\b 24%\b\b\b\b\b  OK \n",
            "Extracting  dataset/train/chatamari/311.jpeg                             \b\b\b\b 24%\b\b\b\b\b  OK \n",
            "Extracting  dataset/train/chatamari/316.jpeg                             \b\b\b\b 24%\b\b\b\b\b  OK \n",
            "Extracting  dataset/train/chatamari/317.jpeg                             \b\b\b\b 24%\b\b\b\b\b  OK \n",
            "Extracting  dataset/train/chatamari/32.jpeg                              \b\b\b\b 24%\b\b\b\b\b  OK \n",
            "Extracting  dataset/train/chatamari/320.jpeg                             \b\b\b\b 24%\b\b\b\b\b  OK \n",
            "Extracting  dataset/train/chatamari/324.jpeg                             \b\b\b\b 24%\b\b\b\b\b  OK \n",
            "Extracting  dataset/train/chatamari/325.jpeg                             \b\b\b\b 24%\b\b\b\b\b  OK \n",
            "Extracting  dataset/train/chatamari/326.jpeg                             \b\b\b\b 24%\b\b\b\b\b  OK \n",
            "Extracting  dataset/train/chatamari/336.jpeg                             \b\b\b\b 24%\b\b\b\b\b  OK \n",
            "Extracting  dataset/train/chatamari/338.jpeg                             \b\b\b\b 25%\b\b\b\b\b  OK \n",
            "Extracting  dataset/train/chatamari/346.jpeg                             \b\b\b\b 25%\b\b\b\b\b  OK \n",
            "Extracting  dataset/train/chatamari/347.jpeg                             \b\b\b\b 25%\b\b\b\b\b  OK \n",
            "Extracting  dataset/train/chatamari/35.jpeg                              \b\b\b\b 25%\b\b\b\b\b  OK \n",
            "Extracting  dataset/train/chatamari/352.jpeg                             \b\b\b\b 25%\b\b\b\b\b  OK \n",
            "Extracting  dataset/train/chatamari/353.jpeg                             \b\b\b\b 25%\b\b\b\b\b  OK \n",
            "Extracting  dataset/train/chatamari/355.jpeg                             \b\b\b\b 25%\b\b\b\b\b  OK \n",
            "Extracting  dataset/train/chatamari/356.jpeg                             \b\b\b\b 25%\b\b\b\b\b  OK \n",
            "Extracting  dataset/train/chatamari/36.jpeg                              \b\b\b\b 25%\b\b\b\b\b  OK \n",
            "Extracting  dataset/train/chatamari/361.jpeg                             \b\b\b\b 25%\b\b\b\b\b  OK \n",
            "Extracting  dataset/train/chatamari/362.jpeg                             \b\b\b\b 25%\b\b\b\b\b  OK \n",
            "Extracting  dataset/train/chatamari/365.jpeg                             \b\b\b\b 25%\b\b\b\b\b  OK \n",
            "Extracting  dataset/train/chatamari/366.jpeg                             \b\b\b\b 25%\b\b\b\b\b  OK \n",
            "Extracting  dataset/train/chatamari/368.jpeg                             \b\b\b\b 25%\b\b\b\b\b  OK \n",
            "Extracting  dataset/train/chatamari/369.jpeg                             \b\b\b\b 25%\b\b\b\b\b  OK \n",
            "Extracting  dataset/train/chatamari/37.jpeg                              \b\b\b\b 25%\b\b\b\b\b  OK \n",
            "Extracting  dataset/train/chatamari/374.jpeg                             \b\b\b\b 25%\b\b\b\b\b  OK \n",
            "Extracting  dataset/train/chatamari/375.jpeg                             \b\b\b\b 25%\b\b\b\b\b  OK \n",
            "Extracting  dataset/train/chatamari/376.jpeg                             \b\b\b\b 25%\b\b\b\b\b  OK \n",
            "Extracting  dataset/train/chatamari/377.jpeg                             \b\b\b\b 26%\b\b\b\b\b  OK \n",
            "Extracting  dataset/train/chatamari/378.jpeg                             \b\b\b\b 26%\b\b\b\b\b  OK \n",
            "Extracting  dataset/train/chatamari/38.jpeg                              \b\b\b\b 26%\b\b\b\b\b  OK \n",
            "Extracting  dataset/train/chatamari/382.jpeg                             \b\b\b\b 26%\b\b\b\b\b  OK \n",
            "Extracting  dataset/train/chatamari/383.jpeg                             \b\b\b\b 26%\b\b\b\b\b  OK \n",
            "Extracting  dataset/train/chatamari/384.jpeg                             \b\b\b\b 26%\b\b\b\b\b  OK \n",
            "Extracting  dataset/train/chatamari/385.jpeg                             \b\b\b\b 26%\b\b\b\b\b  OK \n",
            "Extracting  dataset/train/chatamari/386.jpeg                             \b\b\b\b 26%\b\b\b\b\b  OK \n",
            "Extracting  dataset/train/chatamari/388.jpeg                             \b\b\b\b 26%\b\b\b\b\b  OK \n",
            "Extracting  dataset/train/chatamari/39.jpeg                              \b\b\b\b 26%\b\b\b\b\b  OK \n",
            "Extracting  dataset/train/chatamari/390.jpeg                             \b\b\b\b 26%\b\b\b\b\b  OK \n",
            "Extracting  dataset/train/chatamari/396.jpeg                             \b\b\b\b 26%\b\b\b\b\b  OK \n",
            "Extracting  dataset/train/chatamari/4.jpeg                               \b\b\b\b 26%\b\b\b\b\b  OK \n",
            "Extracting  dataset/train/chatamari/46.jpeg                              \b\b\b\b 26%\b\b\b\b\b  OK \n",
            "Extracting  dataset/train/chatamari/47.jpeg                              \b\b\b\b 26%\b\b\b\b\b  OK \n",
            "Extracting  dataset/train/chatamari/54.jpeg                              \b\b\b\b 26%\b\b\b\b\b  OK \n",
            "Extracting  dataset/train/chatamari/55.jpeg                              \b\b\b\b 26%\b\b\b\b\b  OK \n",
            "Extracting  dataset/train/chatamari/56.jpeg                              \b\b\b\b 27%\b\b\b\b\b  OK \n",
            "Extracting  dataset/train/chatamari/58.jpeg                              \b\b\b\b 27%\b\b\b\b\b  OK \n",
            "Extracting  dataset/train/chatamari/6.jpeg                               \b\b\b\b 27%\b\b\b\b\b  OK \n",
            "Extracting  dataset/train/chatamari/60.jpeg                              \b\b\b\b 27%\b\b\b\b\b  OK \n",
            "Extracting  dataset/train/chatamari/65.jpeg                              \b\b\b\b 27%\b\b\b\b\b  OK \n",
            "Extracting  dataset/train/chatamari/66.jpeg                              \b\b\b\b 27%\b\b\b\b\b  OK \n",
            "Extracting  dataset/train/chatamari/69.jpeg                              \b\b\b\b 27%\b\b\b\b\b  OK \n",
            "Extracting  dataset/train/chatamari/7.jpeg                               \b\b\b\b 27%\b\b\b\b\b  OK \n",
            "Extracting  dataset/train/chatamari/70.jpeg                              \b\b\b\b 27%\b\b\b\b\b  OK \n",
            "Extracting  dataset/train/chatamari/79.jpeg                              \b\b\b\b 27%\b\b\b\b\b  OK \n",
            "Extracting  dataset/train/chatamari/8.jpeg                               \b\b\b\b 27%\b\b\b\b\b  OK \n",
            "Extracting  dataset/train/chatamari/80.jpeg                              \b\b\b\b 27%\b\b\b\b\b  OK \n",
            "Extracting  dataset/train/chatamari/81.jpeg                              \b\b\b\b 28%\b\b\b\b\b  OK \n",
            "Extracting  dataset/train/chatamari/82.jpeg                              \b\b\b\b 28%\b\b\b\b\b  OK \n",
            "Extracting  dataset/train/chatamari/84.jpeg                              \b\b\b\b 28%\b\b\b\b\b  OK \n",
            "Creating    dataset/train/chhoila                                     OK\n",
            "Extracting  dataset/train/chhoila/0.jpeg                                 \b\b\b\b 28%\b\b\b\b\b  OK \n",
            "Extracting  dataset/train/chhoila/1.jpeg                                 \b\b\b\b 28%\b\b\b\b\b  OK \n",
            "Extracting  dataset/train/chhoila/10.jpeg                                \b\b\b\b 28%\b\b\b\b\b  OK \n",
            "Extracting  dataset/train/chhoila/102.jpeg                               \b\b\b\b 28%\b\b\b\b\b  OK \n",
            "Extracting  dataset/train/chhoila/107.jpeg                               \b\b\b\b 28%\b\b\b\b\b  OK \n",
            "Extracting  dataset/train/chhoila/108.jpeg                               \b\b\b\b 28%\b\b\b\b\b  OK \n",
            "Extracting  dataset/train/chhoila/11.jpeg                                \b\b\b\b 28%\b\b\b\b\b  OK \n",
            "Extracting  dataset/train/chhoila/111.jpeg                               \b\b\b\b 28%\b\b\b\b\b  OK \n",
            "Extracting  dataset/train/chhoila/12.jpeg                                \b\b\b\b 28%\b\b\b\b\b  OK \n",
            "Extracting  dataset/train/chhoila/136.jpeg                               \b\b\b\b 28%\b\b\b\b\b  OK \n",
            "Extracting  dataset/train/chhoila/140.jpeg                               \b\b\b\b 28%\b\b\b\b\b  OK \n",
            "Extracting  dataset/train/chhoila/141.jpeg                               \b\b\b\b 28%\b\b\b\b\b  OK \n",
            "Extracting  dataset/train/chhoila/142.jpeg                               \b\b\b\b 28%\b\b\b\b\b  OK \n",
            "Extracting  dataset/train/chhoila/144.jpeg                               \b\b\b\b 28%\b\b\b\b\b  OK \n",
            "Extracting  dataset/train/chhoila/146.jpeg                               \b\b\b\b 28%\b\b\b\b\b  OK \n",
            "Extracting  dataset/train/chhoila/150.jpeg                               \b\b\b\b 28%\b\b\b\b\b  OK \n",
            "Extracting  dataset/train/chhoila/151.jpeg                               \b\b\b\b 28%\b\b\b\b\b  OK \n",
            "Extracting  dataset/train/chhoila/153.jpeg                               \b\b\b\b 28%\b\b\b\b\b  OK \n",
            "Extracting  dataset/train/chhoila/159.jpeg                               \b\b\b\b 28%\b\b\b\b\b  OK \n",
            "Extracting  dataset/train/chhoila/164.jpeg                               \b\b\b\b 28%\b\b\b\b\b  OK \n",
            "Extracting  dataset/train/chhoila/169.jpeg                               \b\b\b\b 28%\b\b\b\b\b  OK \n",
            "Extracting  dataset/train/chhoila/175.jpeg                               \b\b\b\b 29%\b\b\b\b\b  OK \n",
            "Extracting  dataset/train/chhoila/176.jpeg                               \b\b\b\b 29%\b\b\b\b\b  OK \n",
            "Extracting  dataset/train/chhoila/180.jpeg                               \b\b\b\b 29%\b\b\b\b\b  OK \n",
            "Extracting  dataset/train/chhoila/188.jpeg                               \b\b\b\b 29%\b\b\b\b\b  OK \n",
            "Extracting  dataset/train/chhoila/189.jpeg                               \b\b\b\b 29%\b\b\b\b\b  OK \n",
            "Extracting  dataset/train/chhoila/19.jpeg                                \b\b\b\b 29%\b\b\b\b\b  OK \n",
            "Extracting  dataset/train/chhoila/193.jpeg                               \b\b\b\b 29%\b\b\b\b\b  OK \n",
            "Extracting  dataset/train/chhoila/195.jpeg                               \b\b\b\b 29%\b\b\b\b\b  OK \n",
            "Extracting  dataset/train/chhoila/196.jpeg                               \b\b\b\b 29%\b\b\b\b\b  OK \n",
            "Extracting  dataset/train/chhoila/199.jpeg                               \b\b\b\b 29%\b\b\b\b\b  OK \n",
            "Extracting  dataset/train/chhoila/20.jpeg                                \b\b\b\b 29%\b\b\b\b\b  OK \n",
            "Extracting  dataset/train/chhoila/209.jpeg                               \b\b\b\b 30%\b\b\b\b\b  OK \n",
            "Extracting  dataset/train/chhoila/21.jpeg                                \b\b\b\b 30%\b\b\b\b\b  OK \n",
            "Extracting  dataset/train/chhoila/218.jpeg                               \b\b\b\b 30%\b\b\b\b\b  OK \n",
            "Extracting  dataset/train/chhoila/22.jpeg                                \b\b\b\b 30%\b\b\b\b\b  OK \n",
            "Extracting  dataset/train/chhoila/224.jpeg                               \b\b\b\b 30%\b\b\b\b\b  OK \n",
            "Extracting  dataset/train/chhoila/230.jpeg                               \b\b\b\b 30%\b\b\b\b\b  OK \n",
            "Extracting  dataset/train/chhoila/231.jpeg                               \b\b\b\b 30%\b\b\b\b\b  OK \n",
            "Extracting  dataset/train/chhoila/232.jpeg                               \b\b\b\b 30%\b\b\b\b\b  OK \n",
            "Extracting  dataset/train/chhoila/234.jpeg                               \b\b\b\b 30%\b\b\b\b\b  OK \n",
            "Extracting  dataset/train/chhoila/236.jpeg                               \b\b\b\b 30%\b\b\b\b\b  OK \n",
            "Extracting  dataset/train/chhoila/237.jpeg                               \b\b\b\b 30%\b\b\b\b\b  OK \n",
            "Extracting  dataset/train/chhoila/242.jpeg                               \b\b\b\b 30%\b\b\b\b\b  OK \n",
            "Extracting  dataset/train/chhoila/243.jpeg                               \b\b\b\b 30%\b\b\b\b\b  OK \n",
            "Extracting  dataset/train/chhoila/246.jpeg                               \b\b\b\b 30%\b\b\b\b\b  OK \n",
            "Extracting  dataset/train/chhoila/247.jpeg                               \b\b\b\b 30%\b\b\b\b\b  OK \n",
            "Extracting  dataset/train/chhoila/249.jpeg                               \b\b\b\b 30%\b\b\b\b\b  OK \n",
            "Extracting  dataset/train/chhoila/258.jpeg                               \b\b\b\b 30%\b\b\b\b\b  OK \n",
            "Extracting  dataset/train/chhoila/260.jpeg                               \b\b\b\b 30%\b\b\b\b\b  OK \n",
            "Extracting  dataset/train/chhoila/261.jpeg                               \b\b\b\b 30%\b\b\b\b\b  OK \n",
            "Extracting  dataset/train/chhoila/265.jpeg                               \b\b\b\b 30%\b\b\b\b\b  OK \n",
            "Extracting  dataset/train/chhoila/267.jpeg                               \b\b\b\b 30%\b\b\b\b\b  OK \n",
            "Extracting  dataset/train/chhoila/269.jpeg                               \b\b\b\b 30%\b\b\b\b\b  OK \n",
            "Extracting  dataset/train/chhoila/27.jpeg                                \b\b\b\b 30%\b\b\b\b 31%\b\b\b\b\b  OK \n",
            "Extracting  dataset/train/chhoila/270.jpeg                               \b\b\b\b 31%\b\b\b\b\b  OK \n",
            "Extracting  dataset/train/chhoila/274.jpeg                               \b\b\b\b 31%\b\b\b\b\b  OK \n",
            "Extracting  dataset/train/chhoila/275.jpeg                               \b\b\b\b 31%\b\b\b\b\b  OK \n",
            "Extracting  dataset/train/chhoila/278.jpeg                               \b\b\b\b 31%\b\b\b\b\b  OK \n",
            "Extracting  dataset/train/chhoila/279.jpeg                               \b\b\b\b 31%\b\b\b\b\b  OK \n",
            "Extracting  dataset/train/chhoila/280.jpeg                               \b\b\b\b 31%\b\b\b\b\b  OK \n",
            "Extracting  dataset/train/chhoila/281.jpeg                               \b\b\b\b 31%\b\b\b\b\b  OK \n",
            "Extracting  dataset/train/chhoila/284.jpeg                               \b\b\b\b 31%\b\b\b\b\b  OK \n",
            "Extracting  dataset/train/chhoila/287.jpeg                               \b\b\b\b 31%\b\b\b\b\b  OK \n",
            "Extracting  dataset/train/chhoila/288.jpeg                               \b\b\b\b 31%\b\b\b\b\b  OK \n",
            "Extracting  dataset/train/chhoila/29.jpeg                                \b\b\b\b 31%\b\b\b\b\b  OK \n",
            "Extracting  dataset/train/chhoila/291.jpeg                               \b\b\b\b 31%\b\b\b\b\b  OK \n",
            "Extracting  dataset/train/chhoila/292.jpeg                               \b\b\b\b 31%\b\b\b\b\b  OK \n",
            "Extracting  dataset/train/chhoila/3.jpeg                                 \b\b\b\b 31%\b\b\b\b\b  OK \n",
            "Extracting  dataset/train/chhoila/300.jpeg                               \b\b\b\b 31%\b\b\b\b\b  OK \n",
            "Extracting  dataset/train/chhoila/302.jpeg                               \b\b\b\b 31%\b\b\b\b\b  OK \n",
            "Extracting  dataset/train/chhoila/304.jpeg                               \b\b\b\b 31%\b\b\b\b\b  OK \n",
            "Extracting  dataset/train/chhoila/305.jpeg                               \b\b\b\b 31%\b\b\b\b\b  OK \n",
            "Extracting  dataset/train/chhoila/306.jpeg                               \b\b\b\b 31%\b\b\b\b\b  OK \n",
            "Extracting  dataset/train/chhoila/307.jpeg                               \b\b\b\b 31%\b\b\b\b\b  OK \n",
            "Extracting  dataset/train/chhoila/308.jpeg                               \b\b\b\b 31%\b\b\b\b\b  OK \n",
            "Extracting  dataset/train/chhoila/310.jpeg                               \b\b\b\b 31%\b\b\b\b\b  OK \n",
            "Extracting  dataset/train/chhoila/311.jpeg                               \b\b\b\b 32%\b\b\b\b\b  OK \n",
            "Extracting  dataset/train/chhoila/312.jpeg                               \b\b\b\b 32%\b\b\b\b 33%\b\b\b\b\b  OK \n",
            "Extracting  dataset/train/chhoila/314.jpeg                               \b\b\b\b 33%\b\b\b\b\b  OK \n",
            "Extracting  dataset/train/chhoila/316.jpeg                               \b\b\b\b 33%\b\b\b\b\b  OK \n",
            "Extracting  dataset/train/chhoila/317.jpeg                               \b\b\b\b 33%\b\b\b\b\b  OK \n",
            "Extracting  dataset/train/chhoila/320.jpeg                               \b\b\b\b 33%\b\b\b\b\b  OK \n",
            "Extracting  dataset/train/chhoila/321.jpeg                               \b\b\b\b 33%\b\b\b\b\b  OK \n",
            "Extracting  dataset/train/chhoila/322.jpeg                               \b\b\b\b 33%\b\b\b\b\b  OK \n",
            "Extracting  dataset/train/chhoila/324.jpeg                               \b\b\b\b 33%\b\b\b\b\b  OK \n",
            "Extracting  dataset/train/chhoila/326.jpeg                               \b\b\b\b 33%\b\b\b\b\b  OK \n",
            "Extracting  dataset/train/chhoila/327.jpeg                               \b\b\b\b 33%\b\b\b\b\b  OK \n",
            "Extracting  dataset/train/chhoila/328.jpeg                               \b\b\b\b 33%\b\b\b\b\b  OK \n",
            "Extracting  dataset/train/chhoila/329.jpeg                               \b\b\b\b 33%\b\b\b\b\b  OK \n",
            "Extracting  dataset/train/chhoila/332.jpeg                               \b\b\b\b 33%\b\b\b\b\b  OK \n",
            "Extracting  dataset/train/chhoila/333.jpeg                               \b\b\b\b 33%\b\b\b\b\b  OK \n",
            "Extracting  dataset/train/chhoila/34.jpeg                                \b\b\b\b 33%\b\b\b\b\b  OK \n",
            "Extracting  dataset/train/chhoila/340.jpeg                               \b\b\b\b 33%\b\b\b\b\b  OK \n",
            "Extracting  dataset/train/chhoila/343.jpeg                               \b\b\b\b 33%\b\b\b\b\b  OK \n",
            "Extracting  dataset/train/chhoila/344.jpeg                               \b\b\b\b 33%\b\b\b\b\b  OK \n",
            "Extracting  dataset/train/chhoila/347.jpeg                               \b\b\b\b 33%\b\b\b\b\b  OK \n",
            "Extracting  dataset/train/chhoila/349.jpeg                               \b\b\b\b 33%\b\b\b\b\b  OK \n",
            "Extracting  dataset/train/chhoila/354.jpeg                               \b\b\b\b 33%\b\b\b\b\b  OK \n",
            "Extracting  dataset/train/chhoila/355.jpeg                               \b\b\b\b 34%\b\b\b\b\b  OK \n",
            "Extracting  dataset/train/chhoila/357.jpeg                               \b\b\b\b 34%\b\b\b\b\b  OK \n",
            "Extracting  dataset/train/chhoila/36.jpeg                                \b\b\b\b 34%\b\b\b\b\b  OK \n",
            "Extracting  dataset/train/chhoila/38.jpeg                                \b\b\b\b 34%\b\b\b\b\b  OK \n",
            "Extracting  dataset/train/chhoila/42.jpeg                                \b\b\b\b 34%\b\b\b\b\b  OK \n",
            "Extracting  dataset/train/chhoila/43.jpeg                                \b\b\b\b 34%\b\b\b\b\b  OK \n",
            "Extracting  dataset/train/chhoila/53.jpeg                                \b\b\b\b 34%\b\b\b\b\b  OK \n",
            "Extracting  dataset/train/chhoila/54.jpeg                                \b\b\b\b 34%\b\b\b\b\b  OK \n",
            "Extracting  dataset/train/chhoila/57.jpeg                                \b\b\b\b 34%\b\b\b\b\b  OK \n",
            "Extracting  dataset/train/chhoila/67.jpeg                                \b\b\b\b 34%\b\b\b\b\b  OK \n",
            "Extracting  dataset/train/chhoila/69.jpeg                                \b\b\b\b 34%\b\b\b\b\b  OK \n",
            "Extracting  dataset/train/chhoila/74.jpeg                                \b\b\b\b 34%\b\b\b\b\b  OK \n",
            "Extracting  dataset/train/chhoila/75.jpeg                                \b\b\b\b 34%\b\b\b\b\b  OK \n",
            "Extracting  dataset/train/chhoila/76.jpeg                                \b\b\b\b 34%\b\b\b\b\b  OK \n",
            "Extracting  dataset/train/chhoila/77.jpeg                                \b\b\b\b 34%\b\b\b\b\b  OK \n",
            "Extracting  dataset/train/chhoila/8.jpeg                                 \b\b\b\b 34%\b\b\b\b\b  OK \n",
            "Extracting  dataset/train/chhoila/88.jpeg                                \b\b\b\b 34%\b\b\b\b\b  OK \n",
            "Extracting  dataset/train/chhoila/90.jpeg                                \b\b\b\b 34%\b\b\b\b\b  OK \n",
            "Extracting  dataset/train/chhoila/94.jpeg                                \b\b\b\b 34%\b\b\b\b\b  OK \n",
            "Extracting  dataset/train/chhoila/96.jpeg                                \b\b\b\b 34%\b\b\b\b\b  OK \n",
            "Extracting  dataset/train/chhoila/97.jpeg                                \b\b\b\b 34%\b\b\b\b\b  OK \n",
            "Creating    dataset/train/dalbhat                                     OK\n",
            "Extracting  dataset/train/dalbhat/0.jpeg                                 \b\b\b\b 34%\b\b\b\b\b  OK \n",
            "Extracting  dataset/train/dalbhat/1.jpeg                                 \b\b\b\b 34%\b\b\b\b\b  OK \n",
            "Extracting  dataset/train/dalbhat/103.jpeg                               \b\b\b\b 34%\b\b\b\b 35%\b\b\b\b\b  OK \n",
            "Extracting  dataset/train/dalbhat/104.jpeg                               \b\b\b\b 35%\b\b\b\b\b  OK \n",
            "Extracting  dataset/train/dalbhat/105.jpeg                               \b\b\b\b 35%\b\b\b\b\b  OK \n",
            "Extracting  dataset/train/dalbhat/106.jpeg                               \b\b\b\b 35%\b\b\b\b\b  OK \n",
            "Extracting  dataset/train/dalbhat/11.jpeg                                \b\b\b\b 35%\b\b\b\b\b  OK \n",
            "Extracting  dataset/train/dalbhat/111.jpeg                               \b\b\b\b 35%\b\b\b\b\b  OK \n",
            "Extracting  dataset/train/dalbhat/113.jpeg                               \b\b\b\b 35%\b\b\b\b\b  OK \n",
            "Extracting  dataset/train/dalbhat/115.jpeg                               \b\b\b\b 35%\b\b\b\b\b  OK \n",
            "Extracting  dataset/train/dalbhat/12.jpeg                                \b\b\b\b 35%\b\b\b\b\b  OK \n",
            "Extracting  dataset/train/dalbhat/122.jpeg                               \b\b\b\b 35%\b\b\b\b\b  OK \n",
            "Extracting  dataset/train/dalbhat/13.jpeg                                \b\b\b\b 35%\b\b\b\b\b  OK \n",
            "Extracting  dataset/train/dalbhat/131.jpeg                               \b\b\b\b 35%\b\b\b\b\b  OK \n",
            "Extracting  dataset/train/dalbhat/132.jpeg                               \b\b\b\b 35%\b\b\b\b\b  OK \n",
            "Extracting  dataset/train/dalbhat/133.jpeg                               \b\b\b\b 35%\b\b\b\b\b  OK \n",
            "Extracting  dataset/train/dalbhat/134.jpeg                               \b\b\b\b 35%\b\b\b\b\b  OK \n",
            "Extracting  dataset/train/dalbhat/138.jpeg                               \b\b\b\b 35%\b\b\b\b\b  OK \n",
            "Extracting  dataset/train/dalbhat/14.jpeg                                \b\b\b\b 35%\b\b\b\b\b  OK \n",
            "Extracting  dataset/train/dalbhat/146.jpeg                               \b\b\b\b 35%\b\b\b\b\b  OK \n",
            "Extracting  dataset/train/dalbhat/149.jpeg                               \b\b\b\b 35%\b\b\b\b\b  OK \n",
            "Extracting  dataset/train/dalbhat/150.jpeg                               \b\b\b\b 35%\b\b\b\b\b  OK \n",
            "Extracting  dataset/train/dalbhat/155.jpeg                               \b\b\b\b 35%\b\b\b\b\b  OK \n",
            "Extracting  dataset/train/dalbhat/160.jpeg                               \b\b\b\b 35%\b\b\b\b\b  OK \n",
            "Extracting  dataset/train/dalbhat/161.jpeg                               \b\b\b\b 35%\b\b\b\b\b  OK \n",
            "Extracting  dataset/train/dalbhat/164.jpeg                               \b\b\b\b 35%\b\b\b\b\b  OK \n",
            "Extracting  dataset/train/dalbhat/165.jpeg                               \b\b\b\b 36%\b\b\b\b\b  OK \n",
            "Extracting  dataset/train/dalbhat/166.jpeg                               \b\b\b\b 36%\b\b\b\b\b  OK \n",
            "Extracting  dataset/train/dalbhat/169.jpeg                               \b\b\b\b 36%\b\b\b\b\b  OK \n",
            "Extracting  dataset/train/dalbhat/172.jpeg                               \b\b\b\b 36%\b\b\b\b\b  OK \n",
            "Extracting  dataset/train/dalbhat/173.jpeg                               \b\b\b\b 36%\b\b\b\b\b  OK \n",
            "Extracting  dataset/train/dalbhat/175.jpeg                               \b\b\b\b 36%\b\b\b\b\b  OK \n",
            "Extracting  dataset/train/dalbhat/180.jpeg                               \b\b\b\b 36%\b\b\b\b\b  OK \n",
            "Extracting  dataset/train/dalbhat/182.jpeg                               \b\b\b\b 36%\b\b\b\b\b  OK \n",
            "Extracting  dataset/train/dalbhat/188.jpeg                               \b\b\b\b 36%\b\b\b\b\b  OK \n",
            "Extracting  dataset/train/dalbhat/190.jpeg                               \b\b\b\b 36%\b\b\b\b\b  OK \n",
            "Extracting  dataset/train/dalbhat/191.jpeg                               \b\b\b\b 36%\b\b\b\b\b  OK \n",
            "Extracting  dataset/train/dalbhat/194.jpeg                               \b\b\b\b 36%\b\b\b\b\b  OK \n",
            "Extracting  dataset/train/dalbhat/199.jpeg                               \b\b\b\b 36%\b\b\b\b\b  OK \n",
            "Extracting  dataset/train/dalbhat/2.jpeg                                 \b\b\b\b 36%\b\b\b\b\b  OK \n",
            "Extracting  dataset/train/dalbhat/200.jpeg                               \b\b\b\b 36%\b\b\b\b\b  OK \n",
            "Extracting  dataset/train/dalbhat/201.jpeg                               \b\b\b\b 36%\b\b\b\b\b  OK \n",
            "Extracting  dataset/train/dalbhat/202.jpeg                               \b\b\b\b 36%\b\b\b\b\b  OK \n",
            "Extracting  dataset/train/dalbhat/203.jpeg                               \b\b\b\b 37%\b\b\b\b\b  OK \n",
            "Extracting  dataset/train/dalbhat/204.jpeg                               \b\b\b\b 37%\b\b\b\b\b  OK \n",
            "Extracting  dataset/train/dalbhat/205.jpeg                               \b\b\b\b 37%\b\b\b\b\b  OK \n",
            "Extracting  dataset/train/dalbhat/206.jpeg                               \b\b\b\b 37%\b\b\b\b\b  OK \n",
            "Extracting  dataset/train/dalbhat/207.jpeg                               \b\b\b\b 37%\b\b\b\b\b  OK \n",
            "Extracting  dataset/train/dalbhat/208.jpeg                               \b\b\b\b 37%\b\b\b\b\b  OK \n",
            "Extracting  dataset/train/dalbhat/21.jpeg                                \b\b\b\b 37%\b\b\b\b\b  OK \n",
            "Extracting  dataset/train/dalbhat/210.jpeg                               \b\b\b\b 37%\b\b\b\b\b  OK \n",
            "Extracting  dataset/train/dalbhat/211.jpeg                               \b\b\b\b 37%\b\b\b\b\b  OK \n",
            "Extracting  dataset/train/dalbhat/212.jpeg                               \b\b\b\b 37%\b\b\b\b\b  OK \n",
            "Extracting  dataset/train/dalbhat/213.jpeg                               \b\b\b\b 37%\b\b\b\b\b  OK \n",
            "Extracting  dataset/train/dalbhat/214.jpeg                               \b\b\b\b 37%\b\b\b\b\b  OK \n",
            "Extracting  dataset/train/dalbhat/215.jpeg                               \b\b\b\b 37%\b\b\b\b\b  OK \n",
            "Extracting  dataset/train/dalbhat/216.jpeg                               \b\b\b\b 37%\b\b\b\b\b  OK \n",
            "Extracting  dataset/train/dalbhat/217.jpeg                               \b\b\b\b 37%\b\b\b\b\b  OK \n",
            "Extracting  dataset/train/dalbhat/219.jpeg                               \b\b\b\b 37%\b\b\b\b\b  OK \n",
            "Extracting  dataset/train/dalbhat/22.jpeg                                \b\b\b\b 37%\b\b\b\b\b  OK \n",
            "Extracting  dataset/train/dalbhat/220.jpeg                               \b\b\b\b 38%\b\b\b\b\b  OK \n",
            "Extracting  dataset/train/dalbhat/222.jpeg                               \b\b\b\b 38%\b\b\b\b\b  OK \n",
            "Extracting  dataset/train/dalbhat/223.jpeg                               \b\b\b\b 38%\b\b\b\b\b  OK \n",
            "Extracting  dataset/train/dalbhat/224.jpeg                               \b\b\b\b 38%\b\b\b\b\b  OK \n",
            "Extracting  dataset/train/dalbhat/225.jpeg                               \b\b\b\b 38%\b\b\b\b\b  OK \n",
            "Extracting  dataset/train/dalbhat/226.jpeg                               \b\b\b\b 39%\b\b\b\b\b  OK \n",
            "Extracting  dataset/train/dalbhat/23.jpeg                                \b\b\b\b 39%\b\b\b\b\b  OK \n",
            "Extracting  dataset/train/dalbhat/230.jpeg                               \b\b\b\b 39%\b\b\b\b\b  OK \n",
            "Extracting  dataset/train/dalbhat/231.jpeg                               \b\b\b\b 39%\b\b\b\b\b  OK \n",
            "Extracting  dataset/train/dalbhat/232.jpeg                               \b\b\b\b 39%\b\b\b\b\b  OK \n",
            "Extracting  dataset/train/dalbhat/234.jpeg                               \b\b\b\b 39%\b\b\b\b\b  OK \n",
            "Extracting  dataset/train/dalbhat/237.jpeg                               \b\b\b\b 39%\b\b\b\b\b  OK \n",
            "Extracting  dataset/train/dalbhat/238.jpeg                               \b\b\b\b 39%\b\b\b\b 40%\b\b\b\b\b  OK \n",
            "Extracting  dataset/train/dalbhat/239.jpeg                               \b\b\b\b 40%\b\b\b\b\b  OK \n",
            "Extracting  dataset/train/dalbhat/24.jpeg                                \b\b\b\b 40%\b\b\b\b\b  OK \n",
            "Extracting  dataset/train/dalbhat/240.jpeg                               \b\b\b\b 40%\b\b\b\b\b  OK \n",
            "Extracting  dataset/train/dalbhat/241.jpeg                               \b\b\b\b 40%\b\b\b\b\b  OK \n",
            "Extracting  dataset/train/dalbhat/242.jpeg                               \b\b\b\b 40%\b\b\b\b\b  OK \n",
            "Extracting  dataset/train/dalbhat/245.jpeg                               \b\b\b\b 40%\b\b\b\b\b  OK \n",
            "Extracting  dataset/train/dalbhat/246.jpeg                               \b\b\b\b 40%\b\b\b\b\b  OK \n",
            "Extracting  dataset/train/dalbhat/247.jpeg                               \b\b\b\b 40%\b\b\b\b\b  OK \n",
            "Extracting  dataset/train/dalbhat/25.jpeg                                \b\b\b\b 40%\b\b\b\b\b  OK \n",
            "Extracting  dataset/train/dalbhat/252.jpeg                               \b\b\b\b 40%\b\b\b\b\b  OK \n",
            "Extracting  dataset/train/dalbhat/254.jpeg                               \b\b\b\b 40%\b\b\b\b\b  OK \n",
            "Extracting  dataset/train/dalbhat/255.jpeg                               \b\b\b\b 40%\b\b\b\b\b  OK \n",
            "Extracting  dataset/train/dalbhat/257.jpeg                               \b\b\b\b 41%\b\b\b\b\b  OK \n",
            "Extracting  dataset/train/dalbhat/263.jpeg                               \b\b\b\b 41%\b\b\b\b\b  OK \n",
            "Extracting  dataset/train/dalbhat/267.jpeg                               \b\b\b\b 41%\b\b\b\b\b  OK \n",
            "Extracting  dataset/train/dalbhat/269.jpeg                               \b\b\b\b 41%\b\b\b\b\b  OK \n",
            "Extracting  dataset/train/dalbhat/27.jpeg                                \b\b\b\b 41%\b\b\b\b\b  OK \n",
            "Extracting  dataset/train/dalbhat/273.jpeg                               \b\b\b\b 41%\b\b\b\b\b  OK \n",
            "Extracting  dataset/train/dalbhat/274.jpeg                               \b\b\b\b 41%\b\b\b\b\b  OK \n",
            "Extracting  dataset/train/dalbhat/276.jpeg                               \b\b\b\b 41%\b\b\b\b\b  OK \n",
            "Extracting  dataset/train/dalbhat/277.jpeg                               \b\b\b\b 41%\b\b\b\b\b  OK \n",
            "Extracting  dataset/train/dalbhat/281.jpeg                               \b\b\b\b 41%\b\b\b\b\b  OK \n",
            "Extracting  dataset/train/dalbhat/282.jpeg                               \b\b\b\b 41%\b\b\b\b\b  OK \n",
            "Extracting  dataset/train/dalbhat/285.jpeg                               \b\b\b\b 42%\b\b\b\b\b  OK \n",
            "Extracting  dataset/train/dalbhat/286.jpeg                               \b\b\b\b 42%\b\b\b\b\b  OK \n",
            "Extracting  dataset/train/dalbhat/288.jpeg                               \b\b\b\b 42%\b\b\b\b\b  OK \n",
            "Extracting  dataset/train/dalbhat/29.jpeg                                \b\b\b\b 42%\b\b\b\b\b  OK \n",
            "Extracting  dataset/train/dalbhat/297.jpeg                               \b\b\b\b 42%\b\b\b\b\b  OK \n",
            "Extracting  dataset/train/dalbhat/298.jpeg                               \b\b\b\b 42%\b\b\b\b\b  OK \n",
            "Extracting  dataset/train/dalbhat/299.jpeg                               \b\b\b\b 42%\b\b\b\b\b  OK \n",
            "Extracting  dataset/train/dalbhat/301.jpeg                               \b\b\b\b 42%\b\b\b\b\b  OK \n",
            "Extracting  dataset/train/dalbhat/302.jpeg                               \b\b\b\b 42%\b\b\b\b\b  OK \n",
            "Extracting  dataset/train/dalbhat/307.jpeg                               \b\b\b\b 42%\b\b\b\b\b  OK \n",
            "Extracting  dataset/train/dalbhat/308.jpeg                               \b\b\b\b 42%\b\b\b\b\b  OK \n",
            "Extracting  dataset/train/dalbhat/309.jpeg                               \b\b\b\b 42%\b\b\b\b\b  OK \n",
            "Extracting  dataset/train/dalbhat/31.jpeg                                \b\b\b\b 42%\b\b\b\b\b  OK \n",
            "Extracting  dataset/train/dalbhat/310.jpeg                               \b\b\b\b 42%\b\b\b\b\b  OK \n",
            "Extracting  dataset/train/dalbhat/311.jpeg                               \b\b\b\b 42%\b\b\b\b\b  OK \n",
            "Extracting  dataset/train/dalbhat/312.jpeg                               \b\b\b\b 42%\b\b\b\b\b  OK \n",
            "Extracting  dataset/train/dalbhat/317.jpeg                               \b\b\b\b 43%\b\b\b\b\b  OK \n",
            "Extracting  dataset/train/dalbhat/318.jpeg                               \b\b\b\b 43%\b\b\b\b\b  OK \n",
            "Extracting  dataset/train/dalbhat/319.jpeg                               \b\b\b\b 43%\b\b\b\b\b  OK \n",
            "Extracting  dataset/train/dalbhat/32.jpeg                                \b\b\b\b 43%\b\b\b\b\b  OK \n",
            "Extracting  dataset/train/dalbhat/320.jpeg                               \b\b\b\b 43%\b\b\b\b\b  OK \n",
            "Extracting  dataset/train/dalbhat/324.jpeg                               \b\b\b\b 43%\b\b\b\b\b  OK \n",
            "Extracting  dataset/train/dalbhat/327.jpeg                               \b\b\b\b 43%\b\b\b\b\b  OK \n",
            "Extracting  dataset/train/dalbhat/328.jpeg                               \b\b\b\b 43%\b\b\b\b\b  OK \n",
            "Extracting  dataset/train/dalbhat/329.jpeg                               \b\b\b\b 43%\b\b\b\b\b  OK \n",
            "Extracting  dataset/train/dalbhat/33.jpeg                                \b\b\b\b 43%\b\b\b\b\b  OK \n",
            "Extracting  dataset/train/dalbhat/330.jpeg                               \b\b\b\b 43%\b\b\b\b\b  OK \n",
            "Extracting  dataset/train/dalbhat/333.jpeg                               \b\b\b\b 43%\b\b\b\b\b  OK \n",
            "Extracting  dataset/train/dalbhat/334.jpeg                               \b\b\b\b 43%\b\b\b\b\b  OK \n",
            "Extracting  dataset/train/dalbhat/335.jpeg                               \b\b\b\b 43%\b\b\b\b\b  OK \n",
            "Extracting  dataset/train/dalbhat/336.jpeg                               \b\b\b\b 43%\b\b\b\b\b  OK \n",
            "Extracting  dataset/train/dalbhat/338.jpeg                               \b\b\b\b 43%\b\b\b\b\b  OK \n",
            "Extracting  dataset/train/dalbhat/339.jpeg                               \b\b\b\b 43%\b\b\b\b\b  OK \n",
            "Extracting  dataset/train/dalbhat/34.jpeg                                \b\b\b\b 43%\b\b\b\b\b  OK \n",
            "Extracting  dataset/train/dalbhat/340.jpeg                               \b\b\b\b 43%\b\b\b\b\b  OK \n",
            "Extracting  dataset/train/dalbhat/341.jpeg                               \b\b\b\b 43%\b\b\b\b\b  OK \n",
            "Extracting  dataset/train/dalbhat/346.jpeg                               \b\b\b\b 43%\b\b\b\b\b  OK \n",
            "Extracting  dataset/train/dalbhat/347.jpeg                               \b\b\b\b 43%\b\b\b\b\b  OK \n",
            "Extracting  dataset/train/dalbhat/349.jpeg                               \b\b\b\b 43%\b\b\b\b\b  OK \n",
            "Extracting  dataset/train/dalbhat/35.jpeg                                \b\b\b\b 43%\b\b\b\b\b  OK \n",
            "Extracting  dataset/train/dalbhat/352.jpeg                               \b\b\b\b 43%\b\b\b\b\b  OK \n",
            "Extracting  dataset/train/dalbhat/354.jpeg                               \b\b\b\b 43%\b\b\b\b\b  OK \n",
            "Extracting  dataset/train/dalbhat/356.jpeg                               \b\b\b\b 43%\b\b\b\b\b  OK \n",
            "Extracting  dataset/train/dalbhat/357.jpeg                               \b\b\b\b 43%\b\b\b\b\b  OK \n",
            "Extracting  dataset/train/dalbhat/358.jpeg                               \b\b\b\b 43%\b\b\b\b\b  OK \n",
            "Extracting  dataset/train/dalbhat/36.jpeg                                \b\b\b\b 43%\b\b\b\b\b  OK \n",
            "Extracting  dataset/train/dalbhat/361.jpeg                               \b\b\b\b 43%\b\b\b\b\b  OK \n",
            "Extracting  dataset/train/dalbhat/363.jpeg                               \b\b\b\b 43%\b\b\b\b\b  OK \n",
            "Extracting  dataset/train/dalbhat/364.jpeg                               \b\b\b\b 44%\b\b\b\b\b  OK \n",
            "Extracting  dataset/train/dalbhat/365.jpeg                               \b\b\b\b 44%\b\b\b\b\b  OK \n",
            "Extracting  dataset/train/dalbhat/366.jpeg                               \b\b\b\b 44%\b\b\b\b\b  OK \n",
            "Extracting  dataset/train/dalbhat/367.jpeg                               \b\b\b\b 44%\b\b\b\b\b  OK \n",
            "Extracting  dataset/train/dalbhat/368.jpeg                               \b\b\b\b 44%\b\b\b\b\b  OK \n",
            "Extracting  dataset/train/dalbhat/372.jpeg                               \b\b\b\b 44%\b\b\b\b\b  OK \n",
            "Extracting  dataset/train/dalbhat/374.jpeg                               \b\b\b\b 44%\b\b\b\b\b  OK \n",
            "Extracting  dataset/train/dalbhat/376.jpeg                               \b\b\b\b 44%\b\b\b\b\b  OK \n",
            "Extracting  dataset/train/dalbhat/377.jpeg                               \b\b\b\b 44%\b\b\b\b\b  OK \n",
            "Extracting  dataset/train/dalbhat/378.jpeg                               \b\b\b\b 44%\b\b\b\b\b  OK \n",
            "Extracting  dataset/train/dalbhat/379.jpeg                               \b\b\b\b 44%\b\b\b\b\b  OK \n",
            "Extracting  dataset/train/dalbhat/38.jpeg                                \b\b\b\b 44%\b\b\b\b\b  OK \n",
            "Extracting  dataset/train/dalbhat/380.jpeg                               \b\b\b\b 44%\b\b\b\b\b  OK \n",
            "Extracting  dataset/train/dalbhat/382.jpeg                               \b\b\b\b 44%\b\b\b\b\b  OK \n",
            "Extracting  dataset/train/dalbhat/385.jpeg                               \b\b\b\b 44%\b\b\b\b\b  OK \n",
            "Extracting  dataset/train/dalbhat/386.jpeg                               \b\b\b\b 44%\b\b\b\b\b  OK \n",
            "Extracting  dataset/train/dalbhat/387.jpeg                               \b\b\b\b 44%\b\b\b\b\b  OK \n",
            "Extracting  dataset/train/dalbhat/388.jpeg                               \b\b\b\b 44%\b\b\b\b\b  OK \n",
            "Extracting  dataset/train/dalbhat/389.jpeg                               \b\b\b\b 44%\b\b\b\b\b  OK \n",
            "Extracting  dataset/train/dalbhat/39.jpeg                                \b\b\b\b 44%\b\b\b\b\b  OK \n",
            "Extracting  dataset/train/dalbhat/390.jpeg                               \b\b\b\b 44%\b\b\b\b\b  OK \n",
            "Extracting  dataset/train/dalbhat/394.jpeg                               \b\b\b\b 44%\b\b\b\b\b  OK \n",
            "Extracting  dataset/train/dalbhat/395.jpeg                               \b\b\b\b 44%\b\b\b\b\b  OK \n",
            "Extracting  dataset/train/dalbhat/396.jpeg                               \b\b\b\b 44%\b\b\b\b\b  OK \n",
            "Extracting  dataset/train/dalbhat/397.jpeg                               \b\b\b\b 44%\b\b\b\b\b  OK \n",
            "Extracting  dataset/train/dalbhat/399.jpeg                               \b\b\b\b 44%\b\b\b\b\b  OK \n",
            "Extracting  dataset/train/dalbhat/40.jpeg                                \b\b\b\b 44%\b\b\b\b\b  OK \n",
            "Extracting  dataset/train/dalbhat/400.jpeg                               \b\b\b\b 44%\b\b\b\b\b  OK \n",
            "Extracting  dataset/train/dalbhat/401.jpeg                               \b\b\b\b 45%\b\b\b\b\b  OK \n",
            "Extracting  dataset/train/dalbhat/403.jpeg                               \b\b\b\b 45%\b\b\b\b\b  OK \n",
            "Extracting  dataset/train/dalbhat/407.jpeg                               \b\b\b\b 45%\b\b\b\b\b  OK \n",
            "Extracting  dataset/train/dalbhat/408.jpeg                               \b\b\b\b 45%\b\b\b\b\b  OK \n",
            "Extracting  dataset/train/dalbhat/415.jpeg                               \b\b\b\b 45%\b\b\b\b\b  OK \n",
            "Extracting  dataset/train/dalbhat/416.jpeg                               \b\b\b\b 45%\b\b\b\b\b  OK \n",
            "Extracting  dataset/train/dalbhat/42.jpeg                                \b\b\b\b 45%\b\b\b\b\b  OK \n",
            "Extracting  dataset/train/dalbhat/5.jpeg                                 \b\b\b\b 45%\b\b\b\b\b  OK \n",
            "Extracting  dataset/train/dalbhat/50.jpeg                                \b\b\b\b 45%\b\b\b\b\b  OK \n",
            "Extracting  dataset/train/dalbhat/52.jpeg                                \b\b\b\b 45%\b\b\b\b\b  OK \n",
            "Extracting  dataset/train/dalbhat/54.jpeg                                \b\b\b\b 45%\b\b\b\b\b  OK \n",
            "Extracting  dataset/train/dalbhat/55.jpeg                                \b\b\b\b 45%\b\b\b\b\b  OK \n",
            "Extracting  dataset/train/dalbhat/56.jpeg                                \b\b\b\b 45%\b\b\b\b\b  OK \n",
            "Extracting  dataset/train/dalbhat/57.jpeg                                \b\b\b\b 45%\b\b\b\b\b  OK \n",
            "Extracting  dataset/train/dalbhat/58.jpeg                                \b\b\b\b 45%\b\b\b\b\b  OK \n",
            "Extracting  dataset/train/dalbhat/6.jpeg                                 \b\b\b\b 45%\b\b\b\b\b  OK \n",
            "Extracting  dataset/train/dalbhat/62.jpeg                                \b\b\b\b 45%\b\b\b\b\b  OK \n",
            "Extracting  dataset/train/dalbhat/64.jpeg                                \b\b\b\b 45%\b\b\b\b\b  OK \n",
            "Extracting  dataset/train/dalbhat/66.jpeg                                \b\b\b\b 45%\b\b\b\b\b  OK \n",
            "Extracting  dataset/train/dalbhat/68.jpeg                                \b\b\b\b 45%\b\b\b\b\b  OK \n",
            "Extracting  dataset/train/dalbhat/69.jpeg                                \b\b\b\b 46%\b\b\b\b\b  OK \n",
            "Extracting  dataset/train/dalbhat/7.jpeg                                 \b\b\b\b 46%\b\b\b\b\b  OK \n",
            "Extracting  dataset/train/dalbhat/70.jpeg                                \b\b\b\b 46%\b\b\b\b\b  OK \n",
            "Extracting  dataset/train/dalbhat/84.jpeg                                \b\b\b\b 46%\b\b\b\b\b  OK \n",
            "Extracting  dataset/train/dalbhat/86.jpeg                                \b\b\b\b 46%\b\b\b\b\b  OK \n",
            "Extracting  dataset/train/dalbhat/9.jpeg                                 \b\b\b\b 46%\b\b\b\b\b  OK \n",
            "Extracting  dataset/train/dalbhat/90.jpeg                                \b\b\b\b 46%\b\b\b\b\b  OK \n",
            "Extracting  dataset/train/dalbhat/91.jpeg                                \b\b\b\b 46%\b\b\b\b\b  OK \n",
            "Extracting  dataset/train/dalbhat/92.jpeg                                \b\b\b\b 46%\b\b\b\b\b  OK \n",
            "Extracting  dataset/train/dalbhat/94.jpeg                                \b\b\b\b 46%\b\b\b\b\b  OK \n",
            "Extracting  dataset/train/dalbhat/96.jpeg                                \b\b\b\b 46%\b\b\b\b\b  OK \n",
            "Extracting  dataset/train/dalbhat/97.jpeg                                \b\b\b\b 46%\b\b\b\b\b  OK \n",
            "Extracting  dataset/train/dalbhat/98.jpeg                                \b\b\b\b 46%\b\b\b\b\b  OK \n",
            "Creating    dataset/train/dhindo                                      OK\n",
            "Extracting  dataset/train/dhindo/0.jpeg                                  \b\b\b\b 46%\b\b\b\b\b  OK \n",
            "Extracting  dataset/train/dhindo/1.jpeg                                  \b\b\b\b 46%\b\b\b\b\b  OK \n",
            "Extracting  dataset/train/dhindo/10.jpeg                                 \b\b\b\b 46%\b\b\b\b\b  OK \n",
            "Extracting  dataset/train/dhindo/100.jpeg                                \b\b\b\b 46%\b\b\b\b\b  OK \n",
            "Extracting  dataset/train/dhindo/102.jpeg                                \b\b\b\b 46%\b\b\b\b\b  OK \n",
            "Extracting  dataset/train/dhindo/103.jpeg                                \b\b\b\b 46%\b\b\b\b\b  OK \n",
            "Extracting  dataset/train/dhindo/104.jpeg                                \b\b\b\b 46%\b\b\b\b\b  OK \n",
            "Extracting  dataset/train/dhindo/105.jpeg                                \b\b\b\b 46%\b\b\b\b\b  OK \n",
            "Extracting  dataset/train/dhindo/106.jpeg                                \b\b\b\b 46%\b\b\b\b\b  OK \n",
            "Extracting  dataset/train/dhindo/107.jpeg                                \b\b\b\b 46%\b\b\b\b\b  OK \n",
            "Extracting  dataset/train/dhindo/108.jpeg                                \b\b\b\b 46%\b\b\b\b\b  OK \n",
            "Extracting  dataset/train/dhindo/109.jpeg                                \b\b\b\b 46%\b\b\b\b\b  OK \n",
            "Extracting  dataset/train/dhindo/11.jpeg                                 \b\b\b\b 46%\b\b\b\b\b  OK \n",
            "Extracting  dataset/train/dhindo/110.jpeg                                \b\b\b\b 46%\b\b\b\b\b  OK \n",
            "Extracting  dataset/train/dhindo/111.jpeg                                \b\b\b\b 46%\b\b\b\b\b  OK \n",
            "Extracting  dataset/train/dhindo/112.jpeg                                \b\b\b\b 46%\b\b\b\b\b  OK \n",
            "Extracting  dataset/train/dhindo/113.jpeg                                \b\b\b\b 46%\b\b\b\b\b  OK \n",
            "Extracting  dataset/train/dhindo/114.jpeg                                \b\b\b\b 46%\b\b\b\b\b  OK \n",
            "Extracting  dataset/train/dhindo/115.jpeg                                \b\b\b\b 46%\b\b\b\b\b  OK \n",
            "Extracting  dataset/train/dhindo/118.jpeg                                \b\b\b\b 47%\b\b\b\b\b  OK \n",
            "Extracting  dataset/train/dhindo/119.jpeg                                \b\b\b\b 47%\b\b\b\b\b  OK \n",
            "Extracting  dataset/train/dhindo/12.jpeg                                 \b\b\b\b 47%\b\b\b\b\b  OK \n",
            "Extracting  dataset/train/dhindo/120.jpeg                                \b\b\b\b 47%\b\b\b\b\b  OK \n",
            "Extracting  dataset/train/dhindo/121.jpeg                                \b\b\b\b 47%\b\b\b\b\b  OK \n",
            "Extracting  dataset/train/dhindo/122.jpeg                                \b\b\b\b 47%\b\b\b\b\b  OK \n",
            "Extracting  dataset/train/dhindo/124.jpeg                                \b\b\b\b 47%\b\b\b\b\b  OK \n",
            "Extracting  dataset/train/dhindo/125.jpeg                                \b\b\b\b 47%\b\b\b\b\b  OK \n",
            "Extracting  dataset/train/dhindo/126.jpeg                                \b\b\b\b 47%\b\b\b\b\b  OK \n",
            "Extracting  dataset/train/dhindo/127.jpeg                                \b\b\b\b 47%\b\b\b\b\b  OK \n",
            "Extracting  dataset/train/dhindo/128.jpeg                                \b\b\b\b 47%\b\b\b\b\b  OK \n",
            "Extracting  dataset/train/dhindo/129.jpeg                                \b\b\b\b 47%\b\b\b\b\b  OK \n",
            "Extracting  dataset/train/dhindo/13.jpeg                                 \b\b\b\b 47%\b\b\b\b\b  OK \n",
            "Extracting  dataset/train/dhindo/131.jpeg                                \b\b\b\b 47%\b\b\b\b\b  OK \n",
            "Extracting  dataset/train/dhindo/132.jpeg                                \b\b\b\b 47%\b\b\b\b\b  OK \n",
            "Extracting  dataset/train/dhindo/133.jpeg                                \b\b\b\b 47%\b\b\b\b\b  OK \n",
            "Extracting  dataset/train/dhindo/134.jpeg                                \b\b\b\b 47%\b\b\b\b\b  OK \n",
            "Extracting  dataset/train/dhindo/135.jpeg                                \b\b\b\b 47%\b\b\b\b\b  OK \n",
            "Extracting  dataset/train/dhindo/136.jpeg                                \b\b\b\b 47%\b\b\b\b\b  OK \n",
            "Extracting  dataset/train/dhindo/137.jpeg                                \b\b\b\b 47%\b\b\b\b\b  OK \n",
            "Extracting  dataset/train/dhindo/138.jpeg                                \b\b\b\b 47%\b\b\b\b\b  OK \n",
            "Extracting  dataset/train/dhindo/139.jpeg                                \b\b\b\b 47%\b\b\b\b\b  OK \n",
            "Extracting  dataset/train/dhindo/14.jpeg                                 \b\b\b\b 47%\b\b\b\b\b  OK \n",
            "Extracting  dataset/train/dhindo/142.jpeg                                \b\b\b\b 47%\b\b\b\b\b  OK \n",
            "Extracting  dataset/train/dhindo/144.jpeg                                \b\b\b\b 47%\b\b\b\b\b  OK \n",
            "Extracting  dataset/train/dhindo/147.jpeg                                \b\b\b\b 47%\b\b\b\b\b  OK \n",
            "Extracting  dataset/train/dhindo/148.jpeg                                \b\b\b\b 47%\b\b\b\b\b  OK \n",
            "Extracting  dataset/train/dhindo/15.jpeg                                 \b\b\b\b 48%\b\b\b\b\b  OK \n",
            "Extracting  dataset/train/dhindo/17.jpeg                                 \b\b\b\b 48%\b\b\b\b\b  OK \n",
            "Extracting  dataset/train/dhindo/19.jpeg                                 \b\b\b\b 48%\b\b\b\b\b  OK \n",
            "Extracting  dataset/train/dhindo/2.jpeg                                  \b\b\b\b 48%\b\b\b\b\b  OK \n",
            "Extracting  dataset/train/dhindo/20.jpeg                                 \b\b\b\b 48%\b\b\b\b\b  OK \n",
            "Extracting  dataset/train/dhindo/21.jpeg                                 \b\b\b\b 48%\b\b\b\b\b  OK \n",
            "Extracting  dataset/train/dhindo/23.jpeg                                 \b\b\b\b 48%\b\b\b\b\b  OK \n",
            "Extracting  dataset/train/dhindo/24.jpeg                                 \b\b\b\b 48%\b\b\b\b\b  OK \n",
            "Extracting  dataset/train/dhindo/25.jpeg                                 \b\b\b\b 48%\b\b\b\b\b  OK \n",
            "Extracting  dataset/train/dhindo/26.jpeg                                 \b\b\b\b 48%\b\b\b\b\b  OK \n",
            "Extracting  dataset/train/dhindo/27.jpeg                                 \b\b\b\b 48%\b\b\b\b\b  OK \n",
            "Extracting  dataset/train/dhindo/28.jpeg                                 \b\b\b\b 48%\b\b\b\b\b  OK \n",
            "Extracting  dataset/train/dhindo/31.jpeg                                 \b\b\b\b 48%\b\b\b\b\b  OK \n",
            "Extracting  dataset/train/dhindo/34.jpeg                                 \b\b\b\b 48%\b\b\b\b\b  OK \n",
            "Extracting  dataset/train/dhindo/36.jpeg                                 \b\b\b\b 48%\b\b\b\b\b  OK \n",
            "Extracting  dataset/train/dhindo/38.jpeg                                 \b\b\b\b 48%\b\b\b\b\b  OK \n",
            "Extracting  dataset/train/dhindo/39.jpeg                                 \b\b\b\b 48%\b\b\b\b\b  OK \n",
            "Extracting  dataset/train/dhindo/4.jpeg                                  \b\b\b\b 48%\b\b\b\b\b  OK \n",
            "Extracting  dataset/train/dhindo/40.jpeg                                 \b\b\b\b 48%\b\b\b\b\b  OK \n",
            "Extracting  dataset/train/dhindo/41.jpeg                                 \b\b\b\b 48%\b\b\b\b\b  OK \n",
            "Extracting  dataset/train/dhindo/42.jpeg                                 \b\b\b\b 48%\b\b\b\b\b  OK \n",
            "Extracting  dataset/train/dhindo/43.jpeg                                 \b\b\b\b 48%\b\b\b\b\b  OK \n",
            "Extracting  dataset/train/dhindo/44.jpeg                                 \b\b\b\b 48%\b\b\b\b\b  OK \n",
            "Extracting  dataset/train/dhindo/45.jpeg                                 \b\b\b\b 48%\b\b\b\b\b  OK \n",
            "Extracting  dataset/train/dhindo/46.jpeg                                 \b\b\b\b 48%\b\b\b\b\b  OK \n",
            "Extracting  dataset/train/dhindo/48.jpeg                                 \b\b\b\b 48%\b\b\b\b\b  OK \n",
            "Extracting  dataset/train/dhindo/49.jpeg                                 \b\b\b\b 48%\b\b\b\b\b  OK \n",
            "Extracting  dataset/train/dhindo/5.jpeg                                  \b\b\b\b 48%\b\b\b\b\b  OK \n",
            "Extracting  dataset/train/dhindo/52.jpeg                                 \b\b\b\b 48%\b\b\b\b\b  OK \n",
            "Extracting  dataset/train/dhindo/53.jpeg                                 \b\b\b\b 48%\b\b\b\b\b  OK \n",
            "Extracting  dataset/train/dhindo/54.jpeg                                 \b\b\b\b 48%\b\b\b\b\b  OK \n",
            "Extracting  dataset/train/dhindo/55.jpeg                                 \b\b\b\b 48%\b\b\b\b\b  OK \n",
            "Extracting  dataset/train/dhindo/56.jpeg                                 \b\b\b\b 48%\b\b\b\b\b  OK \n",
            "Extracting  dataset/train/dhindo/59.jpeg                                 \b\b\b\b 48%\b\b\b\b\b  OK \n",
            "Extracting  dataset/train/dhindo/61.jpeg                                 \b\b\b\b 48%\b\b\b\b\b  OK \n",
            "Extracting  dataset/train/dhindo/63.jpeg                                 \b\b\b\b 48%\b\b\b\b\b  OK \n",
            "Extracting  dataset/train/dhindo/64.jpeg                                 \b\b\b\b 48%\b\b\b\b\b  OK \n",
            "Extracting  dataset/train/dhindo/65.jpeg                                 \b\b\b\b 49%\b\b\b\b\b  OK \n",
            "Extracting  dataset/train/dhindo/72.jpeg                                 \b\b\b\b 49%\b\b\b\b\b  OK \n",
            "Extracting  dataset/train/dhindo/73.jpeg                                 \b\b\b\b 49%\b\b\b\b\b  OK \n",
            "Extracting  dataset/train/dhindo/75.jpeg                                 \b\b\b\b 49%\b\b\b\b\b  OK \n",
            "Extracting  dataset/train/dhindo/77.jpeg                                 \b\b\b\b 49%\b\b\b\b\b  OK \n",
            "Extracting  dataset/train/dhindo/78.jpeg                                 \b\b\b\b 49%\b\b\b\b\b  OK \n",
            "Extracting  dataset/train/dhindo/8.jpeg                                  \b\b\b\b 49%\b\b\b\b\b  OK \n",
            "Extracting  dataset/train/dhindo/80.jpeg                                 \b\b\b\b 49%\b\b\b\b\b  OK \n",
            "Extracting  dataset/train/dhindo/82.jpeg                                 \b\b\b\b 49%\b\b\b\b\b  OK \n",
            "Extracting  dataset/train/dhindo/84.jpeg                                 \b\b\b\b 49%\b\b\b\b\b  OK \n",
            "Extracting  dataset/train/dhindo/85.jpeg                                 \b\b\b\b 49%\b\b\b\b\b  OK \n",
            "Extracting  dataset/train/dhindo/86.jpeg                                 \b\b\b\b 49%\b\b\b\b\b  OK \n",
            "Extracting  dataset/train/dhindo/87.jpeg                                 \b\b\b\b 49%\b\b\b\b\b  OK \n",
            "Extracting  dataset/train/dhindo/88.jpeg                                 \b\b\b\b 49%\b\b\b\b\b  OK \n",
            "Extracting  dataset/train/dhindo/89.jpeg                                 \b\b\b\b 49%\b\b\b\b\b  OK \n",
            "Extracting  dataset/train/dhindo/9.jpeg                                  \b\b\b\b 49%\b\b\b\b\b  OK \n",
            "Extracting  dataset/train/dhindo/90.jpeg                                 \b\b\b\b 49%\b\b\b\b\b  OK \n",
            "Extracting  dataset/train/dhindo/91.jpeg                                 \b\b\b\b 49%\b\b\b\b\b  OK \n",
            "Extracting  dataset/train/dhindo/92.jpeg                                 \b\b\b\b 49%\b\b\b\b\b  OK \n",
            "Extracting  dataset/train/dhindo/94.jpeg                                 \b\b\b\b 49%\b\b\b\b\b  OK \n",
            "Extracting  dataset/train/dhindo/95.jpeg                                 \b\b\b\b 49%\b\b\b\b\b  OK \n",
            "Extracting  dataset/train/dhindo/96.jpeg                                 \b\b\b\b 49%\b\b\b\b\b  OK \n",
            "Extracting  dataset/train/dhindo/97.jpeg                                 \b\b\b\b 49%\b\b\b\b\b  OK \n",
            "Extracting  dataset/train/dhindo/98.jpeg                                 \b\b\b\b 49%\b\b\b\b\b  OK \n",
            "Extracting  dataset/train/dhindo/99.jpeg                                 \b\b\b\b 49%\b\b\b\b\b  OK \n",
            "Creating    dataset/train/gundruk                                     OK\n",
            "Extracting  dataset/train/gundruk/0.jpeg                                 \b\b\b\b 49%\b\b\b\b\b  OK \n",
            "Extracting  dataset/train/gundruk/12.jpeg                                \b\b\b\b 50%\b\b\b\b\b  OK \n",
            "Extracting  dataset/train/gundruk/13.jpeg                                \b\b\b\b 50%\b\b\b\b\b  OK \n",
            "Extracting  dataset/train/gundruk/14.jpeg                                \b\b\b\b 50%\b\b\b\b\b  OK \n",
            "Extracting  dataset/train/gundruk/15.jpeg                                \b\b\b\b 50%\b\b\b\b\b  OK \n",
            "Extracting  dataset/train/gundruk/16.jpeg                                \b\b\b\b 50%\b\b\b\b\b  OK \n",
            "Extracting  dataset/train/gundruk/17.jpeg                                \b\b\b\b 50%\b\b\b\b\b  OK \n",
            "Extracting  dataset/train/gundruk/18.jpeg                                \b\b\b\b 50%\b\b\b\b\b  OK \n",
            "Extracting  dataset/train/gundruk/21.jpeg                                \b\b\b\b 50%\b\b\b\b\b  OK \n",
            "Extracting  dataset/train/gundruk/22.jpeg                                \b\b\b\b 50%\b\b\b\b\b  OK \n",
            "Extracting  dataset/train/gundruk/23.jpeg                                \b\b\b\b 50%\b\b\b\b\b  OK \n",
            "Extracting  dataset/train/gundruk/24.jpeg                                \b\b\b\b 50%\b\b\b\b\b  OK \n",
            "Extracting  dataset/train/gundruk/25.jpeg                                \b\b\b\b 50%\b\b\b\b\b  OK \n",
            "Extracting  dataset/train/gundruk/27.jpeg                                \b\b\b\b 50%\b\b\b\b\b  OK \n",
            "Extracting  dataset/train/gundruk/28.jpeg                                \b\b\b\b 50%\b\b\b\b\b  OK \n",
            "Extracting  dataset/train/gundruk/3.jpeg                                 \b\b\b\b 50%\b\b\b\b\b  OK \n",
            "Extracting  dataset/train/gundruk/30.jpeg                                \b\b\b\b 50%\b\b\b\b\b  OK \n",
            "Extracting  dataset/train/gundruk/31.jpeg                                \b\b\b\b 50%\b\b\b\b\b  OK \n",
            "Extracting  dataset/train/gundruk/33.jpeg                                \b\b\b\b 51%\b\b\b\b\b  OK \n",
            "Extracting  dataset/train/gundruk/34.jpeg                                \b\b\b\b 51%\b\b\b\b\b  OK \n",
            "Extracting  dataset/train/gundruk/35.jpeg                                \b\b\b\b 51%\b\b\b\b\b  OK \n",
            "Extracting  dataset/train/gundruk/36.jpeg                                \b\b\b\b 51%\b\b\b\b\b  OK \n",
            "Extracting  dataset/train/gundruk/37.jpeg                                \b\b\b\b 51%\b\b\b\b\b  OK \n",
            "Extracting  dataset/train/gundruk/38.jpeg                                \b\b\b\b 51%\b\b\b\b\b  OK \n",
            "Extracting  dataset/train/gundruk/39.jpeg                                \b\b\b\b 51%\b\b\b\b\b  OK \n",
            "Extracting  dataset/train/gundruk/4.jpeg                                 \b\b\b\b 51%\b\b\b\b\b  OK \n",
            "Extracting  dataset/train/gundruk/41.jpeg                                \b\b\b\b 51%\b\b\b\b\b  OK \n",
            "Extracting  dataset/train/gundruk/42.jpeg                                \b\b\b\b 51%\b\b\b\b\b  OK \n",
            "Extracting  dataset/train/gundruk/43.jpeg                                \b\b\b\b 51%\b\b\b\b\b  OK \n",
            "Extracting  dataset/train/gundruk/45.jpeg                                \b\b\b\b 51%\b\b\b\b\b  OK \n",
            "Extracting  dataset/train/gundruk/48.jpeg                                \b\b\b\b 51%\b\b\b\b\b  OK \n",
            "Extracting  dataset/train/gundruk/5.jpeg                                 \b\b\b\b 51%\b\b\b\b\b  OK \n",
            "Extracting  dataset/train/gundruk/50.jpeg                                \b\b\b\b 51%\b\b\b\b\b  OK \n",
            "Extracting  dataset/train/gundruk/51.jpeg                                \b\b\b\b 51%\b\b\b\b\b  OK \n",
            "Extracting  dataset/train/gundruk/53.jpeg                                \b\b\b\b 51%\b\b\b\b\b  OK \n",
            "Extracting  dataset/train/gundruk/54.jpeg                                \b\b\b\b 51%\b\b\b\b\b  OK \n",
            "Extracting  dataset/train/gundruk/55.jpeg                                \b\b\b\b 52%\b\b\b\b\b  OK \n",
            "Extracting  dataset/train/gundruk/56.jpeg                                \b\b\b\b 52%\b\b\b\b\b  OK \n",
            "Extracting  dataset/train/gundruk/57.jpeg                                \b\b\b\b 52%\b\b\b\b\b  OK \n",
            "Extracting  dataset/train/gundruk/58.jpeg                                \b\b\b\b 52%\b\b\b\b\b  OK \n",
            "Extracting  dataset/train/gundruk/59.jpeg                                \b\b\b\b 52%\b\b\b\b\b  OK \n",
            "Extracting  dataset/train/gundruk/6.jpeg                                 \b\b\b\b 52%\b\b\b\b\b  OK \n",
            "Extracting  dataset/train/gundruk/60.jpeg                                \b\b\b\b 52%\b\b\b\b\b  OK \n",
            "Extracting  dataset/train/gundruk/61.jpeg                                \b\b\b\b 52%\b\b\b\b\b  OK \n",
            "Extracting  dataset/train/gundruk/62.jpeg                                \b\b\b\b 52%\b\b\b\b\b  OK \n",
            "Extracting  dataset/train/gundruk/63.jpeg                                \b\b\b\b 52%\b\b\b\b\b  OK \n",
            "Extracting  dataset/train/gundruk/64.jpeg                                \b\b\b\b 52%\b\b\b\b\b  OK \n",
            "Extracting  dataset/train/gundruk/65.jpeg                                \b\b\b\b 52%\b\b\b\b\b  OK \n",
            "Extracting  dataset/train/gundruk/66.jpeg                                \b\b\b\b 52%\b\b\b\b\b  OK \n",
            "Extracting  dataset/train/gundruk/67.jpeg                                \b\b\b\b 52%\b\b\b\b\b  OK \n",
            "Extracting  dataset/train/gundruk/68.jpeg                                \b\b\b\b 52%\b\b\b\b\b  OK \n",
            "Extracting  dataset/train/gundruk/69.jpeg                                \b\b\b\b 52%\b\b\b\b\b  OK \n",
            "Extracting  dataset/train/gundruk/7.jpeg                                 \b\b\b\b 52%\b\b\b\b\b  OK \n",
            "Extracting  dataset/train/gundruk/70.jpeg                                \b\b\b\b 52%\b\b\b\b\b  OK \n",
            "Extracting  dataset/train/gundruk/71.jpeg                                \b\b\b\b 52%\b\b\b\b\b  OK \n",
            "Extracting  dataset/train/gundruk/72.jpeg                                \b\b\b\b 52%\b\b\b\b\b  OK \n",
            "Extracting  dataset/train/gundruk/74.jpeg                                \b\b\b\b 52%\b\b\b\b\b  OK \n",
            "Extracting  dataset/train/gundruk/76.jpeg                                \b\b\b\b 52%\b\b\b\b\b  OK \n",
            "Extracting  dataset/train/gundruk/77.jpeg                                \b\b\b\b 52%\b\b\b\b\b  OK \n",
            "Extracting  dataset/train/gundruk/78.jpeg                                \b\b\b\b 52%\b\b\b\b\b  OK \n",
            "Extracting  dataset/train/gundruk/79.jpeg                                \b\b\b\b 52%\b\b\b\b\b  OK \n",
            "Extracting  dataset/train/gundruk/81.jpeg                                \b\b\b\b 52%\b\b\b\b\b  OK \n",
            "Extracting  dataset/train/gundruk/82.jpeg                                \b\b\b\b 52%\b\b\b\b\b  OK \n",
            "Extracting  dataset/train/gundruk/83.jpeg                                \b\b\b\b 52%\b\b\b\b 53%\b\b\b\b\b  OK \n",
            "Extracting  dataset/train/gundruk/84.jpeg                                \b\b\b\b 53%\b\b\b\b\b  OK \n",
            "Extracting  dataset/train/gundruk/85.jpeg                                \b\b\b\b 53%\b\b\b\b\b  OK \n",
            "Extracting  dataset/train/gundruk/86.jpeg                                \b\b\b\b 53%\b\b\b\b\b  OK \n",
            "Extracting  dataset/train/gundruk/87.jpeg                                \b\b\b\b 53%\b\b\b\b\b  OK \n",
            "Extracting  dataset/train/gundruk/88.jpeg                                \b\b\b\b 53%\b\b\b\b\b  OK \n",
            "Extracting  dataset/train/gundruk/89.jpeg                                \b\b\b\b 53%\b\b\b\b\b  OK \n",
            "Extracting  dataset/train/gundruk/9.jpeg                                 \b\b\b\b 53%\b\b\b\b\b  OK \n",
            "Extracting  dataset/train/gundruk/91.jpeg                                \b\b\b\b 53%\b\b\b\b\b  OK \n",
            "Extracting  dataset/train/gundruk/92.jpeg                                \b\b\b\b 53%\b\b\b\b\b  OK \n",
            "Extracting  dataset/train/gundruk/93.jpeg                                \b\b\b\b 53%\b\b\b\b\b  OK \n",
            "Extracting  dataset/train/gundruk/94.jpeg                                \b\b\b\b 53%\b\b\b\b\b  OK \n",
            "Extracting  dataset/train/gundruk/95.jpeg                                \b\b\b\b 53%\b\b\b\b\b  OK \n",
            "Extracting  dataset/train/gundruk/96.jpeg                                \b\b\b\b 53%\b\b\b\b\b  OK \n",
            "Extracting  dataset/train/gundruk/97.jpeg                                \b\b\b\b 53%\b\b\b\b\b  OK \n",
            "Extracting  dataset/train/gundruk/98.jpeg                                \b\b\b\b 53%\b\b\b\b\b  OK \n",
            "Extracting  dataset/train/gundruk/99.jpeg                                \b\b\b\b 53%\b\b\b\b\b  OK \n",
            "Creating    dataset/train/kheer                                       OK\n",
            "Extracting  dataset/train/kheer/0.jpeg                                   \b\b\b\b 53%\b\b\b\b\b  OK \n",
            "Extracting  dataset/train/kheer/1.jpeg                                   \b\b\b\b 53%\b\b\b\b\b  OK \n",
            "Extracting  dataset/train/kheer/10.jpeg                                  \b\b\b\b 53%\b\b\b\b\b  OK \n",
            "Extracting  dataset/train/kheer/101.jpeg                                 \b\b\b\b 53%\b\b\b\b\b  OK \n",
            "Extracting  dataset/train/kheer/103.jpeg                                 \b\b\b\b 53%\b\b\b\b\b  OK \n",
            "Extracting  dataset/train/kheer/104.jpeg                                 \b\b\b\b 53%\b\b\b\b\b  OK \n",
            "Extracting  dataset/train/kheer/105.jpeg                                 \b\b\b\b 53%\b\b\b\b\b  OK \n",
            "Extracting  dataset/train/kheer/107.jpeg                                 \b\b\b\b 53%\b\b\b\b\b  OK \n",
            "Extracting  dataset/train/kheer/108.jpeg                                 \b\b\b\b 53%\b\b\b\b\b  OK \n",
            "Extracting  dataset/train/kheer/11.jpeg                                  \b\b\b\b 53%\b\b\b\b\b  OK \n",
            "Extracting  dataset/train/kheer/110.jpeg                                 \b\b\b\b 54%\b\b\b\b\b  OK \n",
            "Extracting  dataset/train/kheer/111.jpeg                                 \b\b\b\b 54%\b\b\b\b\b  OK \n",
            "Extracting  dataset/train/kheer/112.jpeg                                 \b\b\b\b 54%\b\b\b\b\b  OK \n",
            "Extracting  dataset/train/kheer/113.jpeg                                 \b\b\b\b 54%\b\b\b\b\b  OK \n",
            "Extracting  dataset/train/kheer/114.jpeg                                 \b\b\b\b 54%\b\b\b\b\b  OK \n",
            "Extracting  dataset/train/kheer/116.jpeg                                 \b\b\b\b 54%\b\b\b\b\b  OK \n",
            "Extracting  dataset/train/kheer/117.jpeg                                 \b\b\b\b 54%\b\b\b\b\b  OK \n",
            "Extracting  dataset/train/kheer/118.jpeg                                 \b\b\b\b 54%\b\b\b\b\b  OK \n",
            "Extracting  dataset/train/kheer/119.jpeg                                 \b\b\b\b 54%\b\b\b\b\b  OK \n",
            "Extracting  dataset/train/kheer/12.jpeg                                  \b\b\b\b 54%\b\b\b\b\b  OK \n",
            "Extracting  dataset/train/kheer/120.jpeg                                 \b\b\b\b 54%\b\b\b\b\b  OK \n",
            "Extracting  dataset/train/kheer/123.jpeg                                 \b\b\b\b 54%\b\b\b\b\b  OK \n",
            "Extracting  dataset/train/kheer/124.jpeg                                 \b\b\b\b 54%\b\b\b\b\b  OK \n",
            "Extracting  dataset/train/kheer/125.jpeg                                 \b\b\b\b 54%\b\b\b\b\b  OK \n",
            "Extracting  dataset/train/kheer/126.jpeg                                 \b\b\b\b 54%\b\b\b\b\b  OK \n",
            "Extracting  dataset/train/kheer/127.jpeg                                 \b\b\b\b 54%\b\b\b\b\b  OK \n",
            "Extracting  dataset/train/kheer/129.jpeg                                 \b\b\b\b 54%\b\b\b\b\b  OK \n",
            "Extracting  dataset/train/kheer/13.jpeg                                  \b\b\b\b 54%\b\b\b\b\b  OK \n",
            "Extracting  dataset/train/kheer/130.jpeg                                 \b\b\b\b 54%\b\b\b\b\b  OK \n",
            "Extracting  dataset/train/kheer/131.jpeg                                 \b\b\b\b 54%\b\b\b\b\b  OK \n",
            "Extracting  dataset/train/kheer/132.jpeg                                 \b\b\b\b 54%\b\b\b\b\b  OK \n",
            "Extracting  dataset/train/kheer/133.jpeg                                 \b\b\b\b 54%\b\b\b\b\b  OK \n",
            "Extracting  dataset/train/kheer/135.jpeg                                 \b\b\b\b 54%\b\b\b\b\b  OK \n",
            "Extracting  dataset/train/kheer/136.jpeg                                 \b\b\b\b 54%\b\b\b\b\b  OK \n",
            "Extracting  dataset/train/kheer/137.jpeg                                 \b\b\b\b 54%\b\b\b\b\b  OK \n",
            "Extracting  dataset/train/kheer/138.jpeg                                 \b\b\b\b 54%\b\b\b\b\b  OK \n",
            "Extracting  dataset/train/kheer/140.jpeg                                 \b\b\b\b 54%\b\b\b\b\b  OK \n",
            "Extracting  dataset/train/kheer/141.jpeg                                 \b\b\b\b 54%\b\b\b\b\b  OK \n",
            "Extracting  dataset/train/kheer/142.jpeg                                 \b\b\b\b 54%\b\b\b\b\b  OK \n",
            "Extracting  dataset/train/kheer/143.jpeg                                 \b\b\b\b 55%\b\b\b\b\b  OK \n",
            "Extracting  dataset/train/kheer/144.jpeg                                 \b\b\b\b 55%\b\b\b\b\b  OK \n",
            "Extracting  dataset/train/kheer/145.jpeg                                 \b\b\b\b 55%\b\b\b\b\b  OK \n",
            "Extracting  dataset/train/kheer/149.jpeg                                 \b\b\b\b 55%\b\b\b\b\b  OK \n",
            "Extracting  dataset/train/kheer/15.jpeg                                  \b\b\b\b 55%\b\b\b\b\b  OK \n",
            "Extracting  dataset/train/kheer/150.jpeg                                 \b\b\b\b 55%\b\b\b\b\b  OK \n",
            "Extracting  dataset/train/kheer/151.jpeg                                 \b\b\b\b 55%\b\b\b\b\b  OK \n",
            "Extracting  dataset/train/kheer/152.jpeg                                 \b\b\b\b 55%\b\b\b\b\b  OK \n",
            "Extracting  dataset/train/kheer/154.jpeg                                 \b\b\b\b 56%\b\b\b\b\b  OK \n",
            "Extracting  dataset/train/kheer/155.jpeg                                 \b\b\b\b 56%\b\b\b\b\b  OK \n",
            "Extracting  dataset/train/kheer/156.jpeg                                 \b\b\b\b 56%\b\b\b\b\b  OK \n",
            "Extracting  dataset/train/kheer/157.jpeg                                 \b\b\b\b 56%\b\b\b\b\b  OK \n",
            "Extracting  dataset/train/kheer/158.jpeg                                 \b\b\b\b 56%\b\b\b\b\b  OK \n",
            "Extracting  dataset/train/kheer/159.jpeg                                 \b\b\b\b 56%\b\b\b\b\b  OK \n",
            "Extracting  dataset/train/kheer/16.jpeg                                  \b\b\b\b 56%\b\b\b\b\b  OK \n",
            "Extracting  dataset/train/kheer/160.jpeg                                 \b\b\b\b 56%\b\b\b\b\b  OK \n",
            "Extracting  dataset/train/kheer/162.jpeg                                 \b\b\b\b 56%\b\b\b\b\b  OK \n",
            "Extracting  dataset/train/kheer/163.jpeg                                 \b\b\b\b 56%\b\b\b\b\b  OK \n",
            "Extracting  dataset/train/kheer/164.jpeg                                 \b\b\b\b 56%\b\b\b\b\b  OK \n",
            "Extracting  dataset/train/kheer/165.jpeg                                 \b\b\b\b 56%\b\b\b\b\b  OK \n",
            "Extracting  dataset/train/kheer/168.jpeg                                 \b\b\b\b 56%\b\b\b\b\b  OK \n",
            "Extracting  dataset/train/kheer/169.jpeg                                 \b\b\b\b 56%\b\b\b\b\b  OK \n",
            "Extracting  dataset/train/kheer/17.jpeg                                  \b\b\b\b 56%\b\b\b\b\b  OK \n",
            "Extracting  dataset/train/kheer/170.jpeg                                 \b\b\b\b 56%\b\b\b\b\b  OK \n",
            "Extracting  dataset/train/kheer/172.jpeg                                 \b\b\b\b 56%\b\b\b\b\b  OK \n",
            "Extracting  dataset/train/kheer/173.jpeg                                 \b\b\b\b 56%\b\b\b\b\b  OK \n",
            "Extracting  dataset/train/kheer/174.jpeg                                 \b\b\b\b 56%\b\b\b\b\b  OK \n",
            "Extracting  dataset/train/kheer/177.jpeg                                 \b\b\b\b 56%\b\b\b\b\b  OK \n",
            "Extracting  dataset/train/kheer/178.jpeg                                 \b\b\b\b 56%\b\b\b\b\b  OK \n",
            "Extracting  dataset/train/kheer/182.jpeg                                 \b\b\b\b 56%\b\b\b\b\b  OK \n",
            "Extracting  dataset/train/kheer/183.jpeg                                 \b\b\b\b 57%\b\b\b\b\b  OK \n",
            "Extracting  dataset/train/kheer/185.jpeg                                 \b\b\b\b 57%\b\b\b\b\b  OK \n",
            "Extracting  dataset/train/kheer/186.jpeg                                 \b\b\b\b 57%\b\b\b\b\b  OK \n",
            "Extracting  dataset/train/kheer/187.jpeg                                 \b\b\b\b 57%\b\b\b\b\b  OK \n",
            "Extracting  dataset/train/kheer/190.jpeg                                 \b\b\b\b 57%\b\b\b\b\b  OK \n",
            "Extracting  dataset/train/kheer/192.jpeg                                 \b\b\b\b 57%\b\b\b\b\b  OK \n",
            "Extracting  dataset/train/kheer/194.jpeg                                 \b\b\b\b 57%\b\b\b\b\b  OK \n",
            "Extracting  dataset/train/kheer/195.jpeg                                 \b\b\b\b 57%\b\b\b\b\b  OK \n",
            "Extracting  dataset/train/kheer/196.jpeg                                 \b\b\b\b 57%\b\b\b\b\b  OK \n",
            "Extracting  dataset/train/kheer/197.jpeg                                 \b\b\b\b 57%\b\b\b\b\b  OK \n",
            "Extracting  dataset/train/kheer/198.jpeg                                 \b\b\b\b 57%\b\b\b\b\b  OK \n",
            "Extracting  dataset/train/kheer/199.jpeg                                 \b\b\b\b 57%\b\b\b\b\b  OK \n",
            "Extracting  dataset/train/kheer/2.jpeg                                   \b\b\b\b 57%\b\b\b\b\b  OK \n",
            "Extracting  dataset/train/kheer/200.jpeg                                 \b\b\b\b 57%\b\b\b\b\b  OK \n",
            "Extracting  dataset/train/kheer/201.jpeg                                 \b\b\b\b 57%\b\b\b\b\b  OK \n",
            "Extracting  dataset/train/kheer/202.jpeg                                 \b\b\b\b 57%\b\b\b\b\b  OK \n",
            "Extracting  dataset/train/kheer/203.jpeg                                 \b\b\b\b 57%\b\b\b\b\b  OK \n",
            "Extracting  dataset/train/kheer/205.jpeg                                 \b\b\b\b 57%\b\b\b\b\b  OK \n",
            "Extracting  dataset/train/kheer/206.jpeg                                 \b\b\b\b 57%\b\b\b\b\b  OK \n",
            "Extracting  dataset/train/kheer/207.jpeg                                 \b\b\b\b 57%\b\b\b\b\b  OK \n",
            "Extracting  dataset/train/kheer/208.jpeg                                 \b\b\b\b 57%\b\b\b\b\b  OK \n",
            "Extracting  dataset/train/kheer/209.jpeg                                 \b\b\b\b 57%\b\b\b\b\b  OK \n",
            "Extracting  dataset/train/kheer/21.jpeg                                  \b\b\b\b 57%\b\b\b\b\b  OK \n",
            "Extracting  dataset/train/kheer/211.jpeg                                 \b\b\b\b 57%\b\b\b\b\b  OK \n",
            "Extracting  dataset/train/kheer/212.jpeg                                 \b\b\b\b 57%\b\b\b\b\b  OK \n",
            "Extracting  dataset/train/kheer/213.jpeg                                 \b\b\b\b 57%\b\b\b\b\b  OK \n",
            "Extracting  dataset/train/kheer/216.jpeg                                 \b\b\b\b 57%\b\b\b\b\b  OK \n",
            "Extracting  dataset/train/kheer/217.jpeg                                 \b\b\b\b 57%\b\b\b\b\b  OK \n",
            "Extracting  dataset/train/kheer/218.jpeg                                 \b\b\b\b 58%\b\b\b\b\b  OK \n",
            "Extracting  dataset/train/kheer/219.jpeg                                 \b\b\b\b 58%\b\b\b\b\b  OK \n",
            "Extracting  dataset/train/kheer/22.jpeg                                  \b\b\b\b 58%\b\b\b\b\b  OK \n",
            "Extracting  dataset/train/kheer/222.jpeg                                 \b\b\b\b 58%\b\b\b\b\b  OK \n",
            "Extracting  dataset/train/kheer/226.jpeg                                 \b\b\b\b 58%\b\b\b\b\b  OK \n",
            "Extracting  dataset/train/kheer/229.jpeg                                 \b\b\b\b 58%\b\b\b\b\b  OK \n",
            "Extracting  dataset/train/kheer/23.jpeg                                  \b\b\b\b 58%\b\b\b\b\b  OK \n",
            "Extracting  dataset/train/kheer/231.jpeg                                 \b\b\b\b 58%\b\b\b\b\b  OK \n",
            "Extracting  dataset/train/kheer/232.jpeg                                 \b\b\b\b 58%\b\b\b\b\b  OK \n",
            "Extracting  dataset/train/kheer/233.jpeg                                 \b\b\b\b 58%\b\b\b\b\b  OK \n",
            "Extracting  dataset/train/kheer/234.jpeg                                 \b\b\b\b 58%\b\b\b\b\b  OK \n",
            "Extracting  dataset/train/kheer/235.jpeg                                 \b\b\b\b 58%\b\b\b\b\b  OK \n",
            "Extracting  dataset/train/kheer/237.jpeg                                 \b\b\b\b 58%\b\b\b\b\b  OK \n",
            "Extracting  dataset/train/kheer/239.jpeg                                 \b\b\b\b 58%\b\b\b\b\b  OK \n",
            "Extracting  dataset/train/kheer/24.jpeg                                  \b\b\b\b 58%\b\b\b\b\b  OK \n",
            "Extracting  dataset/train/kheer/242.jpeg                                 \b\b\b\b 58%\b\b\b\b\b  OK \n",
            "Extracting  dataset/train/kheer/243.jpeg                                 \b\b\b\b 58%\b\b\b\b\b  OK \n",
            "Extracting  dataset/train/kheer/244.jpeg                                 \b\b\b\b 58%\b\b\b\b\b  OK \n",
            "Extracting  dataset/train/kheer/245.jpeg                                 \b\b\b\b 58%\b\b\b\b\b  OK \n",
            "Extracting  dataset/train/kheer/246.jpeg                                 \b\b\b\b 58%\b\b\b\b\b  OK \n",
            "Extracting  dataset/train/kheer/247.jpeg                                 \b\b\b\b 58%\b\b\b\b\b  OK \n",
            "Extracting  dataset/train/kheer/248.jpeg                                 \b\b\b\b 58%\b\b\b\b\b  OK \n",
            "Extracting  dataset/train/kheer/249.jpeg                                 \b\b\b\b 58%\b\b\b\b\b  OK \n",
            "Extracting  dataset/train/kheer/25.jpeg                                  \b\b\b\b 58%\b\b\b\b\b  OK \n",
            "Extracting  dataset/train/kheer/250.jpeg                                 \b\b\b\b 59%\b\b\b\b\b  OK \n",
            "Extracting  dataset/train/kheer/251.jpeg                                 \b\b\b\b 59%\b\b\b\b\b  OK \n",
            "Extracting  dataset/train/kheer/253.jpeg                                 \b\b\b\b 59%\b\b\b\b\b  OK \n",
            "Extracting  dataset/train/kheer/254.jpeg                                 \b\b\b\b 59%\b\b\b\b\b  OK \n",
            "Extracting  dataset/train/kheer/255.jpeg                                 \b\b\b\b 59%\b\b\b\b\b  OK \n",
            "Extracting  dataset/train/kheer/256.jpeg                                 \b\b\b\b 59%\b\b\b\b\b  OK \n",
            "Extracting  dataset/train/kheer/257.jpeg                                 \b\b\b\b 59%\b\b\b\b\b  OK \n",
            "Extracting  dataset/train/kheer/258.jpeg                                 \b\b\b\b 59%\b\b\b\b\b  OK \n",
            "Extracting  dataset/train/kheer/26.jpeg                                  \b\b\b\b 59%\b\b\b\b\b  OK \n",
            "Extracting  dataset/train/kheer/260.jpeg                                 \b\b\b\b 59%\b\b\b\b\b  OK \n",
            "Extracting  dataset/train/kheer/261.jpeg                                 \b\b\b\b 59%\b\b\b\b\b  OK \n",
            "Extracting  dataset/train/kheer/262.jpeg                                 \b\b\b\b 59%\b\b\b\b\b  OK \n",
            "Extracting  dataset/train/kheer/266.jpeg                                 \b\b\b\b 59%\b\b\b\b\b  OK \n",
            "Extracting  dataset/train/kheer/268.jpeg                                 \b\b\b\b 59%\b\b\b\b\b  OK \n",
            "Extracting  dataset/train/kheer/27.jpeg                                  \b\b\b\b 59%\b\b\b\b\b  OK \n",
            "Extracting  dataset/train/kheer/270.jpeg                                 \b\b\b\b 59%\b\b\b\b\b  OK \n",
            "Extracting  dataset/train/kheer/271.jpeg                                 \b\b\b\b 59%\b\b\b\b\b  OK \n",
            "Extracting  dataset/train/kheer/272.jpeg                                 \b\b\b\b 59%\b\b\b\b\b  OK \n",
            "Extracting  dataset/train/kheer/273.jpeg                                 \b\b\b\b 59%\b\b\b\b\b  OK \n",
            "Extracting  dataset/train/kheer/276.jpeg                                 \b\b\b\b 59%\b\b\b\b\b  OK \n",
            "Extracting  dataset/train/kheer/277.jpeg                                 \b\b\b\b 60%\b\b\b\b\b  OK \n",
            "Extracting  dataset/train/kheer/278.jpeg                                 \b\b\b\b 60%\b\b\b\b\b  OK \n",
            "Extracting  dataset/train/kheer/28.jpeg                                  \b\b\b\b 60%\b\b\b\b\b  OK \n",
            "Extracting  dataset/train/kheer/281.jpeg                                 \b\b\b\b 60%\b\b\b\b\b  OK \n",
            "Extracting  dataset/train/kheer/282.jpeg                                 \b\b\b\b 60%\b\b\b\b\b  OK \n",
            "Extracting  dataset/train/kheer/283.jpeg                                 \b\b\b\b 60%\b\b\b\b\b  OK \n",
            "Extracting  dataset/train/kheer/286.jpeg                                 \b\b\b\b 60%\b\b\b\b\b  OK \n",
            "Extracting  dataset/train/kheer/287.jpeg                                 \b\b\b\b 60%\b\b\b\b\b  OK \n",
            "Extracting  dataset/train/kheer/289.jpeg                                 \b\b\b\b 60%\b\b\b\b\b  OK \n",
            "Extracting  dataset/train/kheer/29.jpeg                                  \b\b\b\b 60%\b\b\b\b\b  OK \n",
            "Extracting  dataset/train/kheer/291.jpeg                                 \b\b\b\b 60%\b\b\b\b\b  OK \n",
            "Extracting  dataset/train/kheer/293.jpeg                                 \b\b\b\b 60%\b\b\b\b\b  OK \n",
            "Extracting  dataset/train/kheer/294.jpeg                                 \b\b\b\b 60%\b\b\b\b\b  OK \n",
            "Extracting  dataset/train/kheer/296.jpeg                                 \b\b\b\b 60%\b\b\b\b\b  OK \n",
            "Extracting  dataset/train/kheer/297.jpeg                                 \b\b\b\b 60%\b\b\b\b\b  OK \n",
            "Extracting  dataset/train/kheer/298.jpeg                                 \b\b\b\b 60%\b\b\b\b\b  OK \n",
            "Extracting  dataset/train/kheer/299.jpeg                                 \b\b\b\b 60%\b\b\b\b\b  OK \n",
            "Extracting  dataset/train/kheer/30.jpeg                                  \b\b\b\b 60%\b\b\b\b\b  OK \n",
            "Extracting  dataset/train/kheer/300.jpeg                                 \b\b\b\b 60%\b\b\b\b\b  OK \n",
            "Extracting  dataset/train/kheer/301.jpeg                                 \b\b\b\b 60%\b\b\b\b\b  OK \n",
            "Extracting  dataset/train/kheer/302.jpeg                                 \b\b\b\b 60%\b\b\b\b\b  OK \n",
            "Extracting  dataset/train/kheer/303.jpeg                                 \b\b\b\b 60%\b\b\b\b\b  OK \n",
            "Extracting  dataset/train/kheer/304.jpeg                                 \b\b\b\b 60%\b\b\b\b\b  OK \n",
            "Extracting  dataset/train/kheer/305.jpeg                                 \b\b\b\b 60%\b\b\b\b\b  OK \n",
            "Extracting  dataset/train/kheer/306.jpeg                                 \b\b\b\b 60%\b\b\b\b\b  OK \n",
            "Extracting  dataset/train/kheer/307.jpeg                                 \b\b\b\b 60%\b\b\b\b\b  OK \n",
            "Extracting  dataset/train/kheer/308.jpeg                                 \b\b\b\b 61%\b\b\b\b\b  OK \n",
            "Extracting  dataset/train/kheer/309.jpeg                                 \b\b\b\b 61%\b\b\b\b\b  OK \n",
            "Extracting  dataset/train/kheer/31.jpeg                                  \b\b\b\b 61%\b\b\b\b\b  OK \n",
            "Extracting  dataset/train/kheer/311.jpeg                                 \b\b\b\b 61%\b\b\b\b\b  OK \n",
            "Extracting  dataset/train/kheer/312.jpeg                                 \b\b\b\b 61%\b\b\b\b\b  OK \n",
            "Extracting  dataset/train/kheer/313.jpeg                                 \b\b\b\b 61%\b\b\b\b\b  OK \n",
            "Extracting  dataset/train/kheer/314.jpeg                                 \b\b\b\b 61%\b\b\b\b\b  OK \n",
            "Extracting  dataset/train/kheer/315.jpeg                                 \b\b\b\b 61%\b\b\b\b\b  OK \n",
            "Extracting  dataset/train/kheer/316.jpeg                                 \b\b\b\b 61%\b\b\b\b\b  OK \n",
            "Extracting  dataset/train/kheer/320.jpeg                                 \b\b\b\b 61%\b\b\b\b\b  OK \n",
            "Extracting  dataset/train/kheer/321.jpeg                                 \b\b\b\b 61%\b\b\b\b\b  OK \n",
            "Extracting  dataset/train/kheer/322.jpeg                                 \b\b\b\b 61%\b\b\b\b\b  OK \n",
            "Extracting  dataset/train/kheer/323.jpeg                                 \b\b\b\b 61%\b\b\b\b\b  OK \n",
            "Extracting  dataset/train/kheer/324.jpeg                                 \b\b\b\b 61%\b\b\b\b\b  OK \n",
            "Extracting  dataset/train/kheer/325.jpeg                                 \b\b\b\b 62%\b\b\b\b\b  OK \n",
            "Extracting  dataset/train/kheer/328.jpeg                                 \b\b\b\b 62%\b\b\b\b\b  OK \n",
            "Extracting  dataset/train/kheer/329.jpeg                                 \b\b\b\b 62%\b\b\b\b\b  OK \n",
            "Extracting  dataset/train/kheer/331.jpeg                                 \b\b\b\b 62%\b\b\b\b\b  OK \n",
            "Extracting  dataset/train/kheer/332.jpeg                                 \b\b\b\b 62%\b\b\b\b\b  OK \n",
            "Extracting  dataset/train/kheer/333.jpeg                                 \b\b\b\b 62%\b\b\b\b\b  OK \n",
            "Extracting  dataset/train/kheer/334.jpeg                                 \b\b\b\b 62%\b\b\b\b\b  OK \n",
            "Extracting  dataset/train/kheer/335.jpeg                                 \b\b\b\b 62%\b\b\b\b\b  OK \n",
            "Extracting  dataset/train/kheer/336.jpeg                                 \b\b\b\b 62%\b\b\b\b\b  OK \n",
            "Extracting  dataset/train/kheer/337.jpeg                                 \b\b\b\b 62%\b\b\b\b\b  OK \n",
            "Extracting  dataset/train/kheer/338.jpeg                                 \b\b\b\b 62%\b\b\b\b\b  OK \n",
            "Extracting  dataset/train/kheer/339.jpeg                                 \b\b\b\b 62%\b\b\b\b\b  OK \n",
            "Extracting  dataset/train/kheer/340.jpeg                                 \b\b\b\b 62%\b\b\b\b\b  OK \n",
            "Extracting  dataset/train/kheer/341.jpeg                                 \b\b\b\b 62%\b\b\b\b\b  OK \n",
            "Extracting  dataset/train/kheer/342.jpeg                                 \b\b\b\b 62%\b\b\b\b\b  OK \n",
            "Extracting  dataset/train/kheer/343.jpeg                                 \b\b\b\b 62%\b\b\b\b\b  OK \n",
            "Extracting  dataset/train/kheer/345.jpeg                                 \b\b\b\b 62%\b\b\b\b\b  OK \n",
            "Extracting  dataset/train/kheer/346.jpeg                                 \b\b\b\b 62%\b\b\b\b\b  OK \n",
            "Extracting  dataset/train/kheer/348.jpeg                                 \b\b\b\b 62%\b\b\b\b\b  OK \n",
            "Extracting  dataset/train/kheer/349.jpeg                                 \b\b\b\b 62%\b\b\b\b\b  OK \n",
            "Extracting  dataset/train/kheer/35.jpeg                                  \b\b\b\b 62%\b\b\b\b\b  OK \n",
            "Extracting  dataset/train/kheer/350.jpeg                                 \b\b\b\b 62%\b\b\b\b\b  OK \n",
            "Extracting  dataset/train/kheer/351.jpeg                                 \b\b\b\b 62%\b\b\b\b\b  OK \n",
            "Extracting  dataset/train/kheer/352.jpeg                                 \b\b\b\b 62%\b\b\b\b\b  OK \n",
            "Extracting  dataset/train/kheer/353.jpeg                                 \b\b\b\b 62%\b\b\b\b\b  OK \n",
            "Extracting  dataset/train/kheer/354.jpeg                                 \b\b\b\b 62%\b\b\b\b\b  OK \n",
            "Extracting  dataset/train/kheer/355.jpeg                                 \b\b\b\b 63%\b\b\b\b\b  OK \n",
            "Extracting  dataset/train/kheer/359 (2).jpeg                             \b\b\b\b 63%\b\b\b\b\b  OK \n",
            "Extracting  dataset/train/kheer/36.jpeg                                  \b\b\b\b 63%\b\b\b\b\b  OK \n",
            "Extracting  dataset/train/kheer/360.jpeg                                 \b\b\b\b 63%\b\b\b\b\b  OK \n",
            "Extracting  dataset/train/kheer/362.jpeg                                 \b\b\b\b 63%\b\b\b\b\b  OK \n",
            "Extracting  dataset/train/kheer/363.jpeg                                 \b\b\b\b 63%\b\b\b\b\b  OK \n",
            "Extracting  dataset/train/kheer/364.jpeg                                 \b\b\b\b 63%\b\b\b\b\b  OK \n",
            "Extracting  dataset/train/kheer/367.jpeg                                 \b\b\b\b 63%\b\b\b\b\b  OK \n",
            "Extracting  dataset/train/kheer/369.jpeg                                 \b\b\b\b 63%\b\b\b\b\b  OK \n",
            "Extracting  dataset/train/kheer/372.jpeg                                 \b\b\b\b 63%\b\b\b\b\b  OK \n",
            "Extracting  dataset/train/kheer/373.jpeg                                 \b\b\b\b 63%\b\b\b\b\b  OK \n",
            "Extracting  dataset/train/kheer/374.jpeg                                 \b\b\b\b 63%\b\b\b\b\b  OK \n",
            "Extracting  dataset/train/kheer/375.jpeg                                 \b\b\b\b 63%\b\b\b\b\b  OK \n",
            "Extracting  dataset/train/kheer/377.jpeg                                 \b\b\b\b 63%\b\b\b\b\b  OK \n",
            "Extracting  dataset/train/kheer/378.jpeg                                 \b\b\b\b 63%\b\b\b\b\b  OK \n",
            "Extracting  dataset/train/kheer/379.jpeg                                 \b\b\b\b 63%\b\b\b\b\b  OK \n",
            "Extracting  dataset/train/kheer/38.jpeg                                  \b\b\b\b 63%\b\b\b\b\b  OK \n",
            "Extracting  dataset/train/kheer/380.jpeg                                 \b\b\b\b 63%\b\b\b\b\b  OK \n",
            "Extracting  dataset/train/kheer/381.jpeg                                 \b\b\b\b 63%\b\b\b\b\b  OK \n",
            "Extracting  dataset/train/kheer/383.jpeg                                 \b\b\b\b 63%\b\b\b\b\b  OK \n",
            "Extracting  dataset/train/kheer/385.jpeg                                 \b\b\b\b 63%\b\b\b\b\b  OK \n",
            "Extracting  dataset/train/kheer/386.jpeg                                 \b\b\b\b 63%\b\b\b\b\b  OK \n",
            "Extracting  dataset/train/kheer/387.jpeg                                 \b\b\b\b 63%\b\b\b\b\b  OK \n",
            "Extracting  dataset/train/kheer/388.jpeg                                 \b\b\b\b 63%\b\b\b\b\b  OK \n",
            "Extracting  dataset/train/kheer/389.jpeg                                 \b\b\b\b 63%\b\b\b\b\b  OK \n",
            "Extracting  dataset/train/kheer/39.jpeg                                  \b\b\b\b 63%\b\b\b\b\b  OK \n",
            "Extracting  dataset/train/kheer/390.jpeg                                 \b\b\b\b 63%\b\b\b\b\b  OK \n",
            "Extracting  dataset/train/kheer/391.jpeg                                 \b\b\b\b 63%\b\b\b\b 64%\b\b\b\b\b  OK \n",
            "Extracting  dataset/train/kheer/393.jpeg                                 \b\b\b\b 64%\b\b\b\b\b  OK \n",
            "Extracting  dataset/train/kheer/394.jpeg                                 \b\b\b\b 64%\b\b\b\b\b  OK \n",
            "Extracting  dataset/train/kheer/4.jpeg                                   \b\b\b\b 64%\b\b\b\b\b  OK \n",
            "Extracting  dataset/train/kheer/40.jpeg                                  \b\b\b\b 64%\b\b\b\b\b  OK \n",
            "Extracting  dataset/train/kheer/41.jpeg                                  \b\b\b\b 64%\b\b\b\b\b  OK \n",
            "Extracting  dataset/train/kheer/42.jpeg                                  \b\b\b\b 64%\b\b\b\b\b  OK \n",
            "Extracting  dataset/train/kheer/43.jpeg                                  \b\b\b\b 64%\b\b\b\b\b  OK \n",
            "Extracting  dataset/train/kheer/45.jpeg                                  \b\b\b\b 64%\b\b\b\b\b  OK \n",
            "Extracting  dataset/train/kheer/46.jpeg                                  \b\b\b\b 64%\b\b\b\b\b  OK \n",
            "Extracting  dataset/train/kheer/47.jpeg                                  \b\b\b\b 64%\b\b\b\b\b  OK \n",
            "Extracting  dataset/train/kheer/48.jpeg                                  \b\b\b\b 64%\b\b\b\b\b  OK \n",
            "Extracting  dataset/train/kheer/49.jpeg                                  \b\b\b\b 64%\b\b\b\b\b  OK \n",
            "Extracting  dataset/train/kheer/5.jpeg                                   \b\b\b\b 64%\b\b\b\b\b  OK \n",
            "Extracting  dataset/train/kheer/50.jpeg                                  \b\b\b\b 64%\b\b\b\b\b  OK \n",
            "Extracting  dataset/train/kheer/51.jpeg                                  \b\b\b\b 64%\b\b\b\b\b  OK \n",
            "Extracting  dataset/train/kheer/52.jpeg                                  \b\b\b\b 64%\b\b\b\b\b  OK \n",
            "Extracting  dataset/train/kheer/54.jpeg                                  \b\b\b\b 64%\b\b\b\b\b  OK \n",
            "Extracting  dataset/train/kheer/56.jpeg                                  \b\b\b\b 64%\b\b\b\b\b  OK \n",
            "Extracting  dataset/train/kheer/57.jpeg                                  \b\b\b\b 64%\b\b\b\b\b  OK \n",
            "Extracting  dataset/train/kheer/58.jpeg                                  \b\b\b\b 64%\b\b\b\b\b  OK \n",
            "Extracting  dataset/train/kheer/59.jpeg                                  \b\b\b\b 64%\b\b\b\b\b  OK \n",
            "Extracting  dataset/train/kheer/6.jpeg                                   \b\b\b\b 64%\b\b\b\b\b  OK \n",
            "Extracting  dataset/train/kheer/61.jpeg                                  \b\b\b\b 64%\b\b\b\b\b  OK \n",
            "Extracting  dataset/train/kheer/62.jpeg                                  \b\b\b\b 64%\b\b\b\b\b  OK \n",
            "Extracting  dataset/train/kheer/63.jpeg                                  \b\b\b\b 64%\b\b\b\b\b  OK \n",
            "Extracting  dataset/train/kheer/65.jpeg                                  \b\b\b\b 65%\b\b\b\b\b  OK \n",
            "Extracting  dataset/train/kheer/66.jpeg                                  \b\b\b\b 65%\b\b\b\b\b  OK \n",
            "Extracting  dataset/train/kheer/67.jpeg                                  \b\b\b\b 65%\b\b\b\b\b  OK \n",
            "Extracting  dataset/train/kheer/69.jpeg                                  \b\b\b\b 65%\b\b\b\b\b  OK \n",
            "Extracting  dataset/train/kheer/7.jpeg                                   \b\b\b\b 65%\b\b\b\b\b  OK \n",
            "Extracting  dataset/train/kheer/71.jpeg                                  \b\b\b\b 65%\b\b\b\b\b  OK \n",
            "Extracting  dataset/train/kheer/72.jpeg                                  \b\b\b\b 65%\b\b\b\b\b  OK \n",
            "Extracting  dataset/train/kheer/74.jpeg                                  \b\b\b\b 65%\b\b\b\b\b  OK \n",
            "Extracting  dataset/train/kheer/75.jpeg                                  \b\b\b\b 65%\b\b\b\b\b  OK \n",
            "Extracting  dataset/train/kheer/76.jpeg                                  \b\b\b\b 65%\b\b\b\b\b  OK \n",
            "Extracting  dataset/train/kheer/77.jpeg                                  \b\b\b\b 65%\b\b\b\b\b  OK \n",
            "Extracting  dataset/train/kheer/79.jpeg                                  \b\b\b\b 65%\b\b\b\b\b  OK \n",
            "Extracting  dataset/train/kheer/8.jpeg                                   \b\b\b\b 65%\b\b\b\b\b  OK \n",
            "Extracting  dataset/train/kheer/80.jpeg                                  \b\b\b\b 65%\b\b\b\b\b  OK \n",
            "Extracting  dataset/train/kheer/83 (2).jpeg                              \b\b\b\b 65%\b\b\b\b\b  OK \n",
            "Extracting  dataset/train/kheer/84.jpeg                                  \b\b\b\b 65%\b\b\b\b\b  OK \n",
            "Extracting  dataset/train/kheer/85.jpeg                                  \b\b\b\b 65%\b\b\b\b\b  OK \n",
            "Extracting  dataset/train/kheer/86.jpeg                                  \b\b\b\b 65%\b\b\b\b\b  OK \n",
            "Extracting  dataset/train/kheer/87.jpeg                                  \b\b\b\b 65%\b\b\b\b\b  OK \n",
            "Extracting  dataset/train/kheer/88.jpeg                                  \b\b\b\b 65%\b\b\b\b\b  OK \n",
            "Extracting  dataset/train/kheer/89.jpeg                                  \b\b\b\b 66%\b\b\b\b\b  OK \n",
            "Extracting  dataset/train/kheer/91.jpeg                                  \b\b\b\b 66%\b\b\b\b\b  OK \n",
            "Extracting  dataset/train/kheer/92.jpeg                                  \b\b\b\b 66%\b\b\b\b\b  OK \n",
            "Extracting  dataset/train/kheer/93.jpeg                                  \b\b\b\b 66%\b\b\b\b\b  OK \n",
            "Extracting  dataset/train/kheer/95.jpeg                                  \b\b\b\b 66%\b\b\b\b\b  OK \n",
            "Extracting  dataset/train/kheer/96.jpeg                                  \b\b\b\b 66%\b\b\b\b\b  OK \n",
            "Extracting  dataset/train/kheer/98.jpeg                                  \b\b\b\b 66%\b\b\b\b\b  OK \n",
            "Extracting  dataset/train/kheer/99.jpeg                                  \b\b\b\b 66%\b\b\b\b\b  OK \n",
            "Creating    dataset/train/momo                                        OK\n",
            "Extracting  dataset/train/momo/0.jpeg                                    \b\b\b\b 66%\b\b\b\b\b  OK \n",
            "Extracting  dataset/train/momo/10.jpeg                                   \b\b\b\b 66%\b\b\b\b\b  OK \n",
            "Extracting  dataset/train/momo/100.jpeg                                  \b\b\b\b 66%\b\b\b\b\b  OK \n",
            "Extracting  dataset/train/momo/102.jpeg                                  \b\b\b\b 66%\b\b\b\b\b  OK \n",
            "Extracting  dataset/train/momo/103.jpeg                                  \b\b\b\b 66%\b\b\b\b\b  OK \n",
            "Extracting  dataset/train/momo/105.jpeg                                  \b\b\b\b 66%\b\b\b\b\b  OK \n",
            "Extracting  dataset/train/momo/108.jpeg                                  \b\b\b\b 66%\b\b\b\b\b  OK \n",
            "Extracting  dataset/train/momo/109.jpeg                                  \b\b\b\b 66%\b\b\b\b\b  OK \n",
            "Extracting  dataset/train/momo/11.jpeg                                   \b\b\b\b 66%\b\b\b\b\b  OK \n",
            "Extracting  dataset/train/momo/111.jpeg                                  \b\b\b\b 66%\b\b\b\b\b  OK \n",
            "Extracting  dataset/train/momo/113.jpeg                                  \b\b\b\b 66%\b\b\b\b\b  OK \n",
            "Extracting  dataset/train/momo/114.jpeg                                  \b\b\b\b 66%\b\b\b\b\b  OK \n",
            "Extracting  dataset/train/momo/115.jpeg                                  \b\b\b\b 66%\b\b\b\b\b  OK \n",
            "Extracting  dataset/train/momo/117.jpeg                                  \b\b\b\b 66%\b\b\b\b\b  OK \n",
            "Extracting  dataset/train/momo/118.jpeg                                  \b\b\b\b 66%\b\b\b\b\b  OK \n",
            "Extracting  dataset/train/momo/119.jpeg                                  \b\b\b\b 66%\b\b\b\b\b  OK \n",
            "Extracting  dataset/train/momo/12.jpeg                                   \b\b\b\b 66%\b\b\b\b\b  OK \n",
            "Extracting  dataset/train/momo/121.jpeg                                  \b\b\b\b 66%\b\b\b\b\b  OK \n",
            "Extracting  dataset/train/momo/123.jpeg                                  \b\b\b\b 66%\b\b\b\b\b  OK \n",
            "Extracting  dataset/train/momo/124.jpeg                                  \b\b\b\b 66%\b\b\b\b\b  OK \n",
            "Extracting  dataset/train/momo/126.jpeg                                  \b\b\b\b 66%\b\b\b\b\b  OK \n",
            "Extracting  dataset/train/momo/127.jpeg                                  \b\b\b\b 66%\b\b\b\b\b  OK \n",
            "Extracting  dataset/train/momo/128.jpeg                                  \b\b\b\b 67%\b\b\b\b\b  OK \n",
            "Extracting  dataset/train/momo/129.jpeg                                  \b\b\b\b 67%\b\b\b\b\b  OK \n",
            "Extracting  dataset/train/momo/13.jpeg                                   \b\b\b\b 67%\b\b\b\b\b  OK \n",
            "Extracting  dataset/train/momo/132.jpeg                                  \b\b\b\b 67%\b\b\b\b\b  OK \n",
            "Extracting  dataset/train/momo/133.jpeg                                  \b\b\b\b 67%\b\b\b\b\b  OK \n",
            "Extracting  dataset/train/momo/135.jpeg                                  \b\b\b\b 67%\b\b\b\b\b  OK \n",
            "Extracting  dataset/train/momo/136.jpeg                                  \b\b\b\b 67%\b\b\b\b\b  OK \n",
            "Extracting  dataset/train/momo/137.jpeg                                  \b\b\b\b 67%\b\b\b\b\b  OK \n",
            "Extracting  dataset/train/momo/138.jpeg                                  \b\b\b\b 67%\b\b\b\b\b  OK \n",
            "Extracting  dataset/train/momo/139.jpeg                                  \b\b\b\b 67%\b\b\b\b\b  OK \n",
            "Extracting  dataset/train/momo/14.jpeg                                   \b\b\b\b 67%\b\b\b\b\b  OK \n",
            "Extracting  dataset/train/momo/140.jpeg                                  \b\b\b\b 67%\b\b\b\b\b  OK \n",
            "Extracting  dataset/train/momo/143.jpeg                                  \b\b\b\b 67%\b\b\b\b\b  OK \n",
            "Extracting  dataset/train/momo/146.jpeg                                  \b\b\b\b 67%\b\b\b\b\b  OK \n",
            "Extracting  dataset/train/momo/147.jpeg                                  \b\b\b\b 67%\b\b\b\b\b  OK \n",
            "Extracting  dataset/train/momo/148.jpeg                                  \b\b\b\b 67%\b\b\b\b\b  OK \n",
            "Extracting  dataset/train/momo/15.jpeg                                   \b\b\b\b 67%\b\b\b\b\b  OK \n",
            "Extracting  dataset/train/momo/150.jpeg                                  \b\b\b\b 67%\b\b\b\b\b  OK \n",
            "Extracting  dataset/train/momo/151.jpeg                                  \b\b\b\b 68%\b\b\b\b\b  OK \n",
            "Extracting  dataset/train/momo/152.jpeg                                  \b\b\b\b 68%\b\b\b\b\b  OK \n",
            "Extracting  dataset/train/momo/153.jpeg                                  \b\b\b\b 68%\b\b\b\b\b  OK \n",
            "Extracting  dataset/train/momo/154.jpeg                                  \b\b\b\b 68%\b\b\b\b\b  OK \n",
            "Extracting  dataset/train/momo/156.jpeg                                  \b\b\b\b 68%\b\b\b\b\b  OK \n",
            "Extracting  dataset/train/momo/157.jpeg                                  \b\b\b\b 68%\b\b\b\b\b  OK \n",
            "Extracting  dataset/train/momo/158.jpeg                                  \b\b\b\b 68%\b\b\b\b\b  OK \n",
            "Extracting  dataset/train/momo/159.jpeg                                  \b\b\b\b 68%\b\b\b\b\b  OK \n",
            "Extracting  dataset/train/momo/160.jpeg                                  \b\b\b\b 68%\b\b\b\b\b  OK \n",
            "Extracting  dataset/train/momo/161.jpeg                                  \b\b\b\b 68%\b\b\b\b\b  OK \n",
            "Extracting  dataset/train/momo/162.jpeg                                  \b\b\b\b 68%\b\b\b\b\b  OK \n",
            "Extracting  dataset/train/momo/163.jpeg                                  \b\b\b\b 68%\b\b\b\b\b  OK \n",
            "Extracting  dataset/train/momo/164.jpeg                                  \b\b\b\b 68%\b\b\b\b\b  OK \n",
            "Extracting  dataset/train/momo/165.jpeg                                  \b\b\b\b 68%\b\b\b\b\b  OK \n",
            "Extracting  dataset/train/momo/166.jpeg                                  \b\b\b\b 68%\b\b\b\b\b  OK \n",
            "Extracting  dataset/train/momo/168.jpeg                                  \b\b\b\b 68%\b\b\b\b\b  OK \n",
            "Extracting  dataset/train/momo/169 (2).jpeg                              \b\b\b\b 68%\b\b\b\b\b  OK \n",
            "Extracting  dataset/train/momo/17.jpeg                                   \b\b\b\b 68%\b\b\b\b\b  OK \n",
            "Extracting  dataset/train/momo/170.jpeg                                  \b\b\b\b 68%\b\b\b\b\b  OK \n",
            "Extracting  dataset/train/momo/172.jpeg                                  \b\b\b\b 68%\b\b\b\b\b  OK \n",
            "Extracting  dataset/train/momo/173.jpeg                                  \b\b\b\b 68%\b\b\b\b\b  OK \n",
            "Extracting  dataset/train/momo/175.jpeg                                  \b\b\b\b 68%\b\b\b\b\b  OK \n",
            "Extracting  dataset/train/momo/177.jpeg                                  \b\b\b\b 68%\b\b\b\b\b  OK \n",
            "Extracting  dataset/train/momo/178.jpeg                                  \b\b\b\b 68%\b\b\b\b\b  OK \n",
            "Extracting  dataset/train/momo/179.jpeg                                  \b\b\b\b 68%\b\b\b\b\b  OK \n",
            "Extracting  dataset/train/momo/181.jpeg                                  \b\b\b\b 68%\b\b\b\b\b  OK \n",
            "Extracting  dataset/train/momo/185.jpeg                                  \b\b\b\b 68%\b\b\b\b\b  OK \n",
            "Extracting  dataset/train/momo/186.jpeg                                  \b\b\b\b 68%\b\b\b\b\b  OK \n",
            "Extracting  dataset/train/momo/188.jpeg                                  \b\b\b\b 68%\b\b\b\b\b  OK \n",
            "Extracting  dataset/train/momo/189.jpeg                                  \b\b\b\b 68%\b\b\b\b\b  OK \n",
            "Extracting  dataset/train/momo/19.jpeg                                   \b\b\b\b 68%\b\b\b\b\b  OK \n",
            "Extracting  dataset/train/momo/192.jpeg                                  \b\b\b\b 68%\b\b\b\b\b  OK \n",
            "Extracting  dataset/train/momo/193.jpeg                                  \b\b\b\b 68%\b\b\b\b\b  OK \n",
            "Extracting  dataset/train/momo/194.jpeg                                  \b\b\b\b 68%\b\b\b\b\b  OK \n",
            "Extracting  dataset/train/momo/195.jpeg                                  \b\b\b\b 68%\b\b\b\b\b  OK \n",
            "Extracting  dataset/train/momo/197.jpeg                                  \b\b\b\b 69%\b\b\b\b\b  OK \n",
            "Extracting  dataset/train/momo/198.jpeg                                  \b\b\b\b 69%\b\b\b\b\b  OK \n",
            "Extracting  dataset/train/momo/199.jpeg                                  \b\b\b\b 69%\b\b\b\b\b  OK \n",
            "Extracting  dataset/train/momo/2.jpeg                                    \b\b\b\b 69%\b\b\b\b\b  OK \n",
            "Extracting  dataset/train/momo/20.jpeg                                   \b\b\b\b 69%\b\b\b\b\b  OK \n",
            "Extracting  dataset/train/momo/200.jpeg                                  \b\b\b\b 69%\b\b\b\b\b  OK \n",
            "Extracting  dataset/train/momo/201.jpeg                                  \b\b\b\b 69%\b\b\b\b\b  OK \n",
            "Extracting  dataset/train/momo/202.jpeg                                  \b\b\b\b 69%\b\b\b\b\b  OK \n",
            "Extracting  dataset/train/momo/206.jpeg                                  \b\b\b\b 69%\b\b\b\b\b  OK \n",
            "Extracting  dataset/train/momo/207.jpeg                                  \b\b\b\b 69%\b\b\b\b\b  OK \n",
            "Extracting  dataset/train/momo/208.jpeg                                  \b\b\b\b 69%\b\b\b\b\b  OK \n",
            "Extracting  dataset/train/momo/209.jpeg                                  \b\b\b\b 69%\b\b\b\b\b  OK \n",
            "Extracting  dataset/train/momo/21.jpeg                                   \b\b\b\b 69%\b\b\b\b\b  OK \n",
            "Extracting  dataset/train/momo/211.jpeg                                  \b\b\b\b 69%\b\b\b\b\b  OK \n",
            "Extracting  dataset/train/momo/212.jpeg                                  \b\b\b\b 69%\b\b\b\b\b  OK \n",
            "Extracting  dataset/train/momo/213.jpeg                                  \b\b\b\b 69%\b\b\b\b\b  OK \n",
            "Extracting  dataset/train/momo/214.jpeg                                  \b\b\b\b 69%\b\b\b\b\b  OK \n",
            "Extracting  dataset/train/momo/215.jpeg                                  \b\b\b\b 69%\b\b\b\b\b  OK \n",
            "Extracting  dataset/train/momo/217.jpeg                                  \b\b\b\b 69%\b\b\b\b\b  OK \n",
            "Extracting  dataset/train/momo/218.jpeg                                  \b\b\b\b 69%\b\b\b\b\b  OK \n",
            "Extracting  dataset/train/momo/219.jpeg                                  \b\b\b\b 69%\b\b\b\b\b  OK \n",
            "Extracting  dataset/train/momo/22.jpeg                                   \b\b\b\b 69%\b\b\b\b\b  OK \n",
            "Extracting  dataset/train/momo/221.jpeg                                  \b\b\b\b 69%\b\b\b\b\b  OK \n",
            "Extracting  dataset/train/momo/223.jpeg                                  \b\b\b\b 69%\b\b\b\b\b  OK \n",
            "Extracting  dataset/train/momo/224.jpeg                                  \b\b\b\b 69%\b\b\b\b\b  OK \n",
            "Extracting  dataset/train/momo/225.jpeg                                  \b\b\b\b 69%\b\b\b\b\b  OK \n",
            "Extracting  dataset/train/momo/226.jpeg                                  \b\b\b\b 69%\b\b\b\b\b  OK \n",
            "Extracting  dataset/train/momo/230.jpeg                                  \b\b\b\b 69%\b\b\b\b\b  OK \n",
            "Extracting  dataset/train/momo/231.jpeg                                  \b\b\b\b 69%\b\b\b\b\b  OK \n",
            "Extracting  dataset/train/momo/232.jpeg                                  \b\b\b\b 69%\b\b\b\b\b  OK \n",
            "Extracting  dataset/train/momo/235.jpeg                                  \b\b\b\b 69%\b\b\b\b\b  OK \n",
            "Extracting  dataset/train/momo/237.jpeg                                  \b\b\b\b 69%\b\b\b\b\b  OK \n",
            "Extracting  dataset/train/momo/24.jpeg                                   \b\b\b\b 69%\b\b\b\b\b  OK \n",
            "Extracting  dataset/train/momo/240.jpeg                                  \b\b\b\b 69%\b\b\b\b\b  OK \n",
            "Extracting  dataset/train/momo/241.jpeg                                  \b\b\b\b 70%\b\b\b\b\b  OK \n",
            "Extracting  dataset/train/momo/242.jpeg                                  \b\b\b\b 70%\b\b\b\b\b  OK \n",
            "Extracting  dataset/train/momo/243.jpeg                                  \b\b\b\b 70%\b\b\b\b\b  OK \n",
            "Extracting  dataset/train/momo/244.jpeg                                  \b\b\b\b 70%\b\b\b\b\b  OK \n",
            "Extracting  dataset/train/momo/245.jpeg                                  \b\b\b\b 70%\b\b\b\b\b  OK \n",
            "Extracting  dataset/train/momo/246.jpeg                                  \b\b\b\b 70%\b\b\b\b\b  OK \n",
            "Extracting  dataset/train/momo/248.jpeg                                  \b\b\b\b 70%\b\b\b\b\b  OK \n",
            "Extracting  dataset/train/momo/25.jpeg                                   \b\b\b\b 70%\b\b\b\b\b  OK \n",
            "Extracting  dataset/train/momo/250.jpeg                                  \b\b\b\b 70%\b\b\b\b\b  OK \n",
            "Extracting  dataset/train/momo/251.jpeg                                  \b\b\b\b 70%\b\b\b\b\b  OK \n",
            "Extracting  dataset/train/momo/252.jpeg                                  \b\b\b\b 70%\b\b\b\b\b  OK \n",
            "Extracting  dataset/train/momo/253.jpeg                                  \b\b\b\b 70%\b\b\b\b\b  OK \n",
            "Extracting  dataset/train/momo/254.jpeg                                  \b\b\b\b 70%\b\b\b\b\b  OK \n",
            "Extracting  dataset/train/momo/255.jpeg                                  \b\b\b\b 70%\b\b\b\b\b  OK \n",
            "Extracting  dataset/train/momo/256.jpeg                                  \b\b\b\b 70%\b\b\b\b\b  OK \n",
            "Extracting  dataset/train/momo/257.jpeg                                  \b\b\b\b 70%\b\b\b\b\b  OK \n",
            "Extracting  dataset/train/momo/258.jpeg                                  \b\b\b\b 71%\b\b\b\b\b  OK \n",
            "Extracting  dataset/train/momo/265.jpeg                                  \b\b\b\b 71%\b\b\b\b\b  OK \n",
            "Extracting  dataset/train/momo/266.jpeg                                  \b\b\b\b 71%\b\b\b\b\b  OK \n",
            "Extracting  dataset/train/momo/267.jpeg                                  \b\b\b\b 71%\b\b\b\b\b  OK \n",
            "Extracting  dataset/train/momo/268.jpeg                                  \b\b\b\b 71%\b\b\b\b\b  OK \n",
            "Extracting  dataset/train/momo/269.jpeg                                  \b\b\b\b 71%\b\b\b\b\b  OK \n",
            "Extracting  dataset/train/momo/270.jpeg                                  \b\b\b\b 71%\b\b\b\b\b  OK \n",
            "Extracting  dataset/train/momo/272.jpeg                                  \b\b\b\b 71%\b\b\b\b\b  OK \n",
            "Extracting  dataset/train/momo/273.jpeg                                  \b\b\b\b 71%\b\b\b\b\b  OK \n",
            "Extracting  dataset/train/momo/274.jpeg                                  \b\b\b\b 71%\b\b\b\b\b  OK \n",
            "Extracting  dataset/train/momo/275.jpeg                                  \b\b\b\b 71%\b\b\b\b\b  OK \n",
            "Extracting  dataset/train/momo/276.jpeg                                  \b\b\b\b 71%\b\b\b\b\b  OK \n",
            "Extracting  dataset/train/momo/277.jpeg                                  \b\b\b\b 71%\b\b\b\b\b  OK \n",
            "Extracting  dataset/train/momo/278.jpeg                                  \b\b\b\b 71%\b\b\b\b\b  OK \n",
            "Extracting  dataset/train/momo/279.jpeg                                  \b\b\b\b 71%\b\b\b\b\b  OK \n",
            "Extracting  dataset/train/momo/280.jpeg                                  \b\b\b\b 71%\b\b\b\b\b  OK \n",
            "Extracting  dataset/train/momo/281.jpeg                                  \b\b\b\b 71%\b\b\b\b\b  OK \n",
            "Extracting  dataset/train/momo/282.jpeg                                  \b\b\b\b 71%\b\b\b\b\b  OK \n",
            "Extracting  dataset/train/momo/283.jpeg                                  \b\b\b\b 71%\b\b\b\b\b  OK \n",
            "Extracting  dataset/train/momo/284.jpeg                                  \b\b\b\b 71%\b\b\b\b\b  OK \n",
            "Extracting  dataset/train/momo/286.jpeg                                  \b\b\b\b 71%\b\b\b\b\b  OK \n",
            "Extracting  dataset/train/momo/287.jpeg                                  \b\b\b\b 72%\b\b\b\b\b  OK \n",
            "Extracting  dataset/train/momo/288.jpeg                                  \b\b\b\b 72%\b\b\b\b\b  OK \n",
            "Extracting  dataset/train/momo/289.jpeg                                  \b\b\b\b 72%\b\b\b\b\b  OK \n",
            "Extracting  dataset/train/momo/290.jpeg                                  \b\b\b\b 72%\b\b\b\b\b  OK \n",
            "Extracting  dataset/train/momo/291 (2).jpeg                              \b\b\b\b 72%\b\b\b\b\b  OK \n",
            "Extracting  dataset/train/momo/292.jpeg                                  \b\b\b\b 72%\b\b\b\b\b  OK \n",
            "Extracting  dataset/train/momo/295.jpeg                                  \b\b\b\b 72%\b\b\b\b\b  OK \n",
            "Extracting  dataset/train/momo/296.jpeg                                  \b\b\b\b 72%\b\b\b\b\b  OK \n",
            "Extracting  dataset/train/momo/298.jpeg                                  \b\b\b\b 72%\b\b\b\b\b  OK \n",
            "Extracting  dataset/train/momo/299.jpeg                                  \b\b\b\b 72%\b\b\b\b\b  OK \n",
            "Extracting  dataset/train/momo/30.jpeg                                   \b\b\b\b 72%\b\b\b\b\b  OK \n",
            "Extracting  dataset/train/momo/300.jpeg                                  \b\b\b\b 72%\b\b\b\b\b  OK \n",
            "Extracting  dataset/train/momo/301.jpeg                                  \b\b\b\b 72%\b\b\b\b\b  OK \n",
            "Extracting  dataset/train/momo/302.jpeg                                  \b\b\b\b 72%\b\b\b\b\b  OK \n",
            "Extracting  dataset/train/momo/303.jpeg                                  \b\b\b\b 72%\b\b\b\b\b  OK \n",
            "Extracting  dataset/train/momo/304.jpeg                                  \b\b\b\b 72%\b\b\b\b\b  OK \n",
            "Extracting  dataset/train/momo/305.jpeg                                  \b\b\b\b 73%\b\b\b\b\b  OK \n",
            "Extracting  dataset/train/momo/306.jpeg                                  \b\b\b\b 73%\b\b\b\b\b  OK \n",
            "Extracting  dataset/train/momo/307.jpeg                                  \b\b\b\b 73%\b\b\b\b\b  OK \n",
            "Extracting  dataset/train/momo/308.jpeg                                  \b\b\b\b 73%\b\b\b\b\b  OK \n",
            "Extracting  dataset/train/momo/31.jpeg                                   \b\b\b\b 73%\b\b\b\b\b  OK \n",
            "Extracting  dataset/train/momo/310.jpeg                                  \b\b\b\b 73%\b\b\b\b\b  OK \n",
            "Extracting  dataset/train/momo/311.jpeg                                  \b\b\b\b 73%\b\b\b\b\b  OK \n",
            "Extracting  dataset/train/momo/312.jpeg                                  \b\b\b\b 73%\b\b\b\b\b  OK \n",
            "Extracting  dataset/train/momo/313.jpeg                                  \b\b\b\b 73%\b\b\b\b\b  OK \n",
            "Extracting  dataset/train/momo/315.jpeg                                  \b\b\b\b 73%\b\b\b\b\b  OK \n",
            "Extracting  dataset/train/momo/316.jpeg                                  \b\b\b\b 73%\b\b\b\b\b  OK \n",
            "Extracting  dataset/train/momo/317.jpeg                                  \b\b\b\b 73%\b\b\b\b\b  OK \n",
            "Extracting  dataset/train/momo/318.jpeg                                  \b\b\b\b 73%\b\b\b\b\b  OK \n",
            "Extracting  dataset/train/momo/319.jpeg                                  \b\b\b\b 73%\b\b\b\b\b  OK \n",
            "Extracting  dataset/train/momo/32.jpeg                                   \b\b\b\b 73%\b\b\b\b\b  OK \n",
            "Extracting  dataset/train/momo/320.jpeg                                  \b\b\b\b 73%\b\b\b\b\b  OK \n",
            "Extracting  dataset/train/momo/321.jpeg                                  \b\b\b\b 73%\b\b\b\b\b  OK \n",
            "Extracting  dataset/train/momo/322.jpeg                                  \b\b\b\b 73%\b\b\b\b\b  OK \n",
            "Extracting  dataset/train/momo/323.jpeg                                  \b\b\b\b 73%\b\b\b\b\b  OK \n",
            "Extracting  dataset/train/momo/324.jpeg                                  \b\b\b\b 73%\b\b\b\b\b  OK \n",
            "Extracting  dataset/train/momo/325.jpeg                                  \b\b\b\b 73%\b\b\b\b\b  OK \n",
            "Extracting  dataset/train/momo/329.jpeg                                  \b\b\b\b 73%\b\b\b\b\b  OK \n",
            "Extracting  dataset/train/momo/33.jpeg                                   \b\b\b\b 74%\b\b\b\b\b  OK \n",
            "Extracting  dataset/train/momo/330.jpeg                                  \b\b\b\b 74%\b\b\b\b\b  OK \n",
            "Extracting  dataset/train/momo/332.jpeg                                  \b\b\b\b 74%\b\b\b\b\b  OK \n",
            "Extracting  dataset/train/momo/333.jpeg                                  \b\b\b\b 74%\b\b\b\b\b  OK \n",
            "Extracting  dataset/train/momo/334.jpeg                                  \b\b\b\b 74%\b\b\b\b\b  OK \n",
            "Extracting  dataset/train/momo/335.jpeg                                  \b\b\b\b 74%\b\b\b\b\b  OK \n",
            "Extracting  dataset/train/momo/337.jpeg                                  \b\b\b\b 74%\b\b\b\b\b  OK \n",
            "Extracting  dataset/train/momo/339.jpeg                                  \b\b\b\b 74%\b\b\b\b\b  OK \n",
            "Extracting  dataset/train/momo/34.jpeg                                   \b\b\b\b 74%\b\b\b\b\b  OK \n",
            "Extracting  dataset/train/momo/340.jpeg                                  \b\b\b\b 74%\b\b\b\b\b  OK \n",
            "Extracting  dataset/train/momo/341.jpeg                                  \b\b\b\b 74%\b\b\b\b\b  OK \n",
            "Extracting  dataset/train/momo/342.jpeg                                  \b\b\b\b 74%\b\b\b\b\b  OK \n",
            "Extracting  dataset/train/momo/343.jpeg                                  \b\b\b\b 74%\b\b\b\b\b  OK \n",
            "Extracting  dataset/train/momo/344.jpeg                                  \b\b\b\b 74%\b\b\b\b\b  OK \n",
            "Extracting  dataset/train/momo/345.jpeg                                  \b\b\b\b 74%\b\b\b\b\b  OK \n",
            "Extracting  dataset/train/momo/346.jpeg                                  \b\b\b\b 74%\b\b\b\b\b  OK \n",
            "Extracting  dataset/train/momo/348.jpeg                                  \b\b\b\b 74%\b\b\b\b\b  OK \n",
            "Extracting  dataset/train/momo/35.jpeg                                   \b\b\b\b 74%\b\b\b\b\b  OK \n",
            "Extracting  dataset/train/momo/350.jpeg                                  \b\b\b\b 75%\b\b\b\b\b  OK \n",
            "Extracting  dataset/train/momo/351.jpeg                                  \b\b\b\b 75%\b\b\b\b\b  OK \n",
            "Extracting  dataset/train/momo/352.jpeg                                  \b\b\b\b 75%\b\b\b\b\b  OK \n",
            "Extracting  dataset/train/momo/353.jpeg                                  \b\b\b\b 75%\b\b\b\b\b  OK \n",
            "Extracting  dataset/train/momo/354.jpeg                                  \b\b\b\b 75%\b\b\b\b\b  OK \n",
            "Extracting  dataset/train/momo/355.jpeg                                  \b\b\b\b 75%\b\b\b\b\b  OK \n",
            "Extracting  dataset/train/momo/356.jpeg                                  \b\b\b\b 75%\b\b\b\b\b  OK \n",
            "Extracting  dataset/train/momo/357.jpeg                                  \b\b\b\b 75%\b\b\b\b\b  OK \n",
            "Extracting  dataset/train/momo/359.jpeg                                  \b\b\b\b 75%\b\b\b\b\b  OK \n",
            "Extracting  dataset/train/momo/36.jpeg                                   \b\b\b\b 75%\b\b\b\b\b  OK \n",
            "Extracting  dataset/train/momo/360.jpeg                                  \b\b\b\b 75%\b\b\b\b\b  OK \n",
            "Extracting  dataset/train/momo/362.jpeg                                  \b\b\b\b 75%\b\b\b\b 76%\b\b\b\b\b  OK \n",
            "Extracting  dataset/train/momo/363.jpeg                                  \b\b\b\b 76%\b\b\b\b\b  OK \n",
            "Extracting  dataset/train/momo/365.jpeg                                  \b\b\b\b 76%\b\b\b\b\b  OK \n",
            "Extracting  dataset/train/momo/366.jpeg                                  \b\b\b\b 76%\b\b\b\b\b  OK \n",
            "Extracting  dataset/train/momo/367.jpeg                                  \b\b\b\b 76%\b\b\b\b\b  OK \n",
            "Extracting  dataset/train/momo/368.jpeg                                  \b\b\b\b 76%\b\b\b\b\b  OK \n",
            "Extracting  dataset/train/momo/369.jpeg                                  \b\b\b\b 76%\b\b\b\b\b  OK \n",
            "Extracting  dataset/train/momo/371.jpeg                                  \b\b\b\b 76%\b\b\b\b\b  OK \n",
            "Extracting  dataset/train/momo/372.jpeg                                  \b\b\b\b 76%\b\b\b\b\b  OK \n",
            "Extracting  dataset/train/momo/373.jpeg                                  \b\b\b\b 76%\b\b\b\b\b  OK \n",
            "Extracting  dataset/train/momo/38.jpeg                                   \b\b\b\b 76%\b\b\b\b\b  OK \n",
            "Extracting  dataset/train/momo/4.jpeg                                    \b\b\b\b 76%\b\b\b\b\b  OK \n",
            "Extracting  dataset/train/momo/41.jpeg                                   \b\b\b\b 77%\b\b\b\b\b  OK \n",
            "Extracting  dataset/train/momo/42.jpeg                                   \b\b\b\b 77%\b\b\b\b\b  OK \n",
            "Extracting  dataset/train/momo/43.jpeg                                   \b\b\b\b 77%\b\b\b\b\b  OK \n",
            "Extracting  dataset/train/momo/44.jpeg                                   \b\b\b\b 77%\b\b\b\b\b  OK \n",
            "Extracting  dataset/train/momo/45.jpeg                                   \b\b\b\b 77%\b\b\b\b\b  OK \n",
            "Extracting  dataset/train/momo/46.jpeg                                   \b\b\b\b 77%\b\b\b\b\b  OK \n",
            "Extracting  dataset/train/momo/49.jpeg                                   \b\b\b\b 77%\b\b\b\b\b  OK \n",
            "Extracting  dataset/train/momo/5.jpeg                                    \b\b\b\b 77%\b\b\b\b\b  OK \n",
            "Extracting  dataset/train/momo/50.jpeg                                   \b\b\b\b 77%\b\b\b\b\b  OK \n",
            "Extracting  dataset/train/momo/51.jpeg                                   \b\b\b\b 77%\b\b\b\b\b  OK \n",
            "Extracting  dataset/train/momo/57.jpeg                                   \b\b\b\b 77%\b\b\b\b\b  OK \n",
            "Extracting  dataset/train/momo/58.jpeg                                   \b\b\b\b 77%\b\b\b\b\b  OK \n",
            "Extracting  dataset/train/momo/6.jpeg                                    \b\b\b\b 77%\b\b\b\b\b  OK \n",
            "Extracting  dataset/train/momo/61.jpeg                                   \b\b\b\b 77%\b\b\b\b\b  OK \n",
            "Extracting  dataset/train/momo/62.jpeg                                   \b\b\b\b 77%\b\b\b\b\b  OK \n",
            "Extracting  dataset/train/momo/63.jpeg                                   \b\b\b\b 77%\b\b\b\b\b  OK \n",
            "Extracting  dataset/train/momo/64.jpeg                                   \b\b\b\b 77%\b\b\b\b\b  OK \n",
            "Extracting  dataset/train/momo/65.jpeg                                   \b\b\b\b 77%\b\b\b\b\b  OK \n",
            "Extracting  dataset/train/momo/66.jpeg                                   \b\b\b\b 77%\b\b\b\b\b  OK \n",
            "Extracting  dataset/train/momo/68.jpeg                                   \b\b\b\b 77%\b\b\b\b\b  OK \n",
            "Extracting  dataset/train/momo/7.jpeg                                    \b\b\b\b 77%\b\b\b\b\b  OK \n",
            "Extracting  dataset/train/momo/70.jpeg                                   \b\b\b\b 77%\b\b\b\b\b  OK \n",
            "Extracting  dataset/train/momo/71.jpeg                                   \b\b\b\b 77%\b\b\b\b\b  OK \n",
            "Extracting  dataset/train/momo/72.jpeg                                   \b\b\b\b 77%\b\b\b\b\b  OK \n",
            "Extracting  dataset/train/momo/73.jpeg                                   \b\b\b\b 77%\b\b\b\b\b  OK \n",
            "Extracting  dataset/train/momo/74.jpeg                                   \b\b\b\b 77%\b\b\b\b\b  OK \n",
            "Extracting  dataset/train/momo/75.jpeg                                   \b\b\b\b 77%\b\b\b\b\b  OK \n",
            "Extracting  dataset/train/momo/76.jpeg                                   \b\b\b\b 77%\b\b\b\b\b  OK \n",
            "Extracting  dataset/train/momo/78.jpeg                                   \b\b\b\b 78%\b\b\b\b\b  OK \n",
            "Extracting  dataset/train/momo/79.jpeg                                   \b\b\b\b 78%\b\b\b\b\b  OK \n",
            "Extracting  dataset/train/momo/8.jpeg                                    \b\b\b\b 78%\b\b\b\b\b  OK \n",
            "Extracting  dataset/train/momo/80.jpeg                                   \b\b\b\b 78%\b\b\b\b\b  OK \n",
            "Extracting  dataset/train/momo/81.jpeg                                   \b\b\b\b 78%\b\b\b\b\b  OK \n",
            "Extracting  dataset/train/momo/82.jpeg                                   \b\b\b\b 78%\b\b\b\b\b  OK \n",
            "Extracting  dataset/train/momo/83.jpeg                                   \b\b\b\b 78%\b\b\b\b\b  OK \n",
            "Extracting  dataset/train/momo/84.jpeg                                   \b\b\b\b 78%\b\b\b\b\b  OK \n",
            "Extracting  dataset/train/momo/85.jpeg                                   \b\b\b\b 78%\b\b\b\b\b  OK \n",
            "Extracting  dataset/train/momo/87.jpeg                                   \b\b\b\b 78%\b\b\b\b\b  OK \n",
            "Extracting  dataset/train/momo/88.jpeg                                   \b\b\b\b 78%\b\b\b\b\b  OK \n",
            "Extracting  dataset/train/momo/9.jpeg                                    \b\b\b\b 78%\b\b\b\b\b  OK \n",
            "Extracting  dataset/train/momo/91.jpeg                                   \b\b\b\b 78%\b\b\b\b\b  OK \n",
            "Extracting  dataset/train/momo/92.jpeg                                   \b\b\b\b 78%\b\b\b\b\b  OK \n",
            "Extracting  dataset/train/momo/93.jpeg                                   \b\b\b\b 78%\b\b\b\b\b  OK \n",
            "Extracting  dataset/train/momo/94.jpeg                                   \b\b\b\b 78%\b\b\b\b\b  OK \n",
            "Extracting  dataset/train/momo/95.jpeg                                   \b\b\b\b 78%\b\b\b\b\b  OK \n",
            "Extracting  dataset/train/momo/96.jpeg                                   \b\b\b\b 78%\b\b\b\b\b  OK \n",
            "Extracting  dataset/train/momo/97.jpeg                                   \b\b\b\b 78%\b\b\b\b\b  OK \n",
            "Extracting  dataset/train/momo/98.jpeg                                   \b\b\b\b 78%\b\b\b\b\b  OK \n",
            "Extracting  dataset/train/momo/99.jpeg                                   \b\b\b\b 78%\b\b\b\b\b  OK \n",
            "Creating    dataset/train/sekuwa                                      OK\n",
            "Extracting  dataset/train/sekuwa/0.jpeg                                  \b\b\b\b 78%\b\b\b\b\b  OK \n",
            "Extracting  dataset/train/sekuwa/10.jpeg                                 \b\b\b\b 78%\b\b\b\b\b  OK \n",
            "Extracting  dataset/train/sekuwa/103.jpeg                                \b\b\b\b 79%\b\b\b\b\b  OK \n",
            "Extracting  dataset/train/sekuwa/11.jpeg                                 \b\b\b\b 79%\b\b\b\b\b  OK \n",
            "Extracting  dataset/train/sekuwa/112.jpeg                                \b\b\b\b 79%\b\b\b\b\b  OK \n",
            "Extracting  dataset/train/sekuwa/114.jpeg                                \b\b\b\b 79%\b\b\b\b\b  OK \n",
            "Extracting  dataset/train/sekuwa/116.jpeg                                \b\b\b\b 79%\b\b\b\b\b  OK \n",
            "Extracting  dataset/train/sekuwa/12.jpeg                                 \b\b\b\b 79%\b\b\b\b\b  OK \n",
            "Extracting  dataset/train/sekuwa/125.jpeg                                \b\b\b\b 79%\b\b\b\b\b  OK \n",
            "Extracting  dataset/train/sekuwa/129.jpeg                                \b\b\b\b 79%\b\b\b\b\b  OK \n",
            "Extracting  dataset/train/sekuwa/13.jpeg                                 \b\b\b\b 79%\b\b\b\b\b  OK \n",
            "Extracting  dataset/train/sekuwa/133.jpeg                                \b\b\b\b 79%\b\b\b\b\b  OK \n",
            "Extracting  dataset/train/sekuwa/134.jpeg                                \b\b\b\b 79%\b\b\b\b\b  OK \n",
            "Extracting  dataset/train/sekuwa/135.jpeg                                \b\b\b\b 79%\b\b\b\b\b  OK \n",
            "Extracting  dataset/train/sekuwa/136.jpeg                                \b\b\b\b 79%\b\b\b\b\b  OK \n",
            "Extracting  dataset/train/sekuwa/137.jpeg                                \b\b\b\b 79%\b\b\b\b\b  OK \n",
            "Extracting  dataset/train/sekuwa/139.jpeg                                \b\b\b\b 79%\b\b\b\b\b  OK \n",
            "Extracting  dataset/train/sekuwa/14.jpeg                                 \b\b\b\b 79%\b\b\b\b\b  OK \n",
            "Extracting  dataset/train/sekuwa/140.jpeg                                \b\b\b\b 79%\b\b\b\b\b  OK \n",
            "Extracting  dataset/train/sekuwa/142.jpeg                                \b\b\b\b 79%\b\b\b\b\b  OK \n",
            "Extracting  dataset/train/sekuwa/143.jpeg                                \b\b\b\b 79%\b\b\b\b\b  OK \n",
            "Extracting  dataset/train/sekuwa/146.jpeg                                \b\b\b\b 79%\b\b\b\b\b  OK \n",
            "Extracting  dataset/train/sekuwa/147.jpeg                                \b\b\b\b 79%\b\b\b\b\b  OK \n",
            "Extracting  dataset/train/sekuwa/148.jpeg                                \b\b\b\b 79%\b\b\b\b\b  OK \n",
            "Extracting  dataset/train/sekuwa/149.jpeg                                \b\b\b\b 79%\b\b\b\b\b  OK \n",
            "Extracting  dataset/train/sekuwa/15.jpeg                                 \b\b\b\b 79%\b\b\b\b\b  OK \n",
            "Extracting  dataset/train/sekuwa/156.jpeg                                \b\b\b\b 79%\b\b\b\b\b  OK \n",
            "Extracting  dataset/train/sekuwa/157.jpeg                                \b\b\b\b 79%\b\b\b\b\b  OK \n",
            "Extracting  dataset/train/sekuwa/158.jpeg                                \b\b\b\b 79%\b\b\b\b\b  OK \n",
            "Extracting  dataset/train/sekuwa/16.jpeg                                 \b\b\b\b 79%\b\b\b\b\b  OK \n",
            "Extracting  dataset/train/sekuwa/160.jpeg                                \b\b\b\b 80%\b\b\b\b\b  OK \n",
            "Extracting  dataset/train/sekuwa/163.jpeg                                \b\b\b\b 80%\b\b\b\b\b  OK \n",
            "Extracting  dataset/train/sekuwa/164.jpeg                                \b\b\b\b 80%\b\b\b\b\b  OK \n",
            "Extracting  dataset/train/sekuwa/165.jpeg                                \b\b\b\b 80%\b\b\b\b\b  OK \n",
            "Extracting  dataset/train/sekuwa/169.jpeg                                \b\b\b\b 80%\b\b\b\b\b  OK \n",
            "Extracting  dataset/train/sekuwa/17.jpeg                                 \b\b\b\b 80%\b\b\b\b\b  OK \n",
            "Extracting  dataset/train/sekuwa/171.jpeg                                \b\b\b\b 80%\b\b\b\b\b  OK \n",
            "Extracting  dataset/train/sekuwa/173.jpeg                                \b\b\b\b 80%\b\b\b\b\b  OK \n",
            "Extracting  dataset/train/sekuwa/176.jpeg                                \b\b\b\b 80%\b\b\b\b\b  OK \n",
            "Extracting  dataset/train/sekuwa/177.jpeg                                \b\b\b\b 81%\b\b\b\b\b  OK \n",
            "Extracting  dataset/train/sekuwa/178.jpeg                                \b\b\b\b 81%\b\b\b\b\b  OK \n",
            "Extracting  dataset/train/sekuwa/179.jpeg                                \b\b\b\b 81%\b\b\b\b\b  OK \n",
            "Extracting  dataset/train/sekuwa/181.jpeg                                \b\b\b\b 81%\b\b\b\b\b  OK \n",
            "Extracting  dataset/train/sekuwa/184.jpeg                                \b\b\b\b 81%\b\b\b\b\b  OK \n",
            "Extracting  dataset/train/sekuwa/186.jpeg                                \b\b\b\b 81%\b\b\b\b\b  OK \n",
            "Extracting  dataset/train/sekuwa/189.jpeg                                \b\b\b\b 81%\b\b\b\b\b  OK \n",
            "Extracting  dataset/train/sekuwa/192.jpeg                                \b\b\b\b 81%\b\b\b\b\b  OK \n",
            "Extracting  dataset/train/sekuwa/196.jpeg                                \b\b\b\b 81%\b\b\b\b\b  OK \n",
            "Extracting  dataset/train/sekuwa/197.jpeg                                \b\b\b\b 81%\b\b\b\b\b  OK \n",
            "Extracting  dataset/train/sekuwa/203.jpeg                                \b\b\b\b 81%\b\b\b\b\b  OK \n",
            "Extracting  dataset/train/sekuwa/21.jpeg                                 \b\b\b\b 81%\b\b\b\b\b  OK \n",
            "Extracting  dataset/train/sekuwa/210.jpeg                                \b\b\b\b 81%\b\b\b\b\b  OK \n",
            "Extracting  dataset/train/sekuwa/218.jpeg                                \b\b\b\b 81%\b\b\b\b\b  OK \n",
            "Extracting  dataset/train/sekuwa/219.jpeg                                \b\b\b\b 82%\b\b\b\b\b  OK \n",
            "Extracting  dataset/train/sekuwa/22.jpeg                                 \b\b\b\b 82%\b\b\b\b\b  OK \n",
            "Extracting  dataset/train/sekuwa/220.jpeg                                \b\b\b\b 82%\b\b\b\b\b  OK \n",
            "Extracting  dataset/train/sekuwa/225.jpeg                                \b\b\b\b 82%\b\b\b\b\b  OK \n",
            "Extracting  dataset/train/sekuwa/226.jpeg                                \b\b\b\b 82%\b\b\b\b\b  OK \n",
            "Extracting  dataset/train/sekuwa/227.jpeg                                \b\b\b\b 82%\b\b\b\b\b  OK \n",
            "Extracting  dataset/train/sekuwa/229.jpeg                                \b\b\b\b 82%\b\b\b\b\b  OK \n",
            "Extracting  dataset/train/sekuwa/23.jpeg                                 \b\b\b\b 82%\b\b\b\b\b  OK \n",
            "Extracting  dataset/train/sekuwa/230.jpeg                                \b\b\b\b 82%\b\b\b\b\b  OK \n",
            "Extracting  dataset/train/sekuwa/231.jpeg                                \b\b\b\b 82%\b\b\b\b\b  OK \n",
            "Extracting  dataset/train/sekuwa/232.jpeg                                \b\b\b\b 82%\b\b\b\b\b  OK \n",
            "Extracting  dataset/train/sekuwa/233.jpeg                                \b\b\b\b 82%\b\b\b\b\b  OK \n",
            "Extracting  dataset/train/sekuwa/237.jpeg                                \b\b\b\b 82%\b\b\b\b\b  OK \n",
            "Extracting  dataset/train/sekuwa/239.jpeg                                \b\b\b\b 82%\b\b\b\b\b  OK \n",
            "Extracting  dataset/train/sekuwa/24.jpeg                                 \b\b\b\b 83%\b\b\b\b\b  OK \n",
            "Extracting  dataset/train/sekuwa/244.jpeg                                \b\b\b\b 83%\b\b\b\b\b  OK \n",
            "Extracting  dataset/train/sekuwa/245.jpeg                                \b\b\b\b 83%\b\b\b\b\b  OK \n",
            "Extracting  dataset/train/sekuwa/249.jpeg                                \b\b\b\b 83%\b\b\b\b\b  OK \n",
            "Extracting  dataset/train/sekuwa/25.jpeg                                 \b\b\b\b 83%\b\b\b\b\b  OK \n",
            "Extracting  dataset/train/sekuwa/250.jpeg                                \b\b\b\b 83%\b\b\b\b\b  OK \n",
            "Extracting  dataset/train/sekuwa/251.jpeg                                \b\b\b\b 83%\b\b\b\b\b  OK \n",
            "Extracting  dataset/train/sekuwa/256.jpeg                                \b\b\b\b 83%\b\b\b\b\b  OK \n",
            "Extracting  dataset/train/sekuwa/257.jpeg                                \b\b\b\b 83%\b\b\b\b\b  OK \n",
            "Extracting  dataset/train/sekuwa/258.jpeg                                \b\b\b\b 83%\b\b\b\b\b  OK \n",
            "Extracting  dataset/train/sekuwa/261.jpeg                                \b\b\b\b 83%\b\b\b\b\b  OK \n",
            "Extracting  dataset/train/sekuwa/262.jpeg                                \b\b\b\b 84%\b\b\b\b\b  OK \n",
            "Extracting  dataset/train/sekuwa/263.jpeg                                \b\b\b\b 84%\b\b\b\b\b  OK \n",
            "Extracting  dataset/train/sekuwa/267.jpeg                                \b\b\b\b 84%\b\b\b\b\b  OK \n",
            "Extracting  dataset/train/sekuwa/269.jpeg                                \b\b\b\b 84%\b\b\b\b\b  OK \n",
            "Extracting  dataset/train/sekuwa/27.jpeg                                 \b\b\b\b 84%\b\b\b\b\b  OK \n",
            "Extracting  dataset/train/sekuwa/273.jpeg                                \b\b\b\b 84%\b\b\b\b\b  OK \n",
            "Extracting  dataset/train/sekuwa/274.jpeg                                \b\b\b\b 84%\b\b\b\b\b  OK \n",
            "Extracting  dataset/train/sekuwa/276.jpeg                                \b\b\b\b 84%\b\b\b\b\b  OK \n",
            "Extracting  dataset/train/sekuwa/278.jpeg                                \b\b\b\b 84%\b\b\b\b\b  OK \n",
            "Extracting  dataset/train/sekuwa/28.jpeg                                 \b\b\b\b 84%\b\b\b\b\b  OK \n",
            "Extracting  dataset/train/sekuwa/281.jpeg                                \b\b\b\b 84%\b\b\b\b\b  OK \n",
            "Extracting  dataset/train/sekuwa/282.jpeg                                \b\b\b\b 84%\b\b\b\b\b  OK \n",
            "Extracting  dataset/train/sekuwa/285.jpeg                                \b\b\b\b 84%\b\b\b\b\b  OK \n",
            "Extracting  dataset/train/sekuwa/287.jpeg                                \b\b\b\b 84%\b\b\b\b\b  OK \n",
            "Extracting  dataset/train/sekuwa/293.jpeg                                \b\b\b\b 84%\b\b\b\b\b  OK \n",
            "Extracting  dataset/train/sekuwa/295.jpeg                                \b\b\b\b 84%\b\b\b\b\b  OK \n",
            "Extracting  dataset/train/sekuwa/31.jpeg                                 \b\b\b\b 84%\b\b\b\b\b  OK \n",
            "Extracting  dataset/train/sekuwa/34.jpeg                                 \b\b\b\b 84%\b\b\b\b\b  OK \n",
            "Extracting  dataset/train/sekuwa/36.jpeg                                 \b\b\b\b 84%\b\b\b\b\b  OK \n",
            "Extracting  dataset/train/sekuwa/37.jpeg                                 \b\b\b\b 84%\b\b\b\b\b  OK \n",
            "Extracting  dataset/train/sekuwa/38.jpeg                                 \b\b\b\b 84%\b\b\b\b\b  OK \n",
            "Extracting  dataset/train/sekuwa/4.jpeg                                  \b\b\b\b 84%\b\b\b\b\b  OK \n",
            "Extracting  dataset/train/sekuwa/41.jpeg                                 \b\b\b\b 84%\b\b\b\b\b  OK \n",
            "Extracting  dataset/train/sekuwa/45.jpeg                                 \b\b\b\b 84%\b\b\b\b\b  OK \n",
            "Extracting  dataset/train/sekuwa/46.jpeg                                 \b\b\b\b 84%\b\b\b\b\b  OK \n",
            "Extracting  dataset/train/sekuwa/47.jpeg                                 \b\b\b\b 84%\b\b\b\b\b  OK \n",
            "Extracting  dataset/train/sekuwa/5.jpeg                                  \b\b\b\b 84%\b\b\b\b\b  OK \n",
            "Extracting  dataset/train/sekuwa/52.jpeg                                 \b\b\b\b 85%\b\b\b\b\b  OK \n",
            "Extracting  dataset/train/sekuwa/53.jpeg                                 \b\b\b\b 85%\b\b\b\b\b  OK \n",
            "Extracting  dataset/train/sekuwa/54.jpeg                                 \b\b\b\b 85%\b\b\b\b\b  OK \n",
            "Extracting  dataset/train/sekuwa/58.jpeg                                 \b\b\b\b 85%\b\b\b\b\b  OK \n",
            "Extracting  dataset/train/sekuwa/59.jpeg                                 \b\b\b\b 85%\b\b\b\b\b  OK \n",
            "Extracting  dataset/train/sekuwa/6.jpeg                                  \b\b\b\b 85%\b\b\b\b\b  OK \n",
            "Extracting  dataset/train/sekuwa/60.jpeg                                 \b\b\b\b 85%\b\b\b\b\b  OK \n",
            "Extracting  dataset/train/sekuwa/61.jpeg                                 \b\b\b\b 85%\b\b\b\b\b  OK \n",
            "Extracting  dataset/train/sekuwa/62.jpeg                                 \b\b\b\b 85%\b\b\b\b\b  OK \n",
            "Extracting  dataset/train/sekuwa/63.jpeg                                 \b\b\b\b 85%\b\b\b\b\b  OK \n",
            "Extracting  dataset/train/sekuwa/64.jpeg                                 \b\b\b\b 85%\b\b\b\b\b  OK \n",
            "Extracting  dataset/train/sekuwa/65.jpeg                                 \b\b\b\b 85%\b\b\b\b\b  OK \n",
            "Extracting  dataset/train/sekuwa/67.jpeg                                 \b\b\b\b 85%\b\b\b\b\b  OK \n",
            "Extracting  dataset/train/sekuwa/74.jpeg                                 \b\b\b\b 85%\b\b\b\b\b  OK \n",
            "Extracting  dataset/train/sekuwa/8.jpeg                                  \b\b\b\b 85%\b\b\b\b\b  OK \n",
            "Extracting  dataset/train/sekuwa/82.jpeg                                 \b\b\b\b 86%\b\b\b\b\b  OK \n",
            "Extracting  dataset/train/sekuwa/83.jpeg                                 \b\b\b\b 86%\b\b\b\b\b  OK \n",
            "Extracting  dataset/train/sekuwa/84.jpeg                                 \b\b\b\b 86%\b\b\b\b 87%\b\b\b\b\b  OK \n",
            "Extracting  dataset/train/sekuwa/9.jpeg                                  \b\b\b\b 87%\b\b\b\b\b  OK \n",
            "Extracting  dataset/train/sekuwa/92.jpeg                                 \b\b\b\b 87%\b\b\b\b\b  OK \n",
            "Creating    dataset/train/selroti                                     OK\n",
            "Extracting  dataset/train/selroti/0.jpeg                                 \b\b\b\b 87%\b\b\b\b\b  OK \n",
            "Extracting  dataset/train/selroti/100.jpeg                               \b\b\b\b 87%\b\b\b\b\b  OK \n",
            "Extracting  dataset/train/selroti/101.jpeg                               \b\b\b\b 87%\b\b\b\b\b  OK \n",
            "Extracting  dataset/train/selroti/105.jpeg                               \b\b\b\b 87%\b\b\b\b 88%\b\b\b\b\b  OK \n",
            "Extracting  dataset/train/selroti/11.jpeg                                \b\b\b\b 88%\b\b\b\b\b  OK \n",
            "Extracting  dataset/train/selroti/112.jpeg                               \b\b\b\b 88%\b\b\b\b\b  OK \n",
            "Extracting  dataset/train/selroti/114.jpeg                               \b\b\b\b 88%\b\b\b\b\b  OK \n",
            "Extracting  dataset/train/selroti/117.jpeg                               \b\b\b\b 88%\b\b\b\b\b  OK \n",
            "Extracting  dataset/train/selroti/118.jpeg                               \b\b\b\b 88%\b\b\b\b\b  OK \n",
            "Extracting  dataset/train/selroti/12.jpeg                                \b\b\b\b 88%\b\b\b\b\b  OK \n",
            "Extracting  dataset/train/selroti/121.jpeg                               \b\b\b\b 88%\b\b\b\b\b  OK \n",
            "Extracting  dataset/train/selroti/125.jpeg                               \b\b\b\b 88%\b\b\b\b\b  OK \n",
            "Extracting  dataset/train/selroti/13.jpeg                                \b\b\b\b 88%\b\b\b\b\b  OK \n",
            "Extracting  dataset/train/selroti/130.jpeg                               \b\b\b\b 88%\b\b\b\b\b  OK \n",
            "Extracting  dataset/train/selroti/14.jpeg                                \b\b\b\b 88%\b\b\b\b\b  OK \n",
            "Extracting  dataset/train/selroti/142.jpeg                               \b\b\b\b 88%\b\b\b\b\b  OK \n",
            "Extracting  dataset/train/selroti/143.jpeg                               \b\b\b\b 88%\b\b\b\b\b  OK \n",
            "Extracting  dataset/train/selroti/144.jpeg                               \b\b\b\b 88%\b\b\b\b\b  OK \n",
            "Extracting  dataset/train/selroti/146.jpeg                               \b\b\b\b 88%\b\b\b\b\b  OK \n",
            "Extracting  dataset/train/selroti/148.jpeg                               \b\b\b\b 88%\b\b\b\b\b  OK \n",
            "Extracting  dataset/train/selroti/149.jpeg                               \b\b\b\b 88%\b\b\b\b\b  OK \n",
            "Extracting  dataset/train/selroti/15.jpeg                                \b\b\b\b 88%\b\b\b\b\b  OK \n",
            "Extracting  dataset/train/selroti/151.jpeg                               \b\b\b\b 88%\b\b\b\b\b  OK \n",
            "Extracting  dataset/train/selroti/152.jpeg                               \b\b\b\b 88%\b\b\b\b\b  OK \n",
            "Extracting  dataset/train/selroti/156.jpeg                               \b\b\b\b 89%\b\b\b\b\b  OK \n",
            "Extracting  dataset/train/selroti/157.jpeg                               \b\b\b\b 89%\b\b\b\b\b  OK \n",
            "Extracting  dataset/train/selroti/159.jpeg                               \b\b\b\b 89%\b\b\b\b\b  OK \n",
            "Extracting  dataset/train/selroti/16.jpeg                                \b\b\b\b 89%\b\b\b\b\b  OK \n",
            "Extracting  dataset/train/selroti/160.jpeg                               \b\b\b\b 89%\b\b\b\b\b  OK \n",
            "Extracting  dataset/train/selroti/161.jpeg                               \b\b\b\b 89%\b\b\b\b\b  OK \n",
            "Extracting  dataset/train/selroti/162.jpeg                               \b\b\b\b 89%\b\b\b\b\b  OK \n",
            "Extracting  dataset/train/selroti/164.jpeg                               \b\b\b\b 89%\b\b\b\b\b  OK \n",
            "Extracting  dataset/train/selroti/17.jpeg                                \b\b\b\b 89%\b\b\b\b\b  OK \n",
            "Extracting  dataset/train/selroti/171.jpeg                               \b\b\b\b 89%\b\b\b\b\b  OK \n",
            "Extracting  dataset/train/selroti/174.jpeg                               \b\b\b\b 89%\b\b\b\b\b  OK \n",
            "Extracting  dataset/train/selroti/175.jpeg                               \b\b\b\b 89%\b\b\b\b\b  OK \n",
            "Extracting  dataset/train/selroti/177.jpeg                               \b\b\b\b 89%\b\b\b\b\b  OK \n",
            "Extracting  dataset/train/selroti/179.jpeg                               \b\b\b\b 89%\b\b\b\b\b  OK \n",
            "Extracting  dataset/train/selroti/180.jpeg                               \b\b\b\b 89%\b\b\b\b\b  OK \n",
            "Extracting  dataset/train/selroti/184.jpeg                               \b\b\b\b 89%\b\b\b\b\b  OK \n",
            "Extracting  dataset/train/selroti/185.jpeg                               \b\b\b\b 89%\b\b\b\b\b  OK \n",
            "Extracting  dataset/train/selroti/186.jpeg                               \b\b\b\b 89%\b\b\b\b\b  OK \n",
            "Extracting  dataset/train/selroti/188.jpeg                               \b\b\b\b 89%\b\b\b\b\b  OK \n",
            "Extracting  dataset/train/selroti/189.jpeg                               \b\b\b\b 89%\b\b\b\b\b  OK \n",
            "Extracting  dataset/train/selroti/19.jpeg                                \b\b\b\b 89%\b\b\b\b\b  OK \n",
            "Extracting  dataset/train/selroti/190.jpeg                               \b\b\b\b 89%\b\b\b\b\b  OK \n",
            "Extracting  dataset/train/selroti/191.jpeg                               \b\b\b\b 89%\b\b\b\b\b  OK \n",
            "Extracting  dataset/train/selroti/194.jpeg                               \b\b\b\b 89%\b\b\b\b\b  OK \n",
            "Extracting  dataset/train/selroti/195.jpeg                               \b\b\b\b 90%\b\b\b\b 91%\b\b\b\b\b  OK \n",
            "Extracting  dataset/train/selroti/198.jpeg                               \b\b\b\b 91%\b\b\b\b\b  OK \n",
            "Extracting  dataset/train/selroti/2.jpeg                                 \b\b\b\b 91%\b\b\b\b\b  OK \n",
            "Extracting  dataset/train/selroti/20.jpeg                                \b\b\b\b 91%\b\b\b\b\b  OK \n",
            "Extracting  dataset/train/selroti/203.jpeg                               \b\b\b\b 91%\b\b\b\b\b  OK \n",
            "Extracting  dataset/train/selroti/206.jpeg                               \b\b\b\b 91%\b\b\b\b\b  OK \n",
            "Extracting  dataset/train/selroti/207.jpeg                               \b\b\b\b 91%\b\b\b\b\b  OK \n",
            "Extracting  dataset/train/selroti/208.jpeg                               \b\b\b\b 91%\b\b\b\b\b  OK \n",
            "Extracting  dataset/train/selroti/21.jpeg                                \b\b\b\b 91%\b\b\b\b\b  OK \n",
            "Extracting  dataset/train/selroti/212.jpeg                               \b\b\b\b 91%\b\b\b\b\b  OK \n",
            "Extracting  dataset/train/selroti/213.jpeg                               \b\b\b\b 92%\b\b\b\b\b  OK \n",
            "Extracting  dataset/train/selroti/215.jpeg                               \b\b\b\b 92%\b\b\b\b\b  OK \n",
            "Extracting  dataset/train/selroti/216.jpeg                               \b\b\b\b 92%\b\b\b\b\b  OK \n",
            "Extracting  dataset/train/selroti/217.jpeg                               \b\b\b\b 92%\b\b\b\b\b  OK \n",
            "Extracting  dataset/train/selroti/218.jpeg                               \b\b\b\b 92%\b\b\b\b\b  OK \n",
            "Extracting  dataset/train/selroti/22.jpeg                                \b\b\b\b 92%\b\b\b\b\b  OK \n",
            "Extracting  dataset/train/selroti/220.jpeg                               \b\b\b\b 92%\b\b\b\b\b  OK \n",
            "Extracting  dataset/train/selroti/221.jpeg                               \b\b\b\b 92%\b\b\b\b\b  OK \n",
            "Extracting  dataset/train/selroti/223.jpeg                               \b\b\b\b 92%\b\b\b\b\b  OK \n",
            "Extracting  dataset/train/selroti/224.jpeg                               \b\b\b\b 92%\b\b\b\b\b  OK \n",
            "Extracting  dataset/train/selroti/226.jpeg                               \b\b\b\b 92%\b\b\b\b\b  OK \n",
            "Extracting  dataset/train/selroti/229.jpeg                               \b\b\b\b 92%\b\b\b\b\b  OK \n",
            "Extracting  dataset/train/selroti/23.jpeg                                \b\b\b\b 92%\b\b\b\b\b  OK \n",
            "Extracting  dataset/train/selroti/230.jpeg                               \b\b\b\b 92%\b\b\b\b\b  OK \n",
            "Extracting  dataset/train/selroti/231.jpeg                               \b\b\b\b 92%\b\b\b\b\b  OK \n",
            "Extracting  dataset/train/selroti/232.jpeg                               \b\b\b\b 92%\b\b\b\b\b  OK \n",
            "Extracting  dataset/train/selroti/233.jpeg                               \b\b\b\b 92%\b\b\b\b\b  OK \n",
            "Extracting  dataset/train/selroti/236.jpeg                               \b\b\b\b 92%\b\b\b\b\b  OK \n",
            "Extracting  dataset/train/selroti/24.jpeg                                \b\b\b\b 92%\b\b\b\b\b  OK \n",
            "Extracting  dataset/train/selroti/240.jpeg                               \b\b\b\b 92%\b\b\b\b\b  OK \n",
            "Extracting  dataset/train/selroti/241.jpeg                               \b\b\b\b 92%\b\b\b\b\b  OK \n",
            "Extracting  dataset/train/selroti/242.jpeg                               \b\b\b\b 92%\b\b\b\b\b  OK \n",
            "Extracting  dataset/train/selroti/254 (2).jpeg                           \b\b\b\b 92%\b\b\b\b\b  OK \n",
            "Extracting  dataset/train/selroti/257.jpeg                               \b\b\b\b 92%\b\b\b\b\b  OK \n",
            "Extracting  dataset/train/selroti/26.jpeg                                \b\b\b\b 92%\b\b\b\b\b  OK \n",
            "Extracting  dataset/train/selroti/262.jpeg                               \b\b\b\b 92%\b\b\b\b\b  OK \n",
            "Extracting  dataset/train/selroti/266.jpeg                               \b\b\b\b 92%\b\b\b\b\b  OK \n",
            "Extracting  dataset/train/selroti/267.jpeg                               \b\b\b\b 92%\b\b\b\b\b  OK \n",
            "Extracting  dataset/train/selroti/268.jpeg                               \b\b\b\b 93%\b\b\b\b\b  OK \n",
            "Extracting  dataset/train/selroti/269.jpeg                               \b\b\b\b 93%\b\b\b\b\b  OK \n",
            "Extracting  dataset/train/selroti/27.jpeg                                \b\b\b\b 93%\b\b\b\b\b  OK \n",
            "Extracting  dataset/train/selroti/280.jpeg                               \b\b\b\b 93%\b\b\b\b\b  OK \n",
            "Extracting  dataset/train/selroti/285.jpeg                               \b\b\b\b 93%\b\b\b\b\b  OK \n",
            "Extracting  dataset/train/selroti/286.jpeg                               \b\b\b\b 93%\b\b\b\b\b  OK \n",
            "Extracting  dataset/train/selroti/287.jpeg                               \b\b\b\b 93%\b\b\b\b\b  OK \n",
            "Extracting  dataset/train/selroti/288.jpeg                               \b\b\b\b 93%\b\b\b\b\b  OK \n",
            "Extracting  dataset/train/selroti/289.jpeg                               \b\b\b\b 93%\b\b\b\b\b  OK \n",
            "Extracting  dataset/train/selroti/290.jpeg                               \b\b\b\b 93%\b\b\b\b\b  OK \n",
            "Extracting  dataset/train/selroti/291.jpeg                               \b\b\b\b 93%\b\b\b\b\b  OK \n",
            "Extracting  dataset/train/selroti/293.jpeg                               \b\b\b\b 93%\b\b\b\b\b  OK \n",
            "Extracting  dataset/train/selroti/30.jpeg                                \b\b\b\b 93%\b\b\b\b\b  OK \n",
            "Extracting  dataset/train/selroti/301.jpeg                               \b\b\b\b 93%\b\b\b\b\b  OK \n",
            "Extracting  dataset/train/selroti/308.jpeg                               \b\b\b\b 93%\b\b\b\b\b  OK \n",
            "Extracting  dataset/train/selroti/309.jpeg                               \b\b\b\b 93%\b\b\b\b\b  OK \n",
            "Extracting  dataset/train/selroti/31.jpeg                                \b\b\b\b 93%\b\b\b\b\b  OK \n",
            "Extracting  dataset/train/selroti/316.jpeg                               \b\b\b\b 93%\b\b\b\b\b  OK \n",
            "Extracting  dataset/train/selroti/318.jpeg                               \b\b\b\b 93%\b\b\b\b\b  OK \n",
            "Extracting  dataset/train/selroti/319.jpeg                               \b\b\b\b 93%\b\b\b\b\b  OK \n",
            "Extracting  dataset/train/selroti/320.jpeg                               \b\b\b\b 93%\b\b\b\b\b  OK \n",
            "Extracting  dataset/train/selroti/321.jpeg                               \b\b\b\b 93%\b\b\b\b\b  OK \n",
            "Extracting  dataset/train/selroti/325.jpeg                               \b\b\b\b 93%\b\b\b\b\b  OK \n",
            "Extracting  dataset/train/selroti/326.jpeg                               \b\b\b\b 93%\b\b\b\b\b  OK \n",
            "Extracting  dataset/train/selroti/336.jpeg                               \b\b\b\b 93%\b\b\b\b\b  OK \n",
            "Extracting  dataset/train/selroti/338.jpeg                               \b\b\b\b 93%\b\b\b\b\b  OK \n",
            "Extracting  dataset/train/selroti/342.jpeg                               \b\b\b\b 93%\b\b\b\b\b  OK \n",
            "Extracting  dataset/train/selroti/346.jpeg                               \b\b\b\b 93%\b\b\b\b\b  OK \n",
            "Extracting  dataset/train/selroti/347.jpeg                               \b\b\b\b 93%\b\b\b\b\b  OK \n",
            "Extracting  dataset/train/selroti/35.jpeg                                \b\b\b\b 93%\b\b\b\b\b  OK \n",
            "Extracting  dataset/train/selroti/354.jpeg                               \b\b\b\b 93%\b\b\b\b\b  OK \n",
            "Extracting  dataset/train/selroti/357.jpeg                               \b\b\b\b 94%\b\b\b\b\b  OK \n",
            "Extracting  dataset/train/selroti/358.jpeg                               \b\b\b\b 94%\b\b\b\b\b  OK \n",
            "Extracting  dataset/train/selroti/359.jpeg                               \b\b\b\b 94%\b\b\b\b\b  OK \n",
            "Extracting  dataset/train/selroti/36.jpeg                                \b\b\b\b 94%\b\b\b\b\b  OK \n",
            "Extracting  dataset/train/selroti/360.jpeg                               \b\b\b\b 94%\b\b\b\b\b  OK \n",
            "Extracting  dataset/train/selroti/362.jpeg                               \b\b\b\b 94%\b\b\b\b\b  OK \n",
            "Extracting  dataset/train/selroti/363.jpeg                               \b\b\b\b 94%\b\b\b\b\b  OK \n",
            "Extracting  dataset/train/selroti/368.jpeg                               \b\b\b\b 94%\b\b\b\b\b  OK \n",
            "Extracting  dataset/train/selroti/37.jpeg                                \b\b\b\b 94%\b\b\b\b\b  OK \n",
            "Extracting  dataset/train/selroti/371.jpeg                               \b\b\b\b 94%\b\b\b\b\b  OK \n",
            "Extracting  dataset/train/selroti/372.jpeg                               \b\b\b\b 94%\b\b\b\b\b  OK \n",
            "Extracting  dataset/train/selroti/373.jpeg                               \b\b\b\b 94%\b\b\b\b\b  OK \n",
            "Extracting  dataset/train/selroti/378.jpeg                               \b\b\b\b 94%\b\b\b\b\b  OK \n",
            "Extracting  dataset/train/selroti/38.jpeg                                \b\b\b\b 94%\b\b\b\b\b  OK \n",
            "Extracting  dataset/train/selroti/380.jpeg                               \b\b\b\b 94%\b\b\b\b\b  OK \n",
            "Extracting  dataset/train/selroti/381.jpeg                               \b\b\b\b 94%\b\b\b\b\b  OK \n",
            "Extracting  dataset/train/selroti/383.jpeg                               \b\b\b\b 94%\b\b\b\b\b  OK \n",
            "Extracting  dataset/train/selroti/386.jpeg                               \b\b\b\b 94%\b\b\b\b\b  OK \n",
            "Extracting  dataset/train/selroti/387.jpeg                               \b\b\b\b 94%\b\b\b\b\b  OK \n",
            "Extracting  dataset/train/selroti/388.jpeg                               \b\b\b\b 95%\b\b\b\b\b  OK \n",
            "Extracting  dataset/train/selroti/39.jpeg                                \b\b\b\b 95%\b\b\b\b\b  OK \n",
            "Extracting  dataset/train/selroti/391.jpeg                               \b\b\b\b 95%\b\b\b\b\b  OK \n",
            "Extracting  dataset/train/selroti/392.jpeg                               \b\b\b\b 95%\b\b\b\b\b  OK \n",
            "Extracting  dataset/train/selroti/393.jpeg                               \b\b\b\b 95%\b\b\b\b\b  OK \n",
            "Extracting  dataset/train/selroti/398.jpeg                               \b\b\b\b 95%\b\b\b\b\b  OK \n",
            "Extracting  dataset/train/selroti/399.jpeg                               \b\b\b\b 95%\b\b\b\b\b  OK \n",
            "Extracting  dataset/train/selroti/40.jpeg                                \b\b\b\b 95%\b\b\b\b\b  OK \n",
            "Extracting  dataset/train/selroti/401.jpeg                               \b\b\b\b 95%\b\b\b\b\b  OK \n",
            "Extracting  dataset/train/selroti/403.jpeg                               \b\b\b\b 96%\b\b\b\b\b  OK \n",
            "Extracting  dataset/train/selroti/406.jpeg                               \b\b\b\b 96%\b\b\b\b\b  OK \n",
            "Extracting  dataset/train/selroti/409.jpeg                               \b\b\b\b 96%\b\b\b\b\b  OK \n",
            "Extracting  dataset/train/selroti/410.jpeg                               \b\b\b\b 96%\b\b\b\b\b  OK \n",
            "Extracting  dataset/train/selroti/413.jpeg                               \b\b\b\b 96%\b\b\b\b\b  OK \n",
            "Extracting  dataset/train/selroti/415.jpeg                               \b\b\b\b 96%\b\b\b\b\b  OK \n",
            "Extracting  dataset/train/selroti/416.jpeg                               \b\b\b\b 96%\b\b\b\b\b  OK \n",
            "Extracting  dataset/train/selroti/417.jpeg                               \b\b\b\b 96%\b\b\b\b\b  OK \n",
            "Extracting  dataset/train/selroti/418.jpeg                               \b\b\b\b 96%\b\b\b\b\b  OK \n",
            "Extracting  dataset/train/selroti/419.jpeg                               \b\b\b\b 96%\b\b\b\b\b  OK \n",
            "Extracting  dataset/train/selroti/42.jpeg                                \b\b\b\b 96%\b\b\b\b\b  OK \n",
            "Extracting  dataset/train/selroti/422.jpeg                               \b\b\b\b 96%\b\b\b\b 97%\b\b\b\b\b  OK \n",
            "Extracting  dataset/train/selroti/425.jpeg                               \b\b\b\b 97%\b\b\b\b\b  OK \n",
            "Extracting  dataset/train/selroti/426.jpeg                               \b\b\b\b 97%\b\b\b\b\b  OK \n",
            "Extracting  dataset/train/selroti/427.jpeg                               \b\b\b\b 97%\b\b\b\b\b  OK \n",
            "Extracting  dataset/train/selroti/428.jpeg                               \b\b\b\b 97%\b\b\b\b\b  OK \n",
            "Extracting  dataset/train/selroti/429.jpeg                               \b\b\b\b 97%\b\b\b\b\b  OK \n",
            "Extracting  dataset/train/selroti/43.jpeg                                \b\b\b\b 97%\b\b\b\b\b  OK \n",
            "Extracting  dataset/train/selroti/430.jpeg                               \b\b\b\b 97%\b\b\b\b\b  OK \n",
            "Extracting  dataset/train/selroti/431.jpeg                               \b\b\b\b 97%\b\b\b\b\b  OK \n",
            "Extracting  dataset/train/selroti/432.jpeg                               \b\b\b\b 97%\b\b\b\b\b  OK \n",
            "Extracting  dataset/train/selroti/433.jpeg                               \b\b\b\b 97%\b\b\b\b\b  OK \n",
            "Extracting  dataset/train/selroti/434.jpeg                               \b\b\b\b 97%\b\b\b\b\b  OK \n",
            "Extracting  dataset/train/selroti/441.jpeg                               \b\b\b\b 97%\b\b\b\b\b  OK \n",
            "Extracting  dataset/train/selroti/442.jpeg                               \b\b\b\b 97%\b\b\b\b\b  OK \n",
            "Extracting  dataset/train/selroti/445.jpeg                               \b\b\b\b 97%\b\b\b\b\b  OK \n",
            "Extracting  dataset/train/selroti/447.jpeg                               \b\b\b\b 97%\b\b\b\b\b  OK \n",
            "Extracting  dataset/train/selroti/448.jpeg                               \b\b\b\b 97%\b\b\b\b\b  OK \n",
            "Extracting  dataset/train/selroti/449.jpeg                               \b\b\b\b 97%\b\b\b\b\b  OK \n",
            "Extracting  dataset/train/selroti/45.jpeg                                \b\b\b\b 97%\b\b\b\b\b  OK \n",
            "Extracting  dataset/train/selroti/456.jpeg                               \b\b\b\b 97%\b\b\b\b\b  OK \n",
            "Extracting  dataset/train/selroti/457.jpeg                               \b\b\b\b 97%\b\b\b\b\b  OK \n",
            "Extracting  dataset/train/selroti/46.jpeg                                \b\b\b\b 97%\b\b\b\b\b  OK \n",
            "Extracting  dataset/train/selroti/48.jpeg                                \b\b\b\b 98%\b\b\b\b\b  OK \n",
            "Extracting  dataset/train/selroti/50.jpeg                                \b\b\b\b 98%\b\b\b\b\b  OK \n",
            "Extracting  dataset/train/selroti/51.jpeg                                \b\b\b\b 98%\b\b\b\b\b  OK \n",
            "Extracting  dataset/train/selroti/52.jpeg                                \b\b\b\b 98%\b\b\b\b\b  OK \n",
            "Extracting  dataset/train/selroti/57.jpeg                                \b\b\b\b 98%\b\b\b\b\b  OK \n",
            "Extracting  dataset/train/selroti/63.jpeg                                \b\b\b\b 98%\b\b\b\b\b  OK \n",
            "Extracting  dataset/train/selroti/64.jpeg                                \b\b\b\b 98%\b\b\b\b\b  OK \n",
            "Extracting  dataset/train/selroti/65.jpeg                                \b\b\b\b 98%\b\b\b\b\b  OK \n",
            "Extracting  dataset/train/selroti/68.jpeg                                \b\b\b\b 98%\b\b\b\b\b  OK \n",
            "Extracting  dataset/train/selroti/7.jpeg                                 \b\b\b\b 98%\b\b\b\b\b  OK \n",
            "Extracting  dataset/train/selroti/71.jpeg                                \b\b\b\b 98%\b\b\b\b\b  OK \n",
            "Extracting  dataset/train/selroti/73.jpeg                                \b\b\b\b 98%\b\b\b\b\b  OK \n",
            "Extracting  dataset/train/selroti/75.jpeg                                \b\b\b\b 98%\b\b\b\b\b  OK \n",
            "Extracting  dataset/train/selroti/78.jpeg                                \b\b\b\b 99%\b\b\b\b\b  OK \n",
            "Extracting  dataset/train/selroti/8.jpeg                                 \b\b\b\b 99%\b\b\b\b\b  OK \n",
            "Extracting  dataset/train/selroti/80.jpeg                                \b\b\b\b 99%\b\b\b\b\b  OK \n",
            "Extracting  dataset/train/selroti/81.jpeg                                \b\b\b\b 99%\b\b\b\b\b  OK \n",
            "Extracting  dataset/train/selroti/83.jpeg                                \b\b\b\b 99%\b\b\b\b\b  OK \n",
            "Extracting  dataset/train/selroti/84.jpeg                                \b\b\b\b 99%\b\b\b\b\b  OK \n",
            "Extracting  dataset/train/selroti/85.jpeg                                \b\b\b\b 99%\b\b\b\b\b  OK \n",
            "Extracting  dataset/train/selroti/87.jpeg                                \b\b\b\b 99%\b\b\b\b\b  OK \n",
            "Extracting  dataset/train/selroti/88.jpeg                                \b\b\b\b 99%\b\b\b\b\b  OK \n",
            "Extracting  dataset/train/selroti/89.jpeg                                \b\b\b\b 99%\b\b\b\b\b  OK \n",
            "Extracting  dataset/train/selroti/94.jpeg                                \b\b\b\b 99%\b\b\b\b\b  OK \n",
            "Extracting  dataset/train/selroti/96.jpeg                                \b\b\b\b 99%\b\b\b\b\b  OK \n",
            "Extracting  dataset/train/selroti/97.jpeg                                \b\b\b\b 99%\b\b\b\b\b  OK \n",
            "Extracting  dataset/train/selroti/98.jpeg                                \b\b\b\b 99%\b\b\b\b\b  OK \n",
            "Extracting  dataset/train/selroti/99.jpeg                                \b\b\b\b 99%\b\b\b\b\b  OK \n",
            "All OK\n"
          ]
        }
      ],
      "source": [
        "!pip install unrar\n",
        "!unrar x dataset.rar"
      ]
    },
    {
      "cell_type": "code",
      "execution_count": null,
      "metadata": {
        "id": "pY4HA4Fb-Rm8"
      },
      "outputs": [],
      "source": [
        "import tensorflow as tf"
      ]
    },
    {
      "cell_type": "code",
      "execution_count": null,
      "metadata": {
        "colab": {
          "base_uri": "https://localhost:8080/"
        },
        "id": "NJy2FFJO-jB_",
        "outputId": "41f8060f-2e8a-4760-8291-70d1da43243b"
      },
      "outputs": [
        {
          "output_type": "stream",
          "name": "stdout",
          "text": [
            "Found 1548 files belonging to 9 classes.\n",
            "Found 395 files belonging to 9 classes.\n"
          ]
        }
      ],
      "source": [
        "IMG_SIZE = (224, 224)\n",
        "train_data = tf.keras.preprocessing.image_dataset_from_directory(directory=\"dataset/train/\",\n",
        "                                                                 image_size=IMG_SIZE,\n",
        "                                                                 label_mode=\"categorical\",\n",
        "                                                                 batch_size=32)\n",
        "test_data = tf.keras.preprocessing.image_dataset_from_directory(directory=\"dataset/test/\",\n",
        "                                                                 image_size=IMG_SIZE,\n",
        "                                                                 label_mode=\"categorical\",\n",
        "                                                                 batch_size=32,\n",
        "                                                                shuffle=False)"
      ]
    },
    {
      "cell_type": "markdown",
      "metadata": {
        "id": "T4cLgF8N_GGN"
      },
      "source": [
        "Baseline Model"
      ]
    },
    {
      "cell_type": "code",
      "execution_count": null,
      "metadata": {
        "colab": {
          "base_uri": "https://localhost:8080/"
        },
        "id": "BJUTWmopAINY",
        "outputId": "91315e06-96bb-443e-b516-6d192a89eed0"
      },
      "outputs": [
        {
          "output_type": "stream",
          "name": "stdout",
          "text": [
            "Epoch 1/5\n",
            "49/49 [==============================] - 35s 372ms/step - loss: 170.2897 - accuracy: 0.1447 - val_loss: 4.5284 - val_accuracy: 0.1747\n",
            "Epoch 2/5\n",
            "49/49 [==============================] - 14s 246ms/step - loss: 2.1879 - accuracy: 0.4057 - val_loss: 2.8214 - val_accuracy: 0.2684\n",
            "Epoch 3/5\n",
            "49/49 [==============================] - 12s 234ms/step - loss: 0.6940 - accuracy: 0.7791 - val_loss: 2.8486 - val_accuracy: 0.2962\n",
            "Epoch 4/5\n",
            "49/49 [==============================] - 14s 273ms/step - loss: 0.1489 - accuracy: 0.9780 - val_loss: 3.0136 - val_accuracy: 0.3266\n",
            "Epoch 5/5\n",
            "49/49 [==============================] - 16s 299ms/step - loss: 0.0431 - accuracy: 0.9961 - val_loss: 3.2280 - val_accuracy: 0.3241\n"
          ]
        }
      ],
      "source": [
        "baseline_model = tf.keras.models.Sequential([\n",
        "    tf.keras.layers.Conv2D(filters=10, kernel_size=3, activation=\"relu\", input_shape=(224, 224, 3)),\n",
        "    tf.keras.layers.Conv2D(10, 3, activation=\"relu\"),\n",
        "    tf.keras.layers.MaxPool2D(2),\n",
        "    tf.keras.layers.Conv2D(10, 3, activation=\"relu\"),\n",
        "    tf.keras.layers.Conv2D(10, 3, activation=\"relu\"),\n",
        "    tf.keras.layers.MaxPool2D(2),\n",
        "    tf.keras.layers.Flatten(),\n",
        "    tf.keras.layers.Dense(9, activation=\"softmax\")                                     \n",
        "])\n",
        "\n",
        "baseline_model.compile(loss=\"categorical_crossentropy\",\n",
        "                       optimizer=tf.keras.optimizers.Adam(),\n",
        "                       metrics=[\"accuracy\"])\n",
        "\n",
        "baseline_history = baseline_model.fit(train_data,\n",
        "                                      epochs=5,\n",
        "                                      validation_data=test_data)"
      ]
    },
    {
      "cell_type": "markdown",
      "metadata": {
        "id": "MU3s35FPCPDm"
      },
      "source": [
        "There is huge issue of overfitting"
      ]
    },
    {
      "cell_type": "markdown",
      "metadata": {
        "id": "H0jb1qTIY30A"
      },
      "source": [
        "Another model with augmentation layer and constraining pixel value between 0 to 1"
      ]
    },
    {
      "cell_type": "code",
      "execution_count": null,
      "metadata": {
        "id": "TN84_wQAZKF0"
      },
      "outputs": [],
      "source": [
        "def normalize(image, label):\n",
        "  return image/255., label"
      ]
    },
    {
      "cell_type": "code",
      "execution_count": null,
      "metadata": {
        "id": "bf0HoXmTZQyu"
      },
      "outputs": [],
      "source": [
        "train_data = train_data.map(normalize)\n",
        "test_data = test_data.map(normalize)"
      ]
    },
    {
      "cell_type": "code",
      "execution_count": null,
      "metadata": {
        "colab": {
          "base_uri": "https://localhost:8080/"
        },
        "id": "mOFHm9f5ZtEs",
        "outputId": "3a341758-9e77-4374-acba-dd1381a80c1b"
      },
      "outputs": [
        {
          "output_type": "execute_result",
          "data": {
            "text/plain": [
              "[(array([[[[8.52440894e-02, 7.85214081e-02, 3.88555415e-02],\n",
              "           [9.98799503e-02, 8.63945633e-02, 9.15766358e-02],\n",
              "           [1.92066848e-01, 1.52631074e-01, 7.36294612e-02],\n",
              "           ...,\n",
              "           [8.32002819e-01, 5.73179305e-01, 3.37885141e-01],\n",
              "           [8.33173275e-01, 5.74349761e-01, 3.45958620e-01],\n",
              "           [8.32633018e-01, 5.73809505e-01, 3.44477832e-01]],\n",
              "  \n",
              "          [[1.04651861e-01, 9.95698273e-02, 8.27631056e-02],\n",
              "           [1.49259716e-01, 1.13745488e-01, 5.83833531e-02],\n",
              "           [4.70708281e-01, 3.94197673e-01, 2.62434959e-01],\n",
              "           ...,\n",
              "           [8.19957912e-01, 5.58963478e-01, 3.05952311e-01],\n",
              "           [8.13795507e-01, 5.52801073e-01, 2.99789906e-01],\n",
              "           [8.10414135e-01, 5.48069179e-01, 3.02010864e-01]],\n",
              "  \n",
              "          [[1.22689083e-01, 8.33033323e-02, 4.66186553e-02],\n",
              "           [4.18117255e-01, 3.42977226e-01, 2.12865159e-01],\n",
              "           [6.24759912e-01, 5.01890779e-01, 3.38095248e-01],\n",
              "           ...,\n",
              "           [8.06302547e-01, 5.35714328e-01, 2.65126050e-01],\n",
              "           [8.05852413e-01, 5.35264194e-01, 2.72519141e-01],\n",
              "           [8.02380979e-01, 5.31792760e-01, 2.69047618e-01]],\n",
              "  \n",
              "          ...,\n",
              "  \n",
              "          [[8.62655163e-01, 6.45988703e-01, 3.60774815e-01],\n",
              "           [8.26460660e-01, 5.60044229e-01, 2.32693493e-01],\n",
              "           [8.05982590e-01, 5.12185037e-01, 1.74349770e-01],\n",
              "           ...,\n",
              "           [3.32842648e-01, 1.88004836e-01, 6.73367605e-02],\n",
              "           [3.84072840e-01, 2.08372504e-01, 7.74202496e-02],\n",
              "           [4.43586856e-01, 2.69937485e-01, 1.31692275e-01]],\n",
              "  \n",
              "          [[8.64545584e-01, 6.64755762e-01, 4.24490124e-01],\n",
              "           [8.51540625e-01, 5.98739743e-01, 3.00981194e-01],\n",
              "           [8.10994208e-01, 5.33083141e-01, 2.03281462e-01],\n",
              "           ...,\n",
              "           [3.19017559e-01, 1.73919529e-01, 6.01940341e-02],\n",
              "           [3.77240360e-01, 2.00769767e-01, 7.13579953e-02],\n",
              "           [3.99880052e-01, 2.27331042e-01, 9.00761485e-02]],\n",
              "  \n",
              "          [[8.61294508e-01, 6.76600575e-01, 4.62955058e-01],\n",
              "           [8.38585496e-01, 5.93767524e-01, 3.17016840e-01],\n",
              "           [8.14775765e-01, 5.48109114e-01, 2.27100730e-01],\n",
              "           ...,\n",
              "           [3.27801168e-01, 1.82703122e-01, 6.89776242e-02],\n",
              "           [3.82542521e-01, 2.06071913e-01, 8.33831057e-02],\n",
              "           [4.10504282e-01, 2.37955257e-01, 1.00700349e-01]]],\n",
              "  \n",
              "  \n",
              "         [[[5.91788411e-01, 3.36886466e-01, 1.09785631e-01],\n",
              "           [5.95618486e-01, 3.40716511e-01, 1.13615677e-01],\n",
              "           [6.57776356e-01, 4.02874440e-01, 1.75773576e-01],\n",
              "           ...,\n",
              "           [8.36655200e-01, 5.97964704e-01, 4.25065547e-01],\n",
              "           [8.40857327e-01, 5.94148695e-01, 4.25280094e-01],\n",
              "           [8.46903801e-01, 6.00195050e-01, 4.31356221e-01]],\n",
              "  \n",
              "          [[7.26698995e-01, 4.72847402e-01, 2.54289985e-01],\n",
              "           [7.48206973e-01, 4.94355470e-01, 2.75798053e-01],\n",
              "           [7.68686295e-01, 5.14834702e-01, 2.96277344e-01],\n",
              "           ...,\n",
              "           [8.63626719e-01, 6.37226105e-01, 4.55258369e-01],\n",
              "           [8.77237678e-01, 6.40648067e-01, 4.64845926e-01],\n",
              "           [8.80423129e-01, 6.43001199e-01, 4.68369514e-01]],\n",
              "  \n",
              "          [[7.61199951e-01, 5.14141142e-01, 3.04639041e-01],\n",
              "           [7.63727009e-01, 5.16668141e-01, 3.06869060e-01],\n",
              "           [7.58114278e-01, 5.11055470e-01, 3.00232500e-01],\n",
              "           ...,\n",
              "           [8.74733746e-01, 6.57751858e-01, 4.64719713e-01],\n",
              "           [8.88152599e-01, 6.71170771e-01, 4.81932789e-01],\n",
              "           [8.95747840e-01, 6.71857595e-01, 4.86760378e-01]],\n",
              "  \n",
              "          ...,\n",
              "  \n",
              "          [[2.79151529e-01, 1.04613259e-01, 2.34658383e-02],\n",
              "           [2.72908211e-01, 9.85184237e-02, 1.69255249e-02],\n",
              "           [2.69347399e-01, 9.68244821e-02, 1.52312638e-02],\n",
              "           ...,\n",
              "           [7.84517229e-01, 6.08046651e-01, 4.47328776e-01],\n",
              "           [8.08168769e-01, 6.31698191e-01, 4.67867643e-01],\n",
              "           [8.27868700e-01, 6.51398122e-01, 4.87567544e-01]],\n",
              "  \n",
              "          [[2.75976390e-01, 9.61094275e-02, 6.96375174e-03],\n",
              "           [2.73117989e-01, 9.53661725e-02, 1.04507944e-02],\n",
              "           [2.71469891e-01, 9.54457447e-02, 1.29439887e-02],\n",
              "           ...,\n",
              "           [8.16049874e-01, 6.39579237e-01, 4.78794992e-01],\n",
              "           [8.24861467e-01, 6.48390889e-01, 4.83684987e-01],\n",
              "           [8.22195649e-01, 6.45725071e-01, 4.81019229e-01]],\n",
              "  \n",
              "          [[2.88718224e-01, 1.08326070e-01, 1.81299914e-02],\n",
              "           [2.83307225e-01, 1.05357274e-01, 2.00456474e-02],\n",
              "           [2.81679034e-01, 1.05654895e-01, 2.31531393e-02],\n",
              "           ...,\n",
              "           [8.04032803e-01, 6.27562225e-01, 4.66777921e-01],\n",
              "           [8.02999020e-01, 6.26528442e-01, 4.61822569e-01],\n",
              "           [7.81543493e-01, 6.05072916e-01, 4.40367043e-01]]],\n",
              "  \n",
              "  \n",
              "         [[[3.24364126e-01, 2.08129525e-01, 6.02390990e-02],\n",
              "           [2.85112798e-01, 1.58186421e-01, 3.01664434e-02],\n",
              "           [2.73015469e-01, 1.54867575e-01, 2.36963481e-02],\n",
              "           ...,\n",
              "           [5.31613350e-01, 4.50100750e-01, 4.08924282e-01],\n",
              "           [5.29526412e-01, 4.38613802e-01, 4.07459468e-01],\n",
              "           [5.34926593e-01, 4.43890184e-01, 4.12797719e-01]],\n",
              "  \n",
              "          [[3.72946054e-01, 2.21371055e-01, 5.01350574e-02],\n",
              "           [3.77340943e-01, 2.27023929e-01, 7.14879632e-02],\n",
              "           [3.63221526e-01, 2.21764952e-01, 6.63027689e-02],\n",
              "           ...,\n",
              "           [5.39107680e-01, 5.46950817e-01, 4.64597851e-01],\n",
              "           [4.45165694e-01, 4.53008831e-01, 3.70655894e-01],\n",
              "           [5.37154198e-01, 5.46363413e-01, 4.64010477e-01]],\n",
              "  \n",
              "          [[4.55759197e-01, 2.90957004e-01, 1.02464125e-01],\n",
              "           [3.79348606e-01, 2.07896277e-01, 5.44242710e-02],\n",
              "           [3.77941817e-01, 2.05471590e-01, 6.83736131e-02],\n",
              "           ...,\n",
              "           [5.13042390e-01, 5.24807096e-01, 4.42454129e-01],\n",
              "           [5.62329352e-01, 5.74094057e-01, 4.91741091e-01],\n",
              "           [5.14377177e-01, 5.26141882e-01, 4.43788916e-01]],\n",
              "  \n",
              "          ...,\n",
              "  \n",
              "          [[2.77795166e-01, 2.73873597e-01, 3.05246145e-01],\n",
              "           [2.85959870e-01, 2.80941337e-01, 3.13398808e-01],\n",
              "           [2.87777632e-01, 2.79654205e-01, 3.23685527e-01],\n",
              "           ...,\n",
              "           [1.72622785e-01, 1.21642396e-01, 8.63482729e-02],\n",
              "           [2.11236820e-01, 1.60256431e-01, 1.24962308e-01],\n",
              "           [1.53692469e-01, 1.02712072e-01, 6.74179494e-02]],\n",
              "  \n",
              "          [[2.03803882e-01, 1.91846594e-01, 2.26948142e-01],\n",
              "           [1.73008025e-01, 1.53400183e-01, 1.76929593e-01],\n",
              "           [2.40394145e-01, 2.20786303e-01, 2.44315714e-01],\n",
              "           ...,\n",
              "           [1.38375551e-01, 9.91598666e-02, 6.38657510e-02],\n",
              "           [1.57809198e-01, 1.18593499e-01, 8.32993835e-02],\n",
              "           [1.19899198e-01, 8.06835070e-02, 4.53893915e-02]],\n",
              "  \n",
              "          [[2.88798362e-01, 2.82691479e-01, 3.24719906e-01],\n",
              "           [1.75204203e-01, 1.63439497e-01, 1.90890476e-01],\n",
              "           [1.82357460e-01, 1.61786735e-01, 1.85797587e-01],\n",
              "           ...,\n",
              "           [2.04046652e-01, 1.53066248e-01, 1.21693708e-01],\n",
              "           [2.61716634e-01, 2.10736245e-01, 1.79363698e-01],\n",
              "           [2.22989902e-01, 1.72009513e-01, 1.40636966e-01]]],\n",
              "  \n",
              "  \n",
              "         ...,\n",
              "  \n",
              "  \n",
              "         [[[3.10749304e-03, 8.31670165e-02, 1.76470593e-01],\n",
              "           [8.65721237e-03, 9.49317291e-02, 1.89049363e-01],\n",
              "           [0.00000000e+00, 8.45938399e-02, 1.84683874e-01],\n",
              "           ...,\n",
              "           [1.21547930e-01, 1.67200223e-01, 2.04270363e-01],\n",
              "           [1.18461140e-01, 1.69441521e-01, 2.04735637e-01],\n",
              "           [9.69190374e-02, 1.43977866e-01, 1.91036686e-01]],\n",
              "  \n",
              "          [[2.17712088e-03, 8.84516314e-02, 1.82569265e-01],\n",
              "           [3.92156886e-03, 9.80392173e-02, 1.92156866e-01],\n",
              "           [3.63645307e-03, 9.10314173e-02, 1.95233092e-01],\n",
              "           ...,\n",
              "           [1.21769547e-01, 1.76671505e-01, 2.11965635e-01],\n",
              "           [1.22129194e-01, 1.77031159e-01, 2.12325275e-01],\n",
              "           [8.90759006e-02, 1.43977866e-01, 1.87115118e-01]],\n",
              "  \n",
              "          [[0.00000000e+00, 9.80392173e-02, 1.96078435e-01],\n",
              "           [7.69432681e-03, 1.01811975e-01, 1.97050050e-01],\n",
              "           [1.48810592e-04, 9.42664593e-02, 1.96227252e-01],\n",
              "           ...,\n",
              "           [1.21071339e-01, 1.82697222e-01, 2.20232651e-01],\n",
              "           [1.25639021e-01, 1.80540979e-01, 2.15835094e-01],\n",
              "           [9.57988650e-02, 1.50700822e-01, 1.93838075e-01]],\n",
              "  \n",
              "          ...,\n",
              "  \n",
              "          [[7.84462631e-01, 5.76619446e-01, 6.07991993e-01],\n",
              "           [7.87823975e-01, 5.68216145e-01, 6.03510261e-01],\n",
              "           [7.67074406e-01, 5.42857170e-01, 5.88299096e-01],\n",
              "           ...,\n",
              "           [9.85047780e-03, 8.32117423e-02, 1.54472560e-01],\n",
              "           [3.77269066e-03, 7.48075619e-02, 1.53090060e-01],\n",
              "           [0.00000000e+00, 7.08859935e-02, 1.49168491e-01]],\n",
              "  \n",
              "          [[7.65403688e-01, 5.57560563e-01, 5.88933110e-01],\n",
              "           [7.64283240e-01, 5.45309305e-01, 5.84048331e-01],\n",
              "           [7.53786445e-01, 5.45309305e-01, 5.86426854e-01],\n",
              "           ...,\n",
              "           [1.68026192e-03, 7.96262100e-02, 1.54170439e-01],\n",
              "           [0.00000000e+00, 6.91090301e-02, 1.44581988e-01],\n",
              "           [0.00000000e+00, 7.10107610e-02, 1.45004526e-01]],\n",
              "  \n",
              "          [[7.47540176e-01, 5.39697051e-01, 5.71069598e-01],\n",
              "           [7.46609867e-01, 5.38766742e-01, 5.77982426e-01],\n",
              "           [7.41123855e-01, 5.43417335e-01, 5.87368667e-01],\n",
              "           ...,\n",
              "           [2.02905177e-03, 7.20998570e-02, 1.48089111e-01],\n",
              "           [8.14041414e-04, 6.74807057e-02, 1.38068944e-01],\n",
              "           [1.12017465e-03, 7.56299794e-02, 1.42296642e-01]]],\n",
              "  \n",
              "  \n",
              "         [[[6.27451017e-02, 5.09803928e-02, 3.13725509e-02],\n",
              "           [6.27451017e-02, 5.09803928e-02, 3.13725509e-02],\n",
              "           [6.47533983e-02, 5.29886968e-02, 3.33808511e-02],\n",
              "           ...,\n",
              "           [9.76890773e-02, 8.20028037e-02, 7.02380985e-02],\n",
              "           [9.52657610e-02, 7.95794874e-02, 6.78147748e-02],\n",
              "           [9.76890773e-02, 7.80812353e-02, 6.63165301e-02]],\n",
              "  \n",
              "          [[5.98739460e-02, 4.81092408e-02, 2.85013989e-02],\n",
              "           [6.27451017e-02, 5.09803928e-02, 3.13725509e-02],\n",
              "           [6.61789700e-02, 5.44142649e-02, 3.48064229e-02],\n",
              "           ...,\n",
              "           [9.93721038e-02, 7.97642544e-02, 6.79995492e-02],\n",
              "           [9.53783244e-02, 7.57704824e-02, 6.40057698e-02],\n",
              "           [9.80392173e-02, 7.84313753e-02, 6.66666701e-02]],\n",
              "  \n",
              "          [[6.27451017e-02, 4.70588244e-02, 3.52941193e-02],\n",
              "           [6.54786974e-02, 5.37139848e-02, 3.41061428e-02],\n",
              "           [6.55037016e-02, 5.37389927e-02, 3.41311507e-02],\n",
              "           ...,\n",
              "           [1.11624442e-01, 8.02518949e-02, 7.24087581e-02],\n",
              "           [1.07143030e-01, 7.57704824e-02, 6.79273382e-02],\n",
              "           [9.21794474e-02, 7.25715980e-02, 6.08069003e-02]],\n",
              "  \n",
              "          ...,\n",
              "  \n",
              "          [[5.68856187e-02, 4.18063104e-02, 2.57006902e-02],\n",
              "           [5.18215485e-02, 4.26466465e-02, 2.65410263e-02],\n",
              "           [6.13595136e-02, 5.74379452e-02, 3.95812131e-02],\n",
              "           ...,\n",
              "           [1.23311289e-01, 1.00680649e-01, 8.77530798e-02],\n",
              "           [2.41911665e-01, 2.10539117e-01, 2.00525522e-01],\n",
              "           [1.37138069e-01, 9.98611748e-02, 8.71400610e-02]],\n",
              "  \n",
              "          [[5.11901341e-02, 3.83184031e-02, 2.56155152e-02],\n",
              "           [6.02937751e-02, 4.85290661e-02, 2.89212242e-02],\n",
              "           [5.53174503e-02, 4.77544218e-02, 2.81465780e-02],\n",
              "           ...,\n",
              "           [1.12373590e-01, 8.71552825e-02, 8.77182558e-02],\n",
              "           [1.27133310e-01, 1.24637678e-01, 1.10084206e-01],\n",
              "           [1.23039693e-01, 9.33483616e-02, 8.50849226e-02]],\n",
              "  \n",
              "          [[5.15454039e-02, 4.63633314e-02, 3.10972240e-02],\n",
              "           [5.18904813e-02, 4.01257761e-02, 2.05179323e-02],\n",
              "           [5.58370836e-02, 4.82740588e-02, 2.86662132e-02],\n",
              "           ...,\n",
              "           [1.20685846e-01, 8.93132985e-02, 8.12824145e-02],\n",
              "           [2.18106046e-01, 2.18692794e-01, 2.00696036e-01],\n",
              "           [1.39431149e-01, 1.20281167e-01, 1.04940087e-01]]],\n",
              "  \n",
              "  \n",
              "         [[[3.92156886e-03, 3.92156886e-03, 3.92156886e-03],\n",
              "           [3.92156886e-03, 3.92156886e-03, 3.92156886e-03],\n",
              "           [3.92156886e-03, 3.92156886e-03, 3.92156886e-03],\n",
              "           ...,\n",
              "           [7.29411781e-01, 7.33333349e-01, 7.13725507e-01],\n",
              "           [7.42160797e-01, 7.46082366e-01, 7.26474524e-01],\n",
              "           [7.51190484e-01, 7.55112052e-01, 7.35504210e-01]],\n",
              "  \n",
              "          [[3.92156886e-03, 3.92156886e-03, 3.92156886e-03],\n",
              "           [3.92156886e-03, 3.92156886e-03, 3.92156886e-03],\n",
              "           [3.92156886e-03, 3.92156886e-03, 3.92156886e-03],\n",
              "           ...,\n",
              "           [7.32002854e-01, 7.28081286e-01, 7.12395012e-01],\n",
              "           [7.40406275e-01, 7.36484706e-01, 7.20798433e-01],\n",
              "           [7.46358514e-01, 7.42436945e-01, 7.26750672e-01]],\n",
              "  \n",
              "          [[3.92156886e-03, 3.92156886e-03, 3.92156886e-03],\n",
              "           [3.92156886e-03, 3.92156886e-03, 3.92156886e-03],\n",
              "           [3.92156886e-03, 3.92156886e-03, 3.92156886e-03],\n",
              "           ...,\n",
              "           [7.18837559e-01, 7.14915991e-01, 6.99229717e-01],\n",
              "           [7.22759128e-01, 7.18837559e-01, 7.03151286e-01],\n",
              "           [7.22759128e-01, 7.18837559e-01, 7.03151286e-01]],\n",
              "  \n",
              "          ...,\n",
              "  \n",
              "          [[3.92156886e-03, 3.92156886e-03, 3.92156886e-03],\n",
              "           [3.92156886e-03, 3.92156886e-03, 3.92156886e-03],\n",
              "           [3.92156886e-03, 3.92156886e-03, 3.92156886e-03],\n",
              "           ...,\n",
              "           [3.56372535e-01, 2.65406221e-01, 1.46148324e-01],\n",
              "           [4.04113352e-01, 3.13917279e-01, 1.92348644e-01],\n",
              "           [4.52591002e-01, 3.62394929e-01, 2.40826294e-01]],\n",
              "  \n",
              "          [[3.92156886e-03, 3.92156886e-03, 3.92156886e-03],\n",
              "           [3.92156886e-03, 3.92156886e-03, 3.92156886e-03],\n",
              "           [3.92156886e-03, 3.92156886e-03, 3.92156886e-03],\n",
              "           ...,\n",
              "           [3.53781790e-01, 2.62815475e-01, 1.43557563e-01],\n",
              "           [4.07563567e-01, 3.17367494e-01, 1.95798859e-01],\n",
              "           [4.58753288e-01, 3.68557215e-01, 2.46988580e-01]],\n",
              "  \n",
              "          [[3.92156886e-03, 3.92156886e-03, 3.92156886e-03],\n",
              "           [3.92156886e-03, 3.92156886e-03, 3.92156886e-03],\n",
              "           [3.92156886e-03, 3.92156886e-03, 3.92156886e-03],\n",
              "           ...,\n",
              "           [3.48033100e-01, 2.57066786e-01, 1.37808904e-01],\n",
              "           [3.95378560e-01, 3.05182487e-01, 1.83613852e-01],\n",
              "           [4.40967351e-01, 3.50771278e-01, 2.29202658e-01]]]],\n",
              "        dtype=float32), array([[0., 0., 0., 0., 0., 0., 0., 0., 1.],\n",
              "         [0., 0., 0., 0., 0., 0., 1., 0., 0.],\n",
              "         [0., 0., 0., 0., 0., 0., 1., 0., 0.],\n",
              "         [1., 0., 0., 0., 0., 0., 0., 0., 0.],\n",
              "         [0., 0., 0., 0., 0., 1., 0., 0., 0.],\n",
              "         [0., 0., 1., 0., 0., 0., 0., 0., 0.],\n",
              "         [0., 0., 0., 0., 0., 0., 0., 0., 1.],\n",
              "         [0., 0., 1., 0., 0., 0., 0., 0., 0.],\n",
              "         [0., 0., 1., 0., 0., 0., 0., 0., 0.],\n",
              "         [0., 0., 0., 0., 0., 0., 1., 0., 0.],\n",
              "         [0., 0., 0., 0., 0., 0., 0., 0., 1.],\n",
              "         [1., 0., 0., 0., 0., 0., 0., 0., 0.],\n",
              "         [0., 0., 0., 0., 0., 0., 1., 0., 0.],\n",
              "         [0., 0., 0., 0., 0., 1., 0., 0., 0.],\n",
              "         [0., 0., 0., 0., 0., 0., 0., 1., 0.],\n",
              "         [0., 0., 0., 1., 0., 0., 0., 0., 0.],\n",
              "         [1., 0., 0., 0., 0., 0., 0., 0., 0.],\n",
              "         [0., 0., 0., 0., 0., 0., 0., 0., 1.],\n",
              "         [0., 0., 1., 0., 0., 0., 0., 0., 0.],\n",
              "         [0., 0., 0., 0., 0., 1., 0., 0., 0.],\n",
              "         [1., 0., 0., 0., 0., 0., 0., 0., 0.],\n",
              "         [1., 0., 0., 0., 0., 0., 0., 0., 0.],\n",
              "         [0., 0., 0., 0., 0., 0., 0., 0., 1.],\n",
              "         [0., 0., 0., 0., 0., 1., 0., 0., 0.],\n",
              "         [0., 1., 0., 0., 0., 0., 0., 0., 0.],\n",
              "         [0., 0., 0., 0., 0., 0., 0., 0., 1.],\n",
              "         [0., 0., 1., 0., 0., 0., 0., 0., 0.],\n",
              "         [0., 0., 0., 1., 0., 0., 0., 0., 0.],\n",
              "         [0., 0., 0., 1., 0., 0., 0., 0., 0.],\n",
              "         [0., 0., 0., 0., 0., 0., 0., 1., 0.],\n",
              "         [0., 0., 0., 0., 0., 1., 0., 0., 0.],\n",
              "         [0., 0., 0., 0., 0., 1., 0., 0., 0.]], dtype=float32))]"
            ]
          },
          "metadata": {},
          "execution_count": 9
        }
      ],
      "source": [
        "dat = train_data.take(1)\n",
        "list(dat.as_numpy_iterator())"
      ]
    },
    {
      "cell_type": "code",
      "execution_count": null,
      "metadata": {
        "id": "rObPZre8aD4n"
      },
      "outputs": [],
      "source": [
        "# Make augmentation layer\n",
        "\n",
        "augmentation_layer = tf.keras.models.Sequential([\n",
        "    tf.keras.layers.RandomFlip(\"horizontal\"),\n",
        "    tf.keras.layers.RandomRotation(1),\n",
        "    tf.keras.layers.RandomZoom(0.2),\n",
        "    tf.keras.layers.RandomContrast(0.2),\n",
        "    tf.keras.layers.RandomCrop(200, 200)\n",
        "], name=\"augmentation_layer\")"
      ]
    },
    {
      "cell_type": "code",
      "execution_count": null,
      "metadata": {
        "id": "bIdAOqtGb_v2"
      },
      "outputs": [],
      "source": [
        "import matplotlib.pyplot as plt\n",
        "import random"
      ]
    },
    {
      "cell_type": "code",
      "execution_count": null,
      "metadata": {
        "colab": {
          "base_uri": "https://localhost:8080/",
          "height": 222
        },
        "id": "PWzBMKn_bkxR",
        "outputId": "ffc0900a-4e3f-4b17-d304-fa8dfeb1b1a3"
      },
      "outputs": [
        {
          "output_type": "execute_result",
          "data": {
            "text/plain": [
              "<matplotlib.image.AxesImage at 0x7f6f27d50950>"
            ]
          },
          "metadata": {},
          "execution_count": 12
        },
        {
          "output_type": "display_data",
          "data": {
            "text/plain": [
              "<Figure size 432x288 with 2 Axes>"
            ],
            "image/png": "[encoded data removed]"
          },
          "metadata": {
            "needs_background": "light"
          }
        }
      ],
      "source": [
        "image = list(dat.as_numpy_iterator())[0][0][random.randint(0, 31)]\n",
        "augmented_image = augmentation_layer(image)\n",
        "plt.subplot(1, 2, 1)\n",
        "plt.imshow(image)\n",
        "plt.subplot(1, 2, 2)\n",
        "plt.imshow(augmented_image)"
      ]
    },
    {
      "cell_type": "code",
      "execution_count": null,
      "metadata": {
        "id": "j9T1gDwiethR"
      },
      "outputs": [],
      "source": [
        "from tensorflow.keras import layers, Model"
      ]
    },
    {
      "cell_type": "code",
      "execution_count": null,
      "metadata": {
        "colab": {
          "base_uri": "https://localhost:8080/"
        },
        "id": "IdfutRhOcUBo",
        "outputId": "6dd9f5d6-d411-4364-a25f-61c6e3932de4"
      },
      "outputs": [
        {
          "output_type": "stream",
          "name": "stdout",
          "text": [
            "WARNING:tensorflow:Model was constructed with shape (224, 224, 3) for input KerasTensor(type_spec=TensorSpec(shape=(224, 224, 3), dtype=tf.float32, name='random_flip_input'), name='random_flip_input', description=\"created by layer 'random_flip_input'\"), but it was called on an input with incompatible shape (None, 224, 224, 3).\n"
          ]
        }
      ],
      "source": [
        "inputs = layers.Input(shape=(224, 224, 3), name=\"input_layer\")\n",
        "aug_layer = augmentation_layer(inputs)\n",
        "conv_1 = layers.Conv2D(10, 3, activation=\"relu\")(aug_layer)\n",
        "conv_2 = layers.Conv2D(10, 3, activation=\"relu\")(conv_1)\n",
        "max_1 = layers.MaxPool2D(2)(conv_2)\n",
        "conv_3 = layers.Conv2D(10, 3, activation=\"relu\")(max_1)\n",
        "conv_4 = layers.Conv2D(10, 3, activation=\"relu\")(conv_3)\n",
        "max_2 = layers.MaxPool2D(2)(conv_4)\n",
        "flat_layer = layers.Flatten()(max_2)\n",
        "outputs = layers.Dense(9, activation=\"softmax\")(flat_layer)\n",
        "model_1 = Model(inputs, outputs)"
      ]
    },
    {
      "cell_type": "code",
      "execution_count": null,
      "metadata": {
        "colab": {
          "base_uri": "https://localhost:8080/"
        },
        "id": "Qe77ezRHgNX0",
        "outputId": "48f150c7-8810-4baf-d48e-5507835b858e"
      },
      "outputs": [
        {
          "output_type": "stream",
          "name": "stdout",
          "text": [
            "Model: \"model\"\n",
            "_________________________________________________________________\n",
            " Layer (type)                Output Shape              Param #   \n",
            "=================================================================\n",
            " input_layer (InputLayer)    [(None, 224, 224, 3)]     0         \n",
            "                                                                 \n",
            " augmentation_layer (Sequent  (200, 200, 3)            0         \n",
            " ial)                                                            \n",
            "                                                                 \n",
            " conv2d_4 (Conv2D)           (None, 198, 198, 10)      280       \n",
            "                                                                 \n",
            " conv2d_5 (Conv2D)           (None, 196, 196, 10)      910       \n",
            "                                                                 \n",
            " max_pooling2d_2 (MaxPooling  (None, 98, 98, 10)       0         \n",
            " 2D)                                                             \n",
            "                                                                 \n",
            " conv2d_6 (Conv2D)           (None, 96, 96, 10)        910       \n",
            "                                                                 \n",
            " conv2d_7 (Conv2D)           (None, 94, 94, 10)        910       \n",
            "                                                                 \n",
            " max_pooling2d_3 (MaxPooling  (None, 47, 47, 10)       0         \n",
            " 2D)                                                             \n",
            "                                                                 \n",
            " flatten_1 (Flatten)         (None, 22090)             0         \n",
            "                                                                 \n",
            " dense_1 (Dense)             (None, 9)                 198819    \n",
            "                                                                 \n",
            "=================================================================\n",
            "Total params: 201,829\n",
            "Trainable params: 201,829\n",
            "Non-trainable params: 0\n",
            "_________________________________________________________________\n"
          ]
        }
      ],
      "source": [
        "model_1.summary()"
      ]
    },
    {
      "cell_type": "code",
      "execution_count": null,
      "metadata": {
        "colab": {
          "base_uri": "https://localhost:8080/"
        },
        "id": "dq2KXteugPTy",
        "outputId": "f19e509f-79a2-4d59-93c3-c445a46b6f1a"
      },
      "outputs": [
        {
          "output_type": "stream",
          "name": "stdout",
          "text": [
            "Model: \"sequential\"\n",
            "_________________________________________________________________\n",
            " Layer (type)                Output Shape              Param #   \n",
            "=================================================================\n",
            " conv2d (Conv2D)             (None, 222, 222, 10)      280       \n",
            "                                                                 \n",
            " conv2d_1 (Conv2D)           (None, 220, 220, 10)      910       \n",
            "                                                                 \n",
            " max_pooling2d (MaxPooling2D  (None, 110, 110, 10)     0         \n",
            " )                                                               \n",
            "                                                                 \n",
            " conv2d_2 (Conv2D)           (None, 108, 108, 10)      910       \n",
            "                                                                 \n",
            " conv2d_3 (Conv2D)           (None, 106, 106, 10)      910       \n",
            "                                                                 \n",
            " max_pooling2d_1 (MaxPooling  (None, 53, 53, 10)       0         \n",
            " 2D)                                                             \n",
            "                                                                 \n",
            " flatten (Flatten)           (None, 28090)             0         \n",
            "                                                                 \n",
            " dense (Dense)               (None, 9)                 252819    \n",
            "                                                                 \n",
            "=================================================================\n",
            "Total params: 255,829\n",
            "Trainable params: 255,829\n",
            "Non-trainable params: 0\n",
            "_________________________________________________________________\n"
          ]
        }
      ],
      "source": [
        "baseline_model.summary()"
      ]
    },
    {
      "cell_type": "code",
      "execution_count": null,
      "metadata": {
        "colab": {
          "base_uri": "https://localhost:8080/"
        },
        "id": "mGt117Wffy5u",
        "outputId": "0f816d55-3f6a-4d10-89cf-7ebc14a1820c"
      },
      "outputs": [
        {
          "output_type": "stream",
          "name": "stdout",
          "text": [
            "Epoch 1/5\n",
            "WARNING:tensorflow:Model was constructed with shape (224, 224, 3) for input KerasTensor(type_spec=TensorSpec(shape=(224, 224, 3), dtype=tf.float32, name='random_flip_input'), name='random_flip_input', description=\"created by layer 'random_flip_input'\"), but it was called on an input with incompatible shape (None, 224, 224, 3).\n",
            "WARNING:tensorflow:Model was constructed with shape (224, 224, 3) for input KerasTensor(type_spec=TensorSpec(shape=(224, 224, 3), dtype=tf.float32, name='random_flip_input'), name='random_flip_input', description=\"created by layer 'random_flip_input'\"), but it was called on an input with incompatible shape (None, 224, 224, 3).\n",
            "49/49 [==============================] - ETA: 0s - loss: 2.2205 - accuracy: 0.2080WARNING:tensorflow:Model was constructed with shape (224, 224, 3) for input KerasTensor(type_spec=TensorSpec(shape=(224, 224, 3), dtype=tf.float32, name='random_flip_input'), name='random_flip_input', description=\"created by layer 'random_flip_input'\"), but it was called on an input with incompatible shape (None, 224, 224, 3).\n",
            "49/49 [==============================] - 15s 238ms/step - loss: 2.2205 - accuracy: 0.2080 - val_loss: 2.0973 - val_accuracy: 0.2025\n",
            "Epoch 2/5\n",
            "49/49 [==============================] - 14s 262ms/step - loss: 1.9065 - accuracy: 0.2913 - val_loss: 1.8775 - val_accuracy: 0.3013\n",
            "Epoch 3/5\n",
            "49/49 [==============================] - 13s 234ms/step - loss: 1.7565 - accuracy: 0.3450 - val_loss: 1.7647 - val_accuracy: 0.3241\n",
            "Epoch 4/5\n",
            "49/49 [==============================] - 12s 232ms/step - loss: 1.7081 - accuracy: 0.3702 - val_loss: 1.7759 - val_accuracy: 0.3392\n",
            "Epoch 5/5\n",
            "49/49 [==============================] - 13s 245ms/step - loss: 1.6858 - accuracy: 0.3650 - val_loss: 1.7294 - val_accuracy: 0.3494\n"
          ]
        }
      ],
      "source": [
        "model_1.compile(loss=\"categorical_crossentropy\",\n",
        "                optimizer=tf.keras.optimizers.Adam(),\n",
        "                metrics=[\"accuracy\"])\n",
        "\n",
        "history_1 = model_1.fit(train_data,\n",
        "                        validation_data=test_data,\n",
        "                        epochs=5)"
      ]
    },
    {
      "cell_type": "code",
      "execution_count": null,
      "metadata": {
        "colab": {
          "base_uri": "https://localhost:8080/"
        },
        "id": "Usaz3t4Mgf3x",
        "outputId": "4a8d75fa-15dd-4859-e5a0-aa5d1ac916d3"
      },
      "outputs": [
        {
          "output_type": "stream",
          "name": "stdout",
          "text": [
            "13/13 [==============================] - 2s 180ms/step - loss: 1.7294 - accuracy: 0.3494\n"
          ]
        },
        {
          "output_type": "execute_result",
          "data": {
            "text/plain": [
              "[1.7294341325759888, 0.34936708211898804]"
            ]
          },
          "metadata": {},
          "execution_count": 18
        }
      ],
      "source": [
        "model_1.evaluate(test_data)"
      ]
    },
    {
      "cell_type": "code",
      "execution_count": null,
      "metadata": {
        "id": "siJzzjZXhXY6"
      },
      "outputs": [],
      "source": [
        "test_dat = train_data.take(1)\n",
        "test_dat = list(test_dat.as_numpy_iterator())"
      ]
    },
    {
      "cell_type": "code",
      "execution_count": null,
      "metadata": {
        "id": "TMbIa5KKg2NG"
      },
      "outputs": [],
      "source": [
        "def predict_and_plot():\n",
        "\n",
        "  image = test_dat[0][0][random.randint(0, 31)]\n",
        "  print(type(image))\n",
        "  \n",
        "  model_1.predict(tf.expand_dims(image, 0))\n",
        "  plt.imshow(image)"
      ]
    },
    {
      "cell_type": "code",
      "execution_count": null,
      "metadata": {
        "colab": {
          "base_uri": "https://localhost:8080/"
        },
        "id": "QG-OQXQ4hhHL",
        "outputId": "a7c5dae5-ab5e-4440-93e3-bd6e8744862e"
      },
      "outputs": [
        {
          "output_type": "stream",
          "name": "stdout",
          "text": [
            "WARNING:tensorflow:Model was constructed with shape (224, 224, 3) for input KerasTensor(type_spec=TensorSpec(shape=(224, 224, 3), dtype=tf.float32, name='random_flip_input'), name='random_flip_input', description=\"created by layer 'random_flip_input'\"), but it was called on an input with incompatible shape (None, 224, 224, 3).\n",
            "13/13 [==============================] - 3s 178ms/step\n"
          ]
        }
      ],
      "source": [
        "pred_probs = model_1.predict(test_data, verbose=1)"
      ]
    },
    {
      "cell_type": "code",
      "execution_count": null,
      "metadata": {
        "colab": {
          "base_uri": "https://localhost:8080/"
        },
        "id": "5a5g3vkshiav",
        "outputId": "44501e32-6c5a-4b66-eeb0-aa317e55efde"
      },
      "outputs": [
        {
          "output_type": "execute_result",
          "data": {
            "text/plain": [
              "(395, 9)"
            ]
          },
          "metadata": {},
          "execution_count": 22
        }
      ],
      "source": [
        "pred_probs.shape"
      ]
    },
    {
      "cell_type": "code",
      "execution_count": null,
      "metadata": {
        "colab": {
          "base_uri": "https://localhost:8080/"
        },
        "id": "gcw6oGcEjYLl",
        "outputId": "2c7279d1-2abc-42b5-db4d-df772a4a8a66"
      },
      "outputs": [
        {
          "output_type": "execute_result",
          "data": {
            "text/plain": [
              "array([2, 8, 6, 5, 8, 8, 2, 5, 2, 7, 2, 5, 8, 8, 2, 6, 2, 5, 5, 0, 6, 0,\n",
              "       5, 2, 5, 5, 5, 8, 5, 5, 2, 8, 8, 1, 5, 5, 8, 8, 6, 1, 6, 1, 7, 8,\n",
              "       1, 8, 8, 7, 1, 6, 6, 6, 8, 8, 8, 8, 1, 1, 1, 1, 1, 1, 8, 7, 0, 1,\n",
              "       6, 6, 0, 6, 2, 8, 7, 2, 5, 2, 6, 2, 2, 2, 5, 6, 0, 2, 2, 6, 2, 6,\n",
              "       6, 2, 7, 2, 5, 2, 2, 3, 2, 2, 2, 2, 8, 2, 5, 8, 5, 2, 2, 6, 2, 2,\n",
              "       2, 5, 2, 2, 6, 2, 2, 6, 8, 2, 2, 2, 1, 2, 1, 2, 6, 1, 0, 8, 2, 1,\n",
              "       8, 2, 8, 8, 8, 8, 8, 2, 2, 8, 2, 2, 6, 2, 8, 2, 8, 1, 1, 1, 6, 1,\n",
              "       7, 8, 1, 8, 1, 8, 2, 8, 8, 8, 3, 8, 5, 5, 5, 5, 2, 5, 5, 2, 5, 5,\n",
              "       5, 2, 2, 5, 5, 5, 2, 2, 2, 5, 5, 5, 5, 2, 2, 5, 2, 5, 5, 5, 6, 2,\n",
              "       2, 2, 5, 5, 6, 5, 2, 7, 5, 2, 2, 2, 5, 5, 5, 2, 5, 5, 2, 2, 5, 5,\n",
              "       5, 8, 2, 5, 5, 5, 2, 5, 5, 5, 5, 6, 5, 5, 5, 2, 5, 2, 5, 5, 6, 5,\n",
              "       5, 2, 2, 2, 8, 5, 5, 5, 2, 5, 5, 6, 5, 5, 2, 6, 1, 5, 5, 5, 2, 2,\n",
              "       5, 5, 6, 6, 6, 0, 6, 2, 5, 5, 2, 5, 5, 5, 6, 7, 6, 5, 6, 2, 0, 5,\n",
              "       2, 5, 6, 5, 5, 8, 5, 5, 8, 2, 2, 5, 8, 5, 5, 5, 2, 2, 6, 5, 8, 5,\n",
              "       1, 5, 7, 5, 1, 8, 8, 7, 1, 8, 2, 1, 1, 1, 8, 8, 1, 7, 1, 8, 1, 1,\n",
              "       8, 8, 7, 8, 1, 8, 2, 8, 8, 1, 8, 7, 8, 0, 8, 8, 8, 8, 8, 8, 8, 8,\n",
              "       5, 8, 2, 8, 8, 8, 6, 8, 8, 8, 6, 8, 8, 8, 8, 8, 8, 8, 8, 8, 6, 1,\n",
              "       8, 1, 1, 5, 7, 2, 6, 8, 8, 8, 8, 8, 8, 8, 8, 1, 2, 8, 8, 5, 8])"
            ]
          },
          "metadata": {},
          "execution_count": 23
        }
      ],
      "source": [
        "pred_classes = pred_probs.argmax(axis=1)\n",
        "pred_classes"
      ]
    },
    {
      "cell_type": "code",
      "execution_count": null,
      "metadata": {
        "colab": {
          "base_uri": "https://localhost:8080/"
        },
        "id": "d4W7zmk9jfgT",
        "outputId": "98909455-472d-45d9-9e1e-52d12d091951"
      },
      "outputs": [
        {
          "output_type": "execute_result",
          "data": {
            "text/plain": [
              "[0, 0, 0, 0, 0, 0, 0, 0, 0, 0]"
            ]
          },
          "metadata": {},
          "execution_count": 24
        }
      ],
      "source": [
        "y_labels = []\n",
        "for images, labels in test_data.unbatch(): # unbatch the test data and get images and labels\n",
        "  y_labels.append(labels.numpy().argmax()) # append the index which has the largest value (labels are one-hot)\n",
        "y_labels[:10]"
      ]
    },
    {
      "cell_type": "code",
      "execution_count": null,
      "metadata": {
        "colab": {
          "base_uri": "https://localhost:8080/"
        },
        "id": "GvzpFv7-jmJZ",
        "outputId": "058344bf-6de7-4601-df59-a2164b378433"
      },
      "outputs": [
        {
          "output_type": "execute_result",
          "data": {
            "text/plain": [
              "0.3493670886075949"
            ]
          },
          "metadata": {},
          "execution_count": 25
        }
      ],
      "source": [
        "from sklearn.metrics import accuracy_score, classification_report\n",
        "sklearn_accuracy = accuracy_score(y_labels, pred_classes)\n",
        "sklearn_accuracy"
      ]
    },
    {
      "cell_type": "code",
      "execution_count": null,
      "metadata": {
        "id": "QkxPOMh7TkE4"
      },
      "outputs": [],
      "source": [
        "import os"
      ]
    },
    {
      "cell_type": "code",
      "execution_count": null,
      "metadata": {
        "colab": {
          "base_uri": "https://localhost:8080/"
        },
        "id": "EgjZyvCNSovX",
        "outputId": "e97323db-a19f-453e-cb7a-5c3ff7050fee"
      },
      "outputs": [
        {
          "output_type": "execute_result",
          "data": {
            "text/plain": [
              "['chatamari',\n",
              " 'chhoila',\n",
              " 'dalbhat',\n",
              " 'dhindo',\n",
              " 'gundruk',\n",
              " 'kheer',\n",
              " 'momo',\n",
              " 'sekuwa',\n",
              " 'selroti']"
            ]
          },
          "metadata": {},
          "execution_count": 27
        }
      ],
      "source": [
        "labels = sorted(os.listdir('dataset/train'))\n",
        "labels"
      ]
    },
    {
      "cell_type": "code",
      "execution_count": null,
      "metadata": {
        "colab": {
          "base_uri": "https://localhost:8080/"
        },
        "id": "5GdD3-kwjwVd",
        "outputId": "9a9d0e16-b668-40fc-93d6-d485e1fcbc7c"
      },
      "outputs": [
        {
          "output_type": "stream",
          "name": "stdout",
          "text": [
            "              precision    recall  f1-score   support\n",
            "\n",
            "   chatamari       0.22      0.06      0.09        36\n",
            "     chhoila       0.28      0.37      0.32        30\n",
            "     dalbhat       0.29      0.51      0.37        53\n",
            "      dhindo       0.00      0.00      0.00        27\n",
            "     gundruk       0.00      0.00      0.00        20\n",
            "       kheer       0.44      0.60      0.51        73\n",
            "        momo       0.29      0.17      0.22        69\n",
            "      sekuwa       0.33      0.15      0.20        34\n",
            "     selroti       0.39      0.70      0.50        53\n",
            "\n",
            "    accuracy                           0.35       395\n",
            "   macro avg       0.25      0.28      0.25       395\n",
            "weighted avg       0.29      0.35      0.30       395\n",
            "\n"
          ]
        },
        {
          "output_type": "stream",
          "name": "stderr",
          "text": [
            "/usr/local/lib/python3.7/dist-packages/sklearn/metrics/_classification.py:1318: UndefinedMetricWarning: Precision and F-score are ill-defined and being set to 0.0 in labels with no predicted samples. Use `zero_division` parameter to control this behavior.\n",
            "  _warn_prf(average, modifier, msg_start, len(result))\n",
            "/usr/local/lib/python3.7/dist-packages/sklearn/metrics/_classification.py:1318: UndefinedMetricWarning: Precision and F-score are ill-defined and being set to 0.0 in labels with no predicted samples. Use `zero_division` parameter to control this behavior.\n",
            "  _warn_prf(average, modifier, msg_start, len(result))\n",
            "/usr/local/lib/python3.7/dist-packages/sklearn/metrics/_classification.py:1318: UndefinedMetricWarning: Precision and F-score are ill-defined and being set to 0.0 in labels with no predicted samples. Use `zero_division` parameter to control this behavior.\n",
            "  _warn_prf(average, modifier, msg_start, len(result))\n"
          ]
        }
      ],
      "source": [
        "report = classification_report(y_labels, pred_classes, target_names=labels)\n",
        "print(report)"
      ]
    },
    {
      "cell_type": "code",
      "execution_count": null,
      "metadata": {
        "colab": {
          "base_uri": "https://localhost:8080/"
        },
        "id": "xW5I8ym_UOhA",
        "outputId": "9d452fa6-ec2c-4e0f-d055-dac322236e42"
      },
      "outputs": [
        {
          "output_type": "stream",
          "name": "stderr",
          "text": [
            "/usr/local/lib/python3.7/dist-packages/sklearn/metrics/_classification.py:1318: UndefinedMetricWarning: Precision and F-score are ill-defined and being set to 0.0 in labels with no predicted samples. Use `zero_division` parameter to control this behavior.\n",
            "  _warn_prf(average, modifier, msg_start, len(result))\n",
            "/usr/local/lib/python3.7/dist-packages/sklearn/metrics/_classification.py:1318: UndefinedMetricWarning: Precision and F-score are ill-defined and being set to 0.0 in labels with no predicted samples. Use `zero_division` parameter to control this behavior.\n",
            "  _warn_prf(average, modifier, msg_start, len(result))\n",
            "/usr/local/lib/python3.7/dist-packages/sklearn/metrics/_classification.py:1318: UndefinedMetricWarning: Precision and F-score are ill-defined and being set to 0.0 in labels with no predicted samples. Use `zero_division` parameter to control this behavior.\n",
            "  _warn_prf(average, modifier, msg_start, len(result))\n"
          ]
        },
        {
          "output_type": "execute_result",
          "data": {
            "text/plain": [
              "{'accuracy': 0.3493670886075949,\n",
              " 'chatamari': {'f1-score': 0.08888888888888888,\n",
              "  'precision': 0.2222222222222222,\n",
              "  'recall': 0.05555555555555555,\n",
              "  'support': 36},\n",
              " 'chhoila': {'f1-score': 0.31884057971014496,\n",
              "  'precision': 0.28205128205128205,\n",
              "  'recall': 0.36666666666666664,\n",
              "  'support': 30},\n",
              " 'dalbhat': {'f1-score': 0.36986301369863017,\n",
              "  'precision': 0.2903225806451613,\n",
              "  'recall': 0.5094339622641509,\n",
              "  'support': 53},\n",
              " 'dhindo': {'f1-score': 0.0, 'precision': 0.0, 'recall': 0.0, 'support': 27},\n",
              " 'gundruk': {'f1-score': 0.0, 'precision': 0.0, 'recall': 0.0, 'support': 20},\n",
              " 'kheer': {'f1-score': 0.5057471264367815,\n",
              "  'precision': 0.43564356435643564,\n",
              "  'recall': 0.6027397260273972,\n",
              "  'support': 73},\n",
              " 'macro avg': {'f1-score': 0.2450670066188139,\n",
              "  'precision': 0.24952551040535878,\n",
              "  'recall': 0.2837201094520681,\n",
              "  'support': 395},\n",
              " 'momo': {'f1-score': 0.21818181818181817,\n",
              "  'precision': 0.2926829268292683,\n",
              "  'recall': 0.17391304347826086,\n",
              "  'support': 69},\n",
              " 'sekuwa': {'f1-score': 0.20408163265306123,\n",
              "  'precision': 0.3333333333333333,\n",
              "  'recall': 0.14705882352941177,\n",
              "  'support': 34},\n",
              " 'selroti': {'f1-score': 0.5,\n",
              "  'precision': 0.3894736842105263,\n",
              "  'recall': 0.6981132075471698,\n",
              "  'support': 53},\n",
              " 'weighted avg': {'f1-score': 0.2981792868657375,\n",
              "  'precision': 0.2932181670416773,\n",
              "  'recall': 0.3493670886075949,\n",
              "  'support': 395}}"
            ]
          },
          "metadata": {},
          "execution_count": 29
        }
      ],
      "source": [
        "classification_report_dict = classification_report(y_labels, pred_classes, output_dict=True, target_names=labels)\n",
        "classification_report_dict"
      ]
    },
    {
      "cell_type": "code",
      "execution_count": null,
      "metadata": {
        "id": "ZLfUr0_bQqT_"
      },
      "outputs": [],
      "source": [
        "import pandas as pd\n",
        "\n",
        "report_df = pd.DataFrame(classification_report_dict).T"
      ]
    },
    {
      "cell_type": "code",
      "execution_count": null,
      "metadata": {
        "colab": {
          "base_uri": "https://localhost:8080/",
          "height": 426
        },
        "id": "rObRmSwZVlPa",
        "outputId": "4c0b86d7-86f1-4a50-fa33-feb10df0502c"
      },
      "outputs": [
        {
          "output_type": "execute_result",
          "data": {
            "text/plain": [
              "              precision    recall  f1-score     support\n",
              "chatamari      0.222222  0.055556  0.088889   36.000000\n",
              "chhoila        0.282051  0.366667  0.318841   30.000000\n",
              "dalbhat        0.290323  0.509434  0.369863   53.000000\n",
              "dhindo         0.000000  0.000000  0.000000   27.000000\n",
              "gundruk        0.000000  0.000000  0.000000   20.000000\n",
              "kheer          0.435644  0.602740  0.505747   73.000000\n",
              "momo           0.292683  0.173913  0.218182   69.000000\n",
              "sekuwa         0.333333  0.147059  0.204082   34.000000\n",
              "selroti        0.389474  0.698113  0.500000   53.000000\n",
              "accuracy       0.349367  0.349367  0.349367    0.349367\n",
              "macro avg      0.249526  0.283720  0.245067  395.000000\n",
              "weighted avg   0.293218  0.349367  0.298179  395.000000"
            ],
            "text/html": [
              "\n",
              "  <div id=\"df-c71288a1-e317-475e-83de-b2cf2850d52d\">\n",
              "    <div class=\"colab-df-container\">\n",
              "      <div>\n",
              "<style scoped>\n",
              "    .dataframe tbody tr th:only-of-type {\n",
              "        vertical-align: middle;\n",
              "    }\n",
              "\n",
              "    .dataframe tbody tr th {\n",
              "        vertical-align: top;\n",
              "    }\n",
              "\n",
              "    .dataframe thead th {\n",
              "        text-align: right;\n",
              "    }\n",
              "</style>\n",
              "<table border=\"1\" class=\"dataframe\">\n",
              "  <thead>\n",
              "    <tr style=\"text-align: right;\">\n",
              "      <th></th>\n",
              "      <th>precision</th>\n",
              "      <th>recall</th>\n",
              "      <th>f1-score</th>\n",
              "      <th>support</th>\n",
              "    </tr>\n",
              "  </thead>\n",
              "  <tbody>\n",
              "    <tr>\n",
              "      <th>chatamari</th>\n",
              "      <td>0.222222</td>\n",
              "      <td>0.055556</td>\n",
              "      <td>0.088889</td>\n",
              "      <td>36.000000</td>\n",
              "    </tr>\n",
              "    <tr>\n",
              "      <th>chhoila</th>\n",
              "      <td>0.282051</td>\n",
              "      <td>0.366667</td>\n",
              "      <td>0.318841</td>\n",
              "      <td>30.000000</td>\n",
              "    </tr>\n",
              "    <tr>\n",
              "      <th>dalbhat</th>\n",
              "      <td>0.290323</td>\n",
              "      <td>0.509434</td>\n",
              "      <td>0.369863</td>\n",
              "      <td>53.000000</td>\n",
              "    </tr>\n",
              "    <tr>\n",
              "      <th>dhindo</th>\n",
              "      <td>0.000000</td>\n",
              "      <td>0.000000</td>\n",
              "      <td>0.000000</td>\n",
              "      <td>27.000000</td>\n",
              "    </tr>\n",
              "    <tr>\n",
              "      <th>gundruk</th>\n",
              "      <td>0.000000</td>\n",
              "      <td>0.000000</td>\n",
              "      <td>0.000000</td>\n",
              "      <td>20.000000</td>\n",
              "    </tr>\n",
              "    <tr>\n",
              "      <th>kheer</th>\n",
              "      <td>0.435644</td>\n",
              "      <td>0.602740</td>\n",
              "      <td>0.505747</td>\n",
              "      <td>73.000000</td>\n",
              "    </tr>\n",
              "    <tr>\n",
              "      <th>momo</th>\n",
              "      <td>0.292683</td>\n",
              "      <td>0.173913</td>\n",
              "      <td>0.218182</td>\n",
              "      <td>69.000000</td>\n",
              "    </tr>\n",
              "    <tr>\n",
              "      <th>sekuwa</th>\n",
              "      <td>0.333333</td>\n",
              "      <td>0.147059</td>\n",
              "      <td>0.204082</td>\n",
              "      <td>34.000000</td>\n",
              "    </tr>\n",
              "    <tr>\n",
              "      <th>selroti</th>\n",
              "      <td>0.389474</td>\n",
              "      <td>0.698113</td>\n",
              "      <td>0.500000</td>\n",
              "      <td>53.000000</td>\n",
              "    </tr>\n",
              "    <tr>\n",
              "      <th>accuracy</th>\n",
              "      <td>0.349367</td>\n",
              "      <td>0.349367</td>\n",
              "      <td>0.349367</td>\n",
              "      <td>0.349367</td>\n",
              "    </tr>\n",
              "    <tr>\n",
              "      <th>macro avg</th>\n",
              "      <td>0.249526</td>\n",
              "      <td>0.283720</td>\n",
              "      <td>0.245067</td>\n",
              "      <td>395.000000</td>\n",
              "    </tr>\n",
              "    <tr>\n",
              "      <th>weighted avg</th>\n",
              "      <td>0.293218</td>\n",
              "      <td>0.349367</td>\n",
              "      <td>0.298179</td>\n",
              "      <td>395.000000</td>\n",
              "    </tr>\n",
              "  </tbody>\n",
              "</table>\n",
              "</div>\n",
              "      <button class=\"colab-df-convert\" onclick=\"convertToInteractive('df-c71288a1-e317-475e-83de-b2cf2850d52d')\"\n",
              "              title=\"Convert this dataframe to an interactive table.\"\n",
              "              style=\"display:none;\">\n",
              "        \n",
              "  <svg xmlns=\"http://www.w3.org/2000/svg\" height=\"24px\"viewBox=\"0 0 24 24\"\n",
              "       width=\"24px\">\n",
              "    <path d=\"M0 0h24v24H0V0z\" fill=\"none\"/>\n",
              "    <path d=\"M18.56 5.44l.94 2.06.94-2.06 2.06-.94-2.06-.94-.94-2.06-.94 2.06-2.06.94zm-11 1L8.5 8.5l.94-2.06 2.06-.94-2.06-.94L8.5 2.5l-.94 2.06-2.06.94zm10 10l.94 2.06.94-2.06 2.06-.94-2.06-.94-.94-2.06-.94 2.06-2.06.94z\"/><path d=\"M17.41 7.96l-1.37-1.37c-.4-.4-.92-.59-1.43-.59-.52 0-1.04.2-1.43.59L10.3 9.45l-7.72 7.72c-.78.78-.78 2.05 0 2.83L4 21.41c.39.39.9.59 1.41.59.51 0 1.02-.2 1.41-.59l7.78-7.78 2.81-2.81c.8-.78.8-2.07 0-2.86zM5.41 20L4 18.59l7.72-7.72 1.47 1.35L5.41 20z\"/>\n",
              "  </svg>\n",
              "      </button>\n",
              "      \n",
              "  <style>\n",
              "    .colab-df-container {\n",
              "      display:flex;\n",
              "      flex-wrap:wrap;\n",
              "      gap: 12px;\n",
              "    }\n",
              "\n",
              "    .colab-df-convert {\n",
              "      background-color: #E8F0FE;\n",
              "      border: none;\n",
              "      border-radius: 50%;\n",
              "      cursor: pointer;\n",
              "      display: none;\n",
              "      fill: #1967D2;\n",
              "      height: 32px;\n",
              "      padding: 0 0 0 0;\n",
              "      width: 32px;\n",
              "    }\n",
              "\n",
              "    .colab-df-convert:hover {\n",
              "      background-color: #E2EBFA;\n",
              "      box-shadow: 0px 1px 2px rgba(60, 64, 67, 0.3), 0px 1px 3px 1px rgba(60, 64, 67, 0.15);\n",
              "      fill: #174EA6;\n",
              "    }\n",
              "\n",
              "    [theme=dark] .colab-df-convert {\n",
              "      background-color: #3B4455;\n",
              "      fill: #D2E3FC;\n",
              "    }\n",
              "\n",
              "    [theme=dark] .colab-df-convert:hover {\n",
              "      background-color: #434B5C;\n",
              "      box-shadow: 0px 1px 3px 1px rgba(0, 0, 0, 0.15);\n",
              "      filter: drop-shadow(0px 1px 2px rgba(0, 0, 0, 0.3));\n",
              "      fill: #FFFFFF;\n",
              "    }\n",
              "  </style>\n",
              "\n",
              "      <script>\n",
              "        const buttonEl =\n",
              "          document.querySelector('#df-c71288a1-e317-475e-83de-b2cf2850d52d button.colab-df-convert');\n",
              "        buttonEl.style.display =\n",
              "          google.colab.kernel.accessAllowed ? 'block' : 'none';\n",
              "\n",
              "        async function convertToInteractive(key) {\n",
              "          const element = document.querySelector('#df-c71288a1-e317-475e-83de-b2cf2850d52d');\n",
              "          const dataTable =\n",
              "            await google.colab.kernel.invokeFunction('convertToInteractive',\n",
              "                                                     [key], {});\n",
              "          if (!dataTable) return;\n",
              "\n",
              "          const docLinkHtml = 'Like what you see? Visit the ' +\n",
              "            '<a target=\"_blank\" href=https://colab.research.google.com/notebooks/data_table.ipynb>data table notebook</a>'\n",
              "            + ' to learn more about interactive tables.';\n",
              "          element.innerHTML = '';\n",
              "          dataTable['output_type'] = 'display_data';\n",
              "          await google.colab.output.renderOutput(dataTable, element);\n",
              "          const docLink = document.createElement('div');\n",
              "          docLink.innerHTML = docLinkHtml;\n",
              "          element.appendChild(docLink);\n",
              "        }\n",
              "      </script>\n",
              "    </div>\n",
              "  </div>\n",
              "  "
            ]
          },
          "metadata": {},
          "execution_count": 31
        }
      ],
      "source": [
        "report_df"
      ]
    },
    {
      "cell_type": "code",
      "execution_count": null,
      "metadata": {
        "colab": {
          "base_uri": "https://localhost:8080/",
          "height": 516
        },
        "id": "ld0wPmhdSsY3",
        "outputId": "84e25cbf-81a2-4aac-a471-fa9a6435d964"
      },
      "outputs": [
        {
          "output_type": "execute_result",
          "data": {
            "text/plain": [
              "<BarContainer object of 12 artists>"
            ]
          },
          "metadata": {},
          "execution_count": 32
        },
        {
          "output_type": "display_data",
          "data": {
            "text/plain": [
              "<Figure size 1080x720 with 1 Axes>"
            ],
            "image/png": "[encoded data removed]"
          },
          "metadata": {
            "needs_background": "light"
          }
        }
      ],
      "source": [
        "plt.figure(figsize=(15, 10))\n",
        "plt.bar(report_df.index, report_df[\"precision\"].values)"
      ]
    },
    {
      "cell_type": "code",
      "execution_count": null,
      "metadata": {
        "id": "rDhrQ8TBVog0"
      },
      "outputs": [],
      "source": [
        "# Now trying another model without any built in augmentation layer"
      ]
    },
    {
      "cell_type": "code",
      "execution_count": null,
      "metadata": {
        "id": "YA2gw2HEmbUv"
      },
      "outputs": [],
      "source": [
        "from tensorflow.keras.preprocessing.image import ImageDataGenerator"
      ]
    },
    {
      "cell_type": "code",
      "source": [
        "train_gen = ImageDataGenerator(rescale=1/255.,\n",
        "                              rotation_range=20,\n",
        "                              shear_range=0.2,\n",
        "                              zoom_range=0.2,\n",
        "                              width_shift_range=0.2,\n",
        "                              height_shift_range=0.2,\n",
        "                              horizontal_flip=True)\n",
        "\n",
        "test_gen = ImageDataGenerator(rescale=1/255.)"
      ],
      "metadata": {
        "id": "i77DVmgTvC2_"
      },
      "execution_count": null,
      "outputs": []
    },
    {
      "cell_type": "code",
      "source": [
        "train_data = train_gen.flow_from_directory(\"dataset/train/\",\n",
        "                                           target_size=IMG_SIZE)\n",
        "\n",
        "test_data = test_gen.flow_from_directory(\"dataset/test/\",\n",
        "                     target_size=IMG_SIZE,\n",
        "                     shuffle=True)"
      ],
      "metadata": {
        "colab": {
          "base_uri": "https://localhost:8080/"
        },
        "id": "7ou-fZzOwP5a",
        "outputId": "574474d0-2e9f-4a5e-a416-bb6bfd230c43"
      },
      "execution_count": null,
      "outputs": [
        {
          "output_type": "stream",
          "name": "stdout",
          "text": [
            "Found 1548 images belonging to 9 classes.\n",
            "Found 395 images belonging to 9 classes.\n"
          ]
        }
      ]
    },
    {
      "cell_type": "code",
      "source": [
        "model_1.summary()"
      ],
      "metadata": {
        "colab": {
          "base_uri": "https://localhost:8080/"
        },
        "id": "qimAiCL7xgdq",
        "outputId": "73625a20-21f3-4a5f-e030-c6a6788a1dd1"
      },
      "execution_count": null,
      "outputs": [
        {
          "output_type": "stream",
          "name": "stdout",
          "text": [
            "Model: \"model\"\n",
            "_________________________________________________________________\n",
            " Layer (type)                Output Shape              Param #   \n",
            "=================================================================\n",
            " input_layer (InputLayer)    [(None, 224, 224, 3)]     0         \n",
            "                                                                 \n",
            " augmentation_layer (Sequent  (200, 200, 3)            0         \n",
            " ial)                                                            \n",
            "                                                                 \n",
            " conv2d_4 (Conv2D)           (None, 198, 198, 10)      280       \n",
            "                                                                 \n",
            " conv2d_5 (Conv2D)           (None, 196, 196, 10)      910       \n",
            "                                                                 \n",
            " max_pooling2d_2 (MaxPooling  (None, 98, 98, 10)       0         \n",
            " 2D)                                                             \n",
            "                                                                 \n",
            " conv2d_6 (Conv2D)           (None, 96, 96, 10)        910       \n",
            "                                                                 \n",
            " conv2d_7 (Conv2D)           (None, 94, 94, 10)        910       \n",
            "                                                                 \n",
            " max_pooling2d_3 (MaxPooling  (None, 47, 47, 10)       0         \n",
            " 2D)                                                             \n",
            "                                                                 \n",
            " flatten_1 (Flatten)         (None, 22090)             0         \n",
            "                                                                 \n",
            " dense_1 (Dense)             (None, 9)                 198819    \n",
            "                                                                 \n",
            "=================================================================\n",
            "Total params: 201,829\n",
            "Trainable params: 201,829\n",
            "Non-trainable params: 0\n",
            "_________________________________________________________________\n"
          ]
        }
      ]
    },
    {
      "cell_type": "code",
      "source": [
        "# Now modeling new model without built in augmentation layer\n",
        "\n",
        "input = layers.Input(shape=(224, 224, 3), name=\"input_layer\")\n",
        "conv_1 = layers.Conv2D(10, 3, activation=\"relu\")(input)\n",
        "conv_2 = layers.Conv2D(10, 3, activation=\"relu\")(conv_1)\n",
        "max_1 = layers.MaxPool2D(2)(conv_2)\n",
        "conv_3 = layers.Conv2D(10, 3, activation=\"relu\")(max_1)\n",
        "conv_4 = layers.Conv2D(10, 3, activation=\"relu\")(conv_3)\n",
        "max_2 = layers.MaxPool2D(2)(conv_4)\n",
        "flat_layer = layers.Flatten()(max_2)\n",
        "output = layers.Dense(9, activation=\"softmax\")(flat_layer)\n",
        "model_2 = Model(input, output)"
      ],
      "metadata": {
        "id": "mvHNHzGTw_27"
      },
      "execution_count": null,
      "outputs": []
    },
    {
      "cell_type": "code",
      "source": [
        "model_2.compile(loss=\"categorical_crossentropy\",\n",
        "                optimizer=tf.keras.optimizers.Adam(),\n",
        "                metrics=[\"accuracy\"])\n",
        "\n",
        "history_2 = model_2.fit(train_data,\n",
        "              epochs=5,\n",
        "              validation_data=test_data)"
      ],
      "metadata": {
        "colab": {
          "base_uri": "https://localhost:8080/"
        },
        "id": "9CEEwmtvyXi5",
        "outputId": "2518956c-264b-4fc4-e25e-a568373721e7"
      },
      "execution_count": null,
      "outputs": [
        {
          "output_type": "stream",
          "name": "stdout",
          "text": [
            "Epoch 1/5\n",
            "49/49 [==============================] - 63s 1s/step - loss: 1.9755 - accuracy: 0.2707 - val_loss: 1.8502 - val_accuracy: 0.2886\n",
            "Epoch 2/5\n",
            "49/49 [==============================] - 67s 1s/step - loss: 1.8469 - accuracy: 0.3185 - val_loss: 1.7821 - val_accuracy: 0.3494\n",
            "Epoch 3/5\n",
            "49/49 [==============================] - 53s 1s/step - loss: 1.7621 - accuracy: 0.3598 - val_loss: 1.7303 - val_accuracy: 0.3823\n",
            "Epoch 4/5\n",
            "49/49 [==============================] - 52s 1s/step - loss: 1.6830 - accuracy: 0.3960 - val_loss: 1.7863 - val_accuracy: 0.3671\n",
            "Epoch 5/5\n",
            "49/49 [==============================] - 50s 1s/step - loss: 1.6667 - accuracy: 0.3876 - val_loss: 1.6680 - val_accuracy: 0.3899\n"
          ]
        }
      ]
    },
    {
      "cell_type": "code",
      "source": [
        "# Trying bigger model"
      ],
      "metadata": {
        "id": "fJXqoDEjyqi9"
      },
      "execution_count": null,
      "outputs": []
    },
    {
      "cell_type": "code",
      "source": [
        "input = layers.Input(shape=(224, 224, 3), name=\"input_layer\")\n",
        "\n",
        "conv_1 = layers.Conv2D(10, 3, activation=\"relu\")(input)\n",
        "conv_2 = layers.Conv2D(10, 3, activation=\"relu\")(conv_1)\n",
        "max_1 = layers.MaxPool2D(2)(conv_2)\n",
        "\n",
        "conv_3 = layers.Conv2D(10, 3, activation=\"relu\")(max_1)\n",
        "conv_4 = layers.Conv2D(10, 3, activation=\"relu\")(conv_3)\n",
        "max_2 = layers.MaxPool2D(2)(conv_4)\n",
        "\n",
        "conv_5 = layers.Conv2D(10, 3, activation=\"relu\")(max_2)\n",
        "conv_6 = layers.Conv2D(10, 3, activation=\"relu\")(conv_5)\n",
        "max_3 = layers.MaxPool2D(2)(conv_6)\n",
        "\n",
        "flat_layer = layers.Flatten()(max_3)\n",
        "output = layers.Dense(9, activation=\"softmax\")(flat_layer)\n",
        "model_3 = Model(input, output)"
      ],
      "metadata": {
        "id": "VzckmEq5y5cP"
      },
      "execution_count": null,
      "outputs": []
    },
    {
      "cell_type": "code",
      "source": [
        "model_3.compile(loss=\"categorical_crossentropy\",\n",
        "                optimizer=tf.keras.optimizers.Adam(),\n",
        "                metrics=[\"accuracy\"])\n",
        "\n",
        "history_3 = model_3.fit(train_data,\n",
        "              epochs=5,\n",
        "              validation_data=test_data)"
      ],
      "metadata": {
        "colab": {
          "base_uri": "https://localhost:8080/"
        },
        "id": "sehnmOEHzI6G",
        "outputId": "b60268c9-d987-4312-d3cd-402cab11e51d"
      },
      "execution_count": null,
      "outputs": [
        {
          "output_type": "stream",
          "name": "stdout",
          "text": [
            "Epoch 1/5\n",
            "49/49 [==============================] - 52s 1s/step - loss: 2.0813 - accuracy: 0.2183 - val_loss: 1.9811 - val_accuracy: 0.2835\n",
            "Epoch 2/5\n",
            "49/49 [==============================] - 52s 1s/step - loss: 1.8883 - accuracy: 0.3017 - val_loss: 1.8412 - val_accuracy: 0.3114\n",
            "Epoch 3/5\n",
            "49/49 [==============================] - 50s 1s/step - loss: 1.8487 - accuracy: 0.3030 - val_loss: 1.7784 - val_accuracy: 0.3418\n",
            "Epoch 4/5\n",
            "49/49 [==============================] - 50s 1s/step - loss: 1.8135 - accuracy: 0.3262 - val_loss: 1.7655 - val_accuracy: 0.3468\n",
            "Epoch 5/5\n",
            "49/49 [==============================] - 50s 1s/step - loss: 1.8104 - accuracy: 0.3185 - val_loss: 1.7967 - val_accuracy: 0.3696\n"
          ]
        }
      ]
    },
    {
      "cell_type": "code",
      "source": [
        "# Applying transfer learning concepts"
      ],
      "metadata": {
        "id": "KuF53Rv-zMT8"
      },
      "execution_count": null,
      "outputs": []
    },
    {
      "cell_type": "code",
      "source": [
        "base_model = tf.keras.applications.EfficientNetB0(include_top=False)\n",
        "base_model.trainable = False\n",
        "\n",
        "\n",
        "inputs = layers.Input(shape=(224, 224, 3), name=\"input_layer\")\n",
        "base_layer = base_model(inputs)\n",
        "avg_pooling = layers.GlobalAveragePooling2D()(base_layer)\n",
        "outputs = layers.Dense(9, activation=\"softmax\")(avg_pooling)\n",
        "model_4 = Model(inputs, outputs)"
      ],
      "metadata": {
        "colab": {
          "base_uri": "https://localhost:8080/"
        },
        "id": "utz-cEuQ3VPJ",
        "outputId": "f877c365-b683-4e0d-842f-d38d90875ad3"
      },
      "execution_count": null,
      "outputs": [
        {
          "output_type": "stream",
          "name": "stdout",
          "text": [
            "Downloading data from https://storage.googleapis.com/keras-applications/efficientnetb0_notop.h5\n",
            "16711680/16705208 [==============================] - 0s 0us/step\n",
            "16719872/16705208 [==============================] - 0s 0us/step\n"
          ]
        }
      ]
    },
    {
      "cell_type": "code",
      "source": [
        "model_4.summary()"
      ],
      "metadata": {
        "colab": {
          "base_uri": "https://localhost:8080/"
        },
        "id": "7kEJCWnb3Ind",
        "outputId": "ce388f3c-15fa-4e99-e566-c115b8ce8702"
      },
      "execution_count": null,
      "outputs": [
        {
          "output_type": "stream",
          "name": "stdout",
          "text": [
            "Model: \"model_3\"\n",
            "_________________________________________________________________\n",
            " Layer (type)                Output Shape              Param #   \n",
            "=================================================================\n",
            " input_layer (InputLayer)    [(None, 224, 224, 3)]     0         \n",
            "                                                                 \n",
            " efficientnetb0 (Functional)  (None, None, None, 1280)  4049571  \n",
            "                                                                 \n",
            " global_average_pooling2d (G  (None, 1280)             0         \n",
            " lobalAveragePooling2D)                                          \n",
            "                                                                 \n",
            " dense_4 (Dense)             (None, 9)                 11529     \n",
            "                                                                 \n",
            "=================================================================\n",
            "Total params: 4,061,100\n",
            "Trainable params: 11,529\n",
            "Non-trainable params: 4,049,571\n",
            "_________________________________________________________________\n"
          ]
        }
      ]
    },
    {
      "cell_type": "code",
      "source": [
        "model_4.compile(loss=\"categorical_crossentropy\",\n",
        "                optimizer=tf.keras.optimizers.Adam(),\n",
        "                metrics=[\"accuracy\"])\n",
        "\n",
        "history_4 = model_4.fit(train_data,\n",
        "              epochs=5,\n",
        "              validation_data=test_data)"
      ],
      "metadata": {
        "colab": {
          "base_uri": "https://localhost:8080/"
        },
        "id": "MfD_nCFP4QL5",
        "outputId": "71a6d330-c324-442c-93c6-3a697502c69f"
      },
      "execution_count": null,
      "outputs": [
        {
          "output_type": "stream",
          "name": "stdout",
          "text": [
            "Epoch 1/5\n",
            "49/49 [==============================] - 63s 1s/step - loss: 2.1360 - accuracy: 0.1764 - val_loss: 2.1350 - val_accuracy: 0.1342\n",
            "Epoch 2/5\n",
            "49/49 [==============================] - 51s 1s/step - loss: 2.1342 - accuracy: 0.1757 - val_loss: 2.1232 - val_accuracy: 0.1848\n",
            "Epoch 3/5\n",
            "49/49 [==============================] - 58s 1s/step - loss: 2.1295 - accuracy: 0.1544 - val_loss: 2.1257 - val_accuracy: 0.1747\n",
            "Epoch 4/5\n",
            "49/49 [==============================] - 62s 1s/step - loss: 2.1295 - accuracy: 0.1899 - val_loss: 2.1204 - val_accuracy: 0.1747\n",
            "Epoch 5/5\n",
            "49/49 [==============================] - 52s 1s/step - loss: 2.1313 - accuracy: 0.1757 - val_loss: 2.1175 - val_accuracy: 0.1747\n"
          ]
        }
      ]
    },
    {
      "cell_type": "code",
      "source": [
        "# Probably due to normalization and augmentation"
      ],
      "metadata": {
        "id": "ITXbR37M4ZER"
      },
      "execution_count": null,
      "outputs": []
    },
    {
      "cell_type": "code",
      "source": [
        "train_data = tf.keras.preprocessing.image_dataset_from_directory(directory=\"dataset/train/\",\n",
        "                                                                 image_size=IMG_SIZE,\n",
        "                                                                 label_mode=\"categorical\",\n",
        "                                                                 batch_size=32)\n",
        "test_data = tf.keras.preprocessing.image_dataset_from_directory(directory=\"dataset/test/\",\n",
        "                                                                 image_size=IMG_SIZE,\n",
        "                                                                 label_mode=\"categorical\",\n",
        "                                                                 batch_size=32,\n",
        "                                                                shuffle=False)"
      ],
      "metadata": {
        "colab": {
          "base_uri": "https://localhost:8080/"
        },
        "id": "07QlUelx486J",
        "outputId": "3f830916-dc81-4ab8-b048-9650ca3bd2b8"
      },
      "execution_count": null,
      "outputs": [
        {
          "output_type": "stream",
          "name": "stdout",
          "text": [
            "Found 1548 files belonging to 9 classes.\n",
            "Found 395 files belonging to 9 classes.\n"
          ]
        }
      ]
    },
    {
      "cell_type": "code",
      "source": [
        "base_model = tf.keras.applications.EfficientNetB0(include_top=False)\n",
        "base_model.trainable = False\n",
        "\n",
        "\n",
        "inputs = layers.Input(shape=(224, 224, 3), name=\"input_layer\")\n",
        "base_layer = base_model(inputs)\n",
        "avg_pooling = layers.GlobalAveragePooling2D()(base_layer)\n",
        "outputs = layers.Dense(9, activation=\"softmax\")(avg_pooling)\n",
        "model_5 = Model(inputs, outputs)"
      ],
      "metadata": {
        "id": "p3UW1F345DMN"
      },
      "execution_count": null,
      "outputs": []
    },
    {
      "cell_type": "code",
      "source": [
        "model_5.compile(loss=\"categorical_crossentropy\",\n",
        "                optimizer=tf.keras.optimizers.Adam(),\n",
        "                metrics=[\"accuracy\"])\n",
        "\n",
        "history_5 = model_5.fit(train_data,\n",
        "              epochs=5,\n",
        "              validation_data=test_data)"
      ],
      "metadata": {
        "colab": {
          "base_uri": "https://localhost:8080/"
        },
        "id": "abg_1alu5MBf",
        "outputId": "90cf324b-9ac3-4462-aab5-bebd973de429"
      },
      "execution_count": null,
      "outputs": [
        {
          "output_type": "stream",
          "name": "stdout",
          "text": [
            "Epoch 1/5\n",
            "49/49 [==============================] - 19s 266ms/step - loss: 1.3603 - accuracy: 0.5911 - val_loss: 0.7648 - val_accuracy: 0.8253\n",
            "Epoch 2/5\n",
            "49/49 [==============================] - 13s 239ms/step - loss: 0.6452 - accuracy: 0.8488 - val_loss: 0.5310 - val_accuracy: 0.8557\n",
            "Epoch 3/5\n",
            "49/49 [==============================] - 13s 242ms/step - loss: 0.4651 - accuracy: 0.8882 - val_loss: 0.4390 - val_accuracy: 0.8835\n",
            "Epoch 4/5\n",
            "49/49 [==============================] - 13s 239ms/step - loss: 0.3823 - accuracy: 0.9063 - val_loss: 0.3921 - val_accuracy: 0.8810\n",
            "Epoch 5/5\n",
            "49/49 [==============================] - 13s 238ms/step - loss: 0.3243 - accuracy: 0.9218 - val_loss: 0.3575 - val_accuracy: 0.9063\n"
          ]
        }
      ]
    },
    {
      "cell_type": "code",
      "source": [
        "model_5.evaluate(test_data)"
      ],
      "metadata": {
        "colab": {
          "base_uri": "https://localhost:8080/"
        },
        "id": "jNzP5KLv6PQj",
        "outputId": "d0c70c8e-79f1-4b7d-8921-b3ddf4c48056"
      },
      "execution_count": null,
      "outputs": [
        {
          "output_type": "stream",
          "name": "stdout",
          "text": [
            "13/13 [==============================] - 3s 198ms/step - loss: 0.3575 - accuracy: 0.9063\n"
          ]
        },
        {
          "output_type": "execute_result",
          "data": {
            "text/plain": [
              "[0.3574851155281067, 0.9063290953636169]"
            ]
          },
          "metadata": {},
          "execution_count": 58
        }
      ]
    },
    {
      "cell_type": "code",
      "source": [
        "pred_prob = model_5.predict(test_data)\n",
        "pred_prob"
      ],
      "metadata": {
        "colab": {
          "base_uri": "https://localhost:8080/"
        },
        "id": "VTtDP_fk6Tkn",
        "outputId": "1f46596e-cc40-40b8-9cdd-fc2bba1e54d2"
      },
      "execution_count": null,
      "outputs": [
        {
          "output_type": "execute_result",
          "data": {
            "text/plain": [
              "array([[9.2308265e-01, 4.8835329e-03, 4.4254735e-03, ..., 3.0255704e-03,\n",
              "        1.0638358e-03, 1.4668928e-03],\n",
              "       [2.2727658e-01, 1.7534481e-02, 1.2944549e-01, ..., 1.1385106e-02,\n",
              "        3.9125469e-02, 2.6446264e-02],\n",
              "       [6.2247813e-01, 1.8970132e-02, 1.5942149e-02, ..., 1.7955412e-01,\n",
              "        9.2573844e-02, 1.2301639e-02],\n",
              "       ...,\n",
              "       [2.3904006e-04, 3.5639462e-04, 1.9813988e-05, ..., 1.3986534e-03,\n",
              "        5.2488176e-04, 9.9649686e-01],\n",
              "       [1.9409337e-04, 1.3700924e-05, 8.7825674e-06, ..., 1.5821956e-03,\n",
              "        4.1648342e-05, 9.9809104e-01],\n",
              "       [1.5962255e-04, 8.0302090e-04, 4.1994765e-05, ..., 9.5142294e-03,\n",
              "        1.1075861e-02, 9.7733736e-01]], dtype=float32)"
            ]
          },
          "metadata": {},
          "execution_count": 59
        }
      ]
    },
    {
      "cell_type": "code",
      "source": [
        "pred_class = tf.argmax(pred_prob, axis=1)\n",
        "pred_class"
      ],
      "metadata": {
        "colab": {
          "base_uri": "https://localhost:8080/"
        },
        "id": "SRhy6w_w6amN",
        "outputId": "dde56f43-99c8-4b4f-b869-3b13f07c60d8"
      },
      "execution_count": null,
      "outputs": [
        {
          "output_type": "execute_result",
          "data": {
            "text/plain": [
              "<tf.Tensor: shape=(395,), dtype=int64, numpy=\n",
              "array([0, 3, 0, 0, 0, 0, 0, 0, 0, 0, 0, 0, 0, 0, 0, 0, 0, 0, 0, 0, 0, 0,\n",
              "       5, 0, 0, 0, 0, 0, 0, 0, 0, 0, 0, 7, 0, 0, 1, 1, 1, 1, 1, 7, 1, 1,\n",
              "       1, 1, 1, 7, 1, 1, 1, 0, 1, 1, 3, 1, 1, 1, 1, 1, 7, 1, 1, 7, 1, 1,\n",
              "       2, 2, 2, 2, 2, 2, 2, 2, 2, 2, 2, 2, 2, 2, 2, 2, 2, 2, 2, 2, 2, 2,\n",
              "       5, 2, 2, 2, 2, 2, 2, 2, 2, 2, 2, 2, 2, 2, 2, 2, 2, 2, 2, 5, 2, 2,\n",
              "       2, 2, 2, 2, 5, 2, 2, 2, 2, 2, 2, 0, 3, 3, 3, 2, 3, 3, 2, 3, 0, 3,\n",
              "       3, 3, 3, 3, 3, 3, 3, 3, 2, 3, 2, 2, 2, 2, 4, 4, 4, 4, 4, 4, 1, 1,\n",
              "       4, 4, 4, 4, 4, 4, 4, 4, 4, 4, 7, 4, 5, 5, 5, 5, 5, 5, 5, 5, 5, 5,\n",
              "       2, 5, 5, 5, 5, 5, 5, 5, 5, 5, 5, 5, 5, 5, 5, 2, 5, 5, 5, 5, 5, 5,\n",
              "       5, 5, 2, 5, 6, 5, 5, 5, 5, 5, 5, 5, 5, 5, 5, 5, 5, 5, 5, 5, 5, 5,\n",
              "       5, 5, 5, 5, 5, 0, 5, 5, 5, 5, 5, 5, 5, 5, 5, 5, 5, 5, 5, 6, 6, 6,\n",
              "       6, 6, 6, 6, 6, 6, 6, 6, 6, 6, 6, 6, 6, 6, 6, 6, 6, 6, 6, 6, 6, 6,\n",
              "       6, 6, 6, 6, 6, 6, 6, 6, 6, 6, 6, 6, 6, 6, 6, 6, 6, 6, 6, 6, 6, 6,\n",
              "       6, 6, 6, 6, 6, 6, 6, 6, 6, 6, 6, 6, 6, 6, 6, 6, 4, 6, 6, 6, 6, 6,\n",
              "       7, 2, 7, 7, 7, 7, 7, 7, 7, 7, 7, 7, 7, 7, 7, 7, 7, 7, 7, 7, 7, 7,\n",
              "       1, 7, 6, 7, 7, 7, 7, 1, 3, 7, 7, 7, 8, 8, 8, 8, 8, 8, 8, 8, 8, 8,\n",
              "       8, 8, 8, 8, 8, 8, 8, 8, 8, 8, 8, 8, 8, 8, 8, 8, 8, 8, 8, 8, 8, 8,\n",
              "       8, 8, 8, 8, 8, 8, 8, 8, 8, 8, 8, 8, 8, 8, 8, 8, 8, 8, 8, 8, 8])>"
            ]
          },
          "metadata": {},
          "execution_count": 60
        }
      ]
    },
    {
      "cell_type": "code",
      "source": [
        "y_labels = []\n",
        "for images, labels in test_data.unbatch(): # unbatch the test data and get images and labels\n",
        "  y_labels.append(labels.numpy().argmax()) # append the index which has the largest value (labels are one-hot)\n",
        "y_labels[:10]"
      ],
      "metadata": {
        "colab": {
          "base_uri": "https://localhost:8080/"
        },
        "id": "P1jx1StL6eV_",
        "outputId": "0d6187fb-081c-48c1-fad6-b8afab7b6848"
      },
      "execution_count": null,
      "outputs": [
        {
          "output_type": "execute_result",
          "data": {
            "text/plain": [
              "[0, 0, 0, 0, 0, 0, 0, 0, 0, 0]"
            ]
          },
          "metadata": {},
          "execution_count": 61
        }
      ]
    },
    {
      "cell_type": "code",
      "source": [
        "score_5 = accuracy_score(y_labels, pred_class)\n",
        "score_5"
      ],
      "metadata": {
        "colab": {
          "base_uri": "https://localhost:8080/"
        },
        "id": "J6TOwUWs6ofv",
        "outputId": "4930050c-2745-4bd4-9d1f-ff361f3438a2"
      },
      "execution_count": null,
      "outputs": [
        {
          "output_type": "execute_result",
          "data": {
            "text/plain": [
              "0.9063291139240506"
            ]
          },
          "metadata": {},
          "execution_count": 62
        }
      ]
    },
    {
      "cell_type": "code",
      "source": [
        "labels = sorted(os.listdir('dataset/train'))\n",
        "labels"
      ],
      "metadata": {
        "colab": {
          "base_uri": "https://localhost:8080/"
        },
        "id": "DthfYUjP7Ca3",
        "outputId": "f48ba8e6-3375-4b3a-f6ca-68371c2d7ba0"
      },
      "execution_count": null,
      "outputs": [
        {
          "output_type": "execute_result",
          "data": {
            "text/plain": [
              "['chatamari',\n",
              " 'chhoila',\n",
              " 'dalbhat',\n",
              " 'dhindo',\n",
              " 'gundruk',\n",
              " 'kheer',\n",
              " 'momo',\n",
              " 'sekuwa',\n",
              " 'selroti']"
            ]
          },
          "metadata": {},
          "execution_count": 68
        }
      ]
    },
    {
      "cell_type": "code",
      "source": [
        "report_5 = classification_report(y_labels, pred_class, target_names=labels)\n",
        "print(report_5)"
      ],
      "metadata": {
        "colab": {
          "base_uri": "https://localhost:8080/"
        },
        "id": "CDxxa0VM6tXy",
        "outputId": "7f65c9c7-b974-427d-d8ca-c11a0106aa88"
      },
      "execution_count": null,
      "outputs": [
        {
          "output_type": "stream",
          "name": "stdout",
          "text": [
            "              precision    recall  f1-score   support\n",
            "\n",
            "   chatamari       0.89      0.92      0.90        36\n",
            "     chhoila       0.86      0.80      0.83        30\n",
            "     dalbhat       0.79      0.94      0.86        53\n",
            "      dhindo       0.84      0.59      0.70        27\n",
            "     gundruk       0.94      0.85      0.89        20\n",
            "       kheer       0.94      0.93      0.94        73\n",
            "        momo       0.97      0.99      0.98        69\n",
            "      sekuwa       0.83      0.85      0.84        34\n",
            "     selroti       1.00      1.00      1.00        53\n",
            "\n",
            "    accuracy                           0.91       395\n",
            "   macro avg       0.90      0.87      0.88       395\n",
            "weighted avg       0.91      0.91      0.90       395\n",
            "\n"
          ]
        }
      ]
    },
    {
      "cell_type": "code",
      "source": [
        "# Trying transfer learning with fine tuning top 5 layers"
      ],
      "metadata": {
        "id": "KvsWLoJD6zYP"
      },
      "execution_count": null,
      "outputs": []
    },
    {
      "cell_type": "code",
      "source": [
        "base_model_2 = tf.keras.applications.EfficientNetB0(include_top=False)\n",
        "base_model_2.trainable = True\n",
        "\n",
        "for layer in base_model_2.layers[:-10]:\n",
        "  layer.trainable = False"
      ],
      "metadata": {
        "id": "GAo6hAij7QHk"
      },
      "execution_count": null,
      "outputs": []
    },
    {
      "cell_type": "code",
      "source": [
        "for layer_number, layer in enumerate(base_model_2.layers):\n",
        "  print(layer_number, layer.name, layer.trainable)"
      ],
      "metadata": {
        "colab": {
          "base_uri": "https://localhost:8080/"
        },
        "id": "3K3hiPGK74XW",
        "outputId": "dff07254-3846-406e-8aa4-488cec666329"
      },
      "execution_count": null,
      "outputs": [
        {
          "output_type": "stream",
          "name": "stdout",
          "text": [
            "0 input_4 False\n",
            "1 rescaling_3 False\n",
            "2 normalization_3 False\n",
            "3 stem_conv_pad False\n",
            "4 stem_conv False\n",
            "5 stem_bn False\n",
            "6 stem_activation False\n",
            "7 block1a_dwconv False\n",
            "8 block1a_bn False\n",
            "9 block1a_activation False\n",
            "10 block1a_se_squeeze False\n",
            "11 block1a_se_reshape False\n",
            "12 block1a_se_reduce False\n",
            "13 block1a_se_expand False\n",
            "14 block1a_se_excite False\n",
            "15 block1a_project_conv False\n",
            "16 block1a_project_bn False\n",
            "17 block2a_expand_conv False\n",
            "18 block2a_expand_bn False\n",
            "19 block2a_expand_activation False\n",
            "20 block2a_dwconv_pad False\n",
            "21 block2a_dwconv False\n",
            "22 block2a_bn False\n",
            "23 block2a_activation False\n",
            "24 block2a_se_squeeze False\n",
            "25 block2a_se_reshape False\n",
            "26 block2a_se_reduce False\n",
            "27 block2a_se_expand False\n",
            "28 block2a_se_excite False\n",
            "29 block2a_project_conv False\n",
            "30 block2a_project_bn False\n",
            "31 block2b_expand_conv False\n",
            "32 block2b_expand_bn False\n",
            "33 block2b_expand_activation False\n",
            "34 block2b_dwconv False\n",
            "35 block2b_bn False\n",
            "36 block2b_activation False\n",
            "37 block2b_se_squeeze False\n",
            "38 block2b_se_reshape False\n",
            "39 block2b_se_reduce False\n",
            "40 block2b_se_expand False\n",
            "41 block2b_se_excite False\n",
            "42 block2b_project_conv False\n",
            "43 block2b_project_bn False\n",
            "44 block2b_drop False\n",
            "45 block2b_add False\n",
            "46 block3a_expand_conv False\n",
            "47 block3a_expand_bn False\n",
            "48 block3a_expand_activation False\n",
            "49 block3a_dwconv_pad False\n",
            "50 block3a_dwconv False\n",
            "51 block3a_bn False\n",
            "52 block3a_activation False\n",
            "53 block3a_se_squeeze False\n",
            "54 block3a_se_reshape False\n",
            "55 block3a_se_reduce False\n",
            "56 block3a_se_expand False\n",
            "57 block3a_se_excite False\n",
            "58 block3a_project_conv False\n",
            "59 block3a_project_bn False\n",
            "60 block3b_expand_conv False\n",
            "61 block3b_expand_bn False\n",
            "62 block3b_expand_activation False\n",
            "63 block3b_dwconv False\n",
            "64 block3b_bn False\n",
            "65 block3b_activation False\n",
            "66 block3b_se_squeeze False\n",
            "67 block3b_se_reshape False\n",
            "68 block3b_se_reduce False\n",
            "69 block3b_se_expand False\n",
            "70 block3b_se_excite False\n",
            "71 block3b_project_conv False\n",
            "72 block3b_project_bn False\n",
            "73 block3b_drop False\n",
            "74 block3b_add False\n",
            "75 block4a_expand_conv False\n",
            "76 block4a_expand_bn False\n",
            "77 block4a_expand_activation False\n",
            "78 block4a_dwconv_pad False\n",
            "79 block4a_dwconv False\n",
            "80 block4a_bn False\n",
            "81 block4a_activation False\n",
            "82 block4a_se_squeeze False\n",
            "83 block4a_se_reshape False\n",
            "84 block4a_se_reduce False\n",
            "85 block4a_se_expand False\n",
            "86 block4a_se_excite False\n",
            "87 block4a_project_conv False\n",
            "88 block4a_project_bn False\n",
            "89 block4b_expand_conv False\n",
            "90 block4b_expand_bn False\n",
            "91 block4b_expand_activation False\n",
            "92 block4b_dwconv False\n",
            "93 block4b_bn False\n",
            "94 block4b_activation False\n",
            "95 block4b_se_squeeze False\n",
            "96 block4b_se_reshape False\n",
            "97 block4b_se_reduce False\n",
            "98 block4b_se_expand False\n",
            "99 block4b_se_excite False\n",
            "100 block4b_project_conv False\n",
            "101 block4b_project_bn False\n",
            "102 block4b_drop False\n",
            "103 block4b_add False\n",
            "104 block4c_expand_conv False\n",
            "105 block4c_expand_bn False\n",
            "106 block4c_expand_activation False\n",
            "107 block4c_dwconv False\n",
            "108 block4c_bn False\n",
            "109 block4c_activation False\n",
            "110 block4c_se_squeeze False\n",
            "111 block4c_se_reshape False\n",
            "112 block4c_se_reduce False\n",
            "113 block4c_se_expand False\n",
            "114 block4c_se_excite False\n",
            "115 block4c_project_conv False\n",
            "116 block4c_project_bn False\n",
            "117 block4c_drop False\n",
            "118 block4c_add False\n",
            "119 block5a_expand_conv False\n",
            "120 block5a_expand_bn False\n",
            "121 block5a_expand_activation False\n",
            "122 block5a_dwconv False\n",
            "123 block5a_bn False\n",
            "124 block5a_activation False\n",
            "125 block5a_se_squeeze False\n",
            "126 block5a_se_reshape False\n",
            "127 block5a_se_reduce False\n",
            "128 block5a_se_expand False\n",
            "129 block5a_se_excite False\n",
            "130 block5a_project_conv False\n",
            "131 block5a_project_bn False\n",
            "132 block5b_expand_conv False\n",
            "133 block5b_expand_bn False\n",
            "134 block5b_expand_activation False\n",
            "135 block5b_dwconv False\n",
            "136 block5b_bn False\n",
            "137 block5b_activation False\n",
            "138 block5b_se_squeeze False\n",
            "139 block5b_se_reshape False\n",
            "140 block5b_se_reduce False\n",
            "141 block5b_se_expand False\n",
            "142 block5b_se_excite False\n",
            "143 block5b_project_conv False\n",
            "144 block5b_project_bn False\n",
            "145 block5b_drop False\n",
            "146 block5b_add False\n",
            "147 block5c_expand_conv False\n",
            "148 block5c_expand_bn False\n",
            "149 block5c_expand_activation False\n",
            "150 block5c_dwconv False\n",
            "151 block5c_bn False\n",
            "152 block5c_activation False\n",
            "153 block5c_se_squeeze False\n",
            "154 block5c_se_reshape False\n",
            "155 block5c_se_reduce False\n",
            "156 block5c_se_expand False\n",
            "157 block5c_se_excite False\n",
            "158 block5c_project_conv False\n",
            "159 block5c_project_bn False\n",
            "160 block5c_drop False\n",
            "161 block5c_add False\n",
            "162 block6a_expand_conv False\n",
            "163 block6a_expand_bn False\n",
            "164 block6a_expand_activation False\n",
            "165 block6a_dwconv_pad False\n",
            "166 block6a_dwconv False\n",
            "167 block6a_bn False\n",
            "168 block6a_activation False\n",
            "169 block6a_se_squeeze False\n",
            "170 block6a_se_reshape False\n",
            "171 block6a_se_reduce False\n",
            "172 block6a_se_expand False\n",
            "173 block6a_se_excite False\n",
            "174 block6a_project_conv False\n",
            "175 block6a_project_bn False\n",
            "176 block6b_expand_conv False\n",
            "177 block6b_expand_bn False\n",
            "178 block6b_expand_activation False\n",
            "179 block6b_dwconv False\n",
            "180 block6b_bn False\n",
            "181 block6b_activation False\n",
            "182 block6b_se_squeeze False\n",
            "183 block6b_se_reshape False\n",
            "184 block6b_se_reduce False\n",
            "185 block6b_se_expand False\n",
            "186 block6b_se_excite False\n",
            "187 block6b_project_conv False\n",
            "188 block6b_project_bn False\n",
            "189 block6b_drop False\n",
            "190 block6b_add False\n",
            "191 block6c_expand_conv False\n",
            "192 block6c_expand_bn False\n",
            "193 block6c_expand_activation False\n",
            "194 block6c_dwconv False\n",
            "195 block6c_bn False\n",
            "196 block6c_activation False\n",
            "197 block6c_se_squeeze False\n",
            "198 block6c_se_reshape False\n",
            "199 block6c_se_reduce False\n",
            "200 block6c_se_expand False\n",
            "201 block6c_se_excite False\n",
            "202 block6c_project_conv False\n",
            "203 block6c_project_bn False\n",
            "204 block6c_drop False\n",
            "205 block6c_add False\n",
            "206 block6d_expand_conv False\n",
            "207 block6d_expand_bn False\n",
            "208 block6d_expand_activation False\n",
            "209 block6d_dwconv False\n",
            "210 block6d_bn False\n",
            "211 block6d_activation False\n",
            "212 block6d_se_squeeze False\n",
            "213 block6d_se_reshape False\n",
            "214 block6d_se_reduce False\n",
            "215 block6d_se_expand False\n",
            "216 block6d_se_excite False\n",
            "217 block6d_project_conv False\n",
            "218 block6d_project_bn False\n",
            "219 block6d_drop False\n",
            "220 block6d_add False\n",
            "221 block7a_expand_conv False\n",
            "222 block7a_expand_bn False\n",
            "223 block7a_expand_activation False\n",
            "224 block7a_dwconv False\n",
            "225 block7a_bn False\n",
            "226 block7a_activation False\n",
            "227 block7a_se_squeeze True\n",
            "228 block7a_se_reshape True\n",
            "229 block7a_se_reduce True\n",
            "230 block7a_se_expand True\n",
            "231 block7a_se_excite True\n",
            "232 block7a_project_conv True\n",
            "233 block7a_project_bn True\n",
            "234 top_conv True\n",
            "235 top_bn True\n",
            "236 top_activation True\n"
          ]
        }
      ]
    },
    {
      "cell_type": "code",
      "source": [
        "inputs = layers.Input(shape=(224, 224, 3), name=\"input_layer\")\n",
        "base_layer = base_model_2(inputs)\n",
        "avg_pooling = layers.GlobalAveragePooling2D()(base_layer)\n",
        "outputs = layers.Dense(9, activation=\"softmax\")(avg_pooling)\n",
        "model_6 = Model(inputs, outputs)"
      ],
      "metadata": {
        "id": "apUeI0fp76g_"
      },
      "execution_count": null,
      "outputs": []
    },
    {
      "cell_type": "code",
      "source": [
        "model_6.compile(loss=\"categorical_crossentropy\",\n",
        "                optimizer=tf.keras.optimizers.Adam(lr=0.0001),\n",
        "                metrics=[\"accuracy\"])\n",
        "\n",
        "history_6 = model_6.fit(train_data,\n",
        "              epochs=5,\n",
        "              validation_data=test_data)"
      ],
      "metadata": {
        "colab": {
          "base_uri": "https://localhost:8080/"
        },
        "id": "UCHXfBke871j",
        "outputId": "e395f518-aced-4d4a-82ec-d6fd5465c666"
      },
      "execution_count": null,
      "outputs": [
        {
          "output_type": "stream",
          "name": "stdout",
          "text": [
            "Epoch 1/5\n"
          ]
        },
        {
          "output_type": "stream",
          "name": "stderr",
          "text": [
            "/usr/local/lib/python3.7/dist-packages/keras/optimizer_v2/adam.py:105: UserWarning: The `lr` argument is deprecated, use `learning_rate` instead.\n",
            "  super(Adam, self).__init__(name, **kwargs)\n"
          ]
        },
        {
          "output_type": "stream",
          "name": "stdout",
          "text": [
            "49/49 [==============================] - 22s 270ms/step - loss: 1.6255 - accuracy: 0.5368 - val_loss: 1.0186 - val_accuracy: 0.7165\n",
            "Epoch 2/5\n",
            "49/49 [==============================] - 14s 255ms/step - loss: 0.8575 - accuracy: 0.8004 - val_loss: 0.5955 - val_accuracy: 0.8304\n",
            "Epoch 3/5\n",
            "49/49 [==============================] - 13s 245ms/step - loss: 0.5786 - accuracy: 0.8656 - val_loss: 0.4399 - val_accuracy: 0.8835\n",
            "Epoch 4/5\n",
            "49/49 [==============================] - 13s 244ms/step - loss: 0.4392 - accuracy: 0.8882 - val_loss: 0.3698 - val_accuracy: 0.9038\n",
            "Epoch 5/5\n",
            "49/49 [==============================] - 13s 242ms/step - loss: 0.3562 - accuracy: 0.9102 - val_loss: 0.3330 - val_accuracy: 0.9063\n"
          ]
        }
      ]
    },
    {
      "cell_type": "code",
      "source": [
        "# Fine tuning only 5 top layers\n",
        "base_model_3 = tf.keras.applications.EfficientNetB0(include_top=False)\n",
        "base_model_3.trainable = True\n",
        "\n",
        "for layer in base_model_3.layers[:-5]:\n",
        "  layer.trainable = False"
      ],
      "metadata": {
        "id": "sap53Owp9HUP"
      },
      "execution_count": null,
      "outputs": []
    },
    {
      "cell_type": "code",
      "source": [
        "inputs = layers.Input(shape=(224, 224, 3), name=\"input_layer\")\n",
        "base_layer = base_model_3(inputs)\n",
        "avg_pooling = layers.GlobalAveragePooling2D()(base_layer)\n",
        "outputs = layers.Dense(9, activation=\"softmax\")(avg_pooling)\n",
        "model_7 = Model(inputs, outputs)"
      ],
      "metadata": {
        "id": "Ew6qzica9s-s"
      },
      "execution_count": null,
      "outputs": []
    },
    {
      "cell_type": "code",
      "source": [
        "model_7.compile(loss=\"categorical_crossentropy\",\n",
        "                optimizer=tf.keras.optimizers.Adam(lr=0.0001),\n",
        "                metrics=[\"accuracy\"])\n",
        "\n",
        "history_7 = model_7.fit(train_data,\n",
        "              epochs=5,\n",
        "              validation_data=test_data)"
      ],
      "metadata": {
        "colab": {
          "base_uri": "https://localhost:8080/"
        },
        "id": "Y3Esys2r9wbw",
        "outputId": "0c253ee0-9197-4472-b356-b7649a6c50d3"
      },
      "execution_count": null,
      "outputs": [
        {
          "output_type": "stream",
          "name": "stdout",
          "text": [
            "Epoch 1/5\n"
          ]
        },
        {
          "output_type": "stream",
          "name": "stderr",
          "text": [
            "/usr/local/lib/python3.7/dist-packages/keras/optimizer_v2/adam.py:105: UserWarning: The `lr` argument is deprecated, use `learning_rate` instead.\n",
            "  super(Adam, self).__init__(name, **kwargs)\n"
          ]
        },
        {
          "output_type": "stream",
          "name": "stdout",
          "text": [
            "49/49 [==============================] - 22s 272ms/step - loss: 1.6945 - accuracy: 0.4793 - val_loss: 1.0801 - val_accuracy: 0.7620\n",
            "Epoch 2/5\n",
            "49/49 [==============================] - 13s 246ms/step - loss: 0.8996 - accuracy: 0.8172 - val_loss: 0.6523 - val_accuracy: 0.8253\n",
            "Epoch 3/5\n",
            "49/49 [==============================] - 14s 269ms/step - loss: 0.6017 - accuracy: 0.8721 - val_loss: 0.4820 - val_accuracy: 0.8759\n",
            "Epoch 4/5\n",
            "49/49 [==============================] - 13s 245ms/step - loss: 0.4738 - accuracy: 0.8947 - val_loss: 0.4016 - val_accuracy: 0.8835\n",
            "Epoch 5/5\n",
            "49/49 [==============================] - 13s 250ms/step - loss: 0.3922 - accuracy: 0.9199 - val_loss: 0.3593 - val_accuracy: 0.8987\n"
          ]
        }
      ]
    },
    {
      "cell_type": "code",
      "source": [
        "# Now increasing learning rate\n",
        "base_model_4 = tf.keras.applications.EfficientNetB0(include_top=False)\n",
        "base_model_4.trainable = True\n",
        "\n",
        "for layer in base_model_4.layers[:-10]:\n",
        "  layer.trainable = False"
      ],
      "metadata": {
        "id": "0iQ6Gfj090KV"
      },
      "execution_count": null,
      "outputs": []
    },
    {
      "cell_type": "code",
      "source": [
        "inputs = layers.Input(shape=(224, 224, 3), name=\"input_layer\")\n",
        "base_layer = base_model_4(inputs)\n",
        "avg_pooling = layers.GlobalAveragePooling2D()(base_layer)\n",
        "outputs = layers.Dense(9, activation=\"softmax\")(avg_pooling)\n",
        "model_8 = Model(inputs, outputs)"
      ],
      "metadata": {
        "id": "B12hi3at-Uab"
      },
      "execution_count": null,
      "outputs": []
    },
    {
      "cell_type": "code",
      "source": [
        "model_8.compile(loss=\"categorical_crossentropy\",\n",
        "                optimizer=tf.keras.optimizers.Adam(),\n",
        "                metrics=[\"accuracy\"])\n",
        "\n",
        "history_8 = model_8.fit(train_data,\n",
        "              epochs=5,\n",
        "              validation_data=test_data)"
      ],
      "metadata": {
        "colab": {
          "base_uri": "https://localhost:8080/"
        },
        "id": "Q0-4hfh--X91",
        "outputId": "e53c2411-c5a7-4789-cd71-80dd0b5a819d"
      },
      "execution_count": null,
      "outputs": [
        {
          "output_type": "stream",
          "name": "stdout",
          "text": [
            "Epoch 1/5\n",
            "49/49 [==============================] - 22s 272ms/step - loss: 0.6386 - accuracy: 0.7991 - val_loss: 0.3112 - val_accuracy: 0.8835\n",
            "Epoch 2/5\n",
            "49/49 [==============================] - 13s 246ms/step - loss: 0.1692 - accuracy: 0.9516 - val_loss: 0.2568 - val_accuracy: 0.9190\n",
            "Epoch 3/5\n",
            "49/49 [==============================] - 13s 245ms/step - loss: 0.0784 - accuracy: 0.9832 - val_loss: 0.2401 - val_accuracy: 0.9367\n",
            "Epoch 4/5\n",
            "49/49 [==============================] - 13s 243ms/step - loss: 0.0475 - accuracy: 0.9916 - val_loss: 0.2507 - val_accuracy: 0.9266\n",
            "Epoch 5/5\n",
            "49/49 [==============================] - 13s 245ms/step - loss: 0.0312 - accuracy: 0.9948 - val_loss: 0.2145 - val_accuracy: 0.9443\n"
          ]
        }
      ]
    },
    {
      "cell_type": "code",
      "source": [
        "# Satisfied with result, using augmented data for training to reduce overfiting"
      ],
      "metadata": {
        "id": "ic9n7jHo-gZM"
      },
      "execution_count": null,
      "outputs": []
    },
    {
      "cell_type": "code",
      "source": [
        "train_gen = ImageDataGenerator(rotation_range=20,\n",
        "                              shear_range=0.2,\n",
        "                              zoom_range=0.2,\n",
        "                              width_shift_range=0.2,\n",
        "                              height_shift_range=0.2,\n",
        "                              horizontal_flip=True)\n",
        "\n",
        "test_gen = ImageDataGenerator()"
      ],
      "metadata": {
        "id": "geAWwcRY_AGV"
      },
      "execution_count": null,
      "outputs": []
    },
    {
      "cell_type": "code",
      "source": [
        "train_data = train_gen.flow_from_directory(\"dataset/train/\",\n",
        "                                           target_size=IMG_SIZE)\n",
        "\n",
        "test_data = test_gen.flow_from_directory(\"dataset/test/\",\n",
        "                     target_size=IMG_SIZE,\n",
        "                     shuffle=True)"
      ],
      "metadata": {
        "colab": {
          "base_uri": "https://localhost:8080/"
        },
        "id": "md8KkJAN_Wrc",
        "outputId": "9f823aae-5a78-44f5-a368-1fc692a6d1e4"
      },
      "execution_count": null,
      "outputs": [
        {
          "output_type": "stream",
          "name": "stdout",
          "text": [
            "Found 1548 images belonging to 9 classes.\n",
            "Found 395 images belonging to 9 classes.\n"
          ]
        }
      ]
    },
    {
      "cell_type": "code",
      "source": [
        "# Now increasing learning rate\n",
        "base_model_5 = tf.keras.applications.EfficientNetB0(include_top=False)\n",
        "base_model_5.trainable = True\n",
        "\n",
        "for layer in base_model_5.layers[:-10]:\n",
        "  layer.trainable = False"
      ],
      "metadata": {
        "id": "qPrL2nQs_Yqg"
      },
      "execution_count": null,
      "outputs": []
    },
    {
      "cell_type": "code",
      "source": [
        "inputs = layers.Input(shape=(224, 224, 3), name=\"input_layer\")\n",
        "base_layer = base_model_5(inputs)\n",
        "avg_pooling = layers.GlobalAveragePooling2D()(base_layer)\n",
        "outputs = layers.Dense(9, activation=\"softmax\")(avg_pooling)\n",
        "model_9 = Model(inputs, outputs)"
      ],
      "metadata": {
        "id": "bbU1Mhyk_ccT"
      },
      "execution_count": null,
      "outputs": []
    },
    {
      "cell_type": "code",
      "source": [
        "model_9.compile(loss=\"categorical_crossentropy\",\n",
        "                optimizer=tf.keras.optimizers.Adam(),\n",
        "                metrics=[\"accuracy\"])\n",
        "\n",
        "history_9 = model_9.fit(train_data,\n",
        "              epochs=5,\n",
        "              validation_data=test_data)"
      ],
      "metadata": {
        "colab": {
          "base_uri": "https://localhost:8080/"
        },
        "id": "RqXVT7NU_hCA",
        "outputId": "e2238826-a217-46d2-a763-2a035f87c829"
      },
      "execution_count": null,
      "outputs": [
        {
          "output_type": "stream",
          "name": "stdout",
          "text": [
            "Epoch 1/5\n",
            "49/49 [==============================] - 53s 981ms/step - loss: 0.6498 - accuracy: 0.7868 - val_loss: 0.3233 - val_accuracy: 0.8987\n",
            "Epoch 2/5\n",
            "49/49 [==============================] - 48s 970ms/step - loss: 0.2292 - accuracy: 0.9244 - val_loss: 0.3012 - val_accuracy: 0.9215\n",
            "Epoch 3/5\n",
            "49/49 [==============================] - 52s 1s/step - loss: 0.1457 - accuracy: 0.9541 - val_loss: 0.2552 - val_accuracy: 0.9367\n",
            "Epoch 4/5\n",
            "49/49 [==============================] - 53s 1s/step - loss: 0.1056 - accuracy: 0.9638 - val_loss: 0.2631 - val_accuracy: 0.9367\n",
            "Epoch 5/5\n",
            "49/49 [==============================] - 46s 942ms/step - loss: 0.0694 - accuracy: 0.9806 - val_loss: 0.4030 - val_accuracy: 0.9165\n"
          ]
        }
      ]
    },
    {
      "cell_type": "code",
      "source": [
        "test_data = tf.keras.preprocessing.image_dataset_from_directory(directory=\"dataset/test/\",\n",
        "                                                                 image_size=IMG_SIZE,\n",
        "                                                                 label_mode=\"categorical\",\n",
        "                                                                 batch_size=32,\n",
        "                                                                shuffle=False)"
      ],
      "metadata": {
        "colab": {
          "base_uri": "https://localhost:8080/"
        },
        "id": "TzwK5yJg_lF9",
        "outputId": "280b59b9-300b-4f4f-c102-35e0ff3d9634"
      },
      "execution_count": null,
      "outputs": [
        {
          "output_type": "stream",
          "name": "stdout",
          "text": [
            "Found 395 files belonging to 9 classes.\n"
          ]
        }
      ]
    },
    {
      "cell_type": "code",
      "source": [
        "model_8.evaluate(test_data)"
      ],
      "metadata": {
        "colab": {
          "base_uri": "https://localhost:8080/"
        },
        "id": "vsvNb-nPApnG",
        "outputId": "c19205b2-c0d4-4b18-f1d8-77008c9b695d"
      },
      "execution_count": null,
      "outputs": [
        {
          "output_type": "stream",
          "name": "stdout",
          "text": [
            "13/13 [==============================] - 4s 292ms/step - loss: 0.2592 - accuracy: 0.9139\n"
          ]
        },
        {
          "output_type": "execute_result",
          "data": {
            "text/plain": [
              "[0.25916796922683716, 0.9139240384101868]"
            ]
          },
          "metadata": {},
          "execution_count": 94
        }
      ]
    },
    {
      "cell_type": "code",
      "source": [
        "model_9.evaluate(test_data)"
      ],
      "metadata": {
        "colab": {
          "base_uri": "https://localhost:8080/"
        },
        "id": "tbqiB_rFAugP",
        "outputId": "a7ffd85a-5443-48ac-b65c-828cc3457370"
      },
      "execution_count": null,
      "outputs": [
        {
          "output_type": "stream",
          "name": "stdout",
          "text": [
            "13/13 [==============================] - 6s 272ms/step - loss: 0.2668 - accuracy: 0.9266\n"
          ]
        },
        {
          "output_type": "execute_result",
          "data": {
            "text/plain": [
              "[0.26681676506996155, 0.9265822768211365]"
            ]
          },
          "metadata": {},
          "execution_count": 95
        }
      ]
    },
    {
      "cell_type": "code",
      "source": [
        "# Fine tuning 20 layers"
      ],
      "metadata": {
        "id": "K6NANqG5AwGd"
      },
      "execution_count": null,
      "outputs": []
    },
    {
      "cell_type": "code",
      "source": [
        "base_model_6 = tf.keras.applications.EfficientNetB0(include_top=False)\n",
        "base_model_6.trainable = True\n",
        "\n",
        "for layer in base_model_6.layers[:-20]:\n",
        "  layer.trainable = False"
      ],
      "metadata": {
        "id": "vzB06wNXAzFz"
      },
      "execution_count": null,
      "outputs": []
    },
    {
      "cell_type": "code",
      "source": [
        "inputs = layers.Input(shape=(224, 224, 3), name=\"input_layer\")\n",
        "base_layer = base_model_6(inputs)\n",
        "avg_pooling = layers.GlobalAveragePooling2D()(base_layer)\n",
        "outputs = layers.Dense(9, activation=\"softmax\")(avg_pooling)\n",
        "model_10 = Model(inputs, outputs)"
      ],
      "metadata": {
        "id": "s2fcrHgeA9Q9"
      },
      "execution_count": null,
      "outputs": []
    },
    {
      "cell_type": "code",
      "source": [
        "model_10.compile(loss=\"categorical_crossentropy\",\n",
        "                optimizer=tf.keras.optimizers.Adam(),\n",
        "                metrics=[\"accuracy\"])\n",
        "\n",
        "history_10 = model_10.fit(train_data,\n",
        "              epochs=5,\n",
        "              validation_data=test_data)"
      ],
      "metadata": {
        "colab": {
          "base_uri": "https://localhost:8080/"
        },
        "id": "FRni-35-A6uU",
        "outputId": "864bc38d-e622-4f9a-beb8-3b851a4b7af1"
      },
      "execution_count": null,
      "outputs": [
        {
          "output_type": "stream",
          "name": "stdout",
          "text": [
            "Epoch 1/5\n",
            "49/49 [==============================] - 61s 1s/step - loss: 0.7231 - accuracy: 0.7655 - val_loss: 0.2972 - val_accuracy: 0.9165\n",
            "Epoch 2/5\n",
            "49/49 [==============================] - 48s 995ms/step - loss: 0.2230 - accuracy: 0.9296 - val_loss: 0.2439 - val_accuracy: 0.9063\n",
            "Epoch 3/5\n",
            "49/49 [==============================] - 48s 980ms/step - loss: 0.1723 - accuracy: 0.9483 - val_loss: 0.2957 - val_accuracy: 0.9038\n",
            "Epoch 4/5\n",
            "49/49 [==============================] - 46s 943ms/step - loss: 0.1055 - accuracy: 0.9683 - val_loss: 0.2896 - val_accuracy: 0.9215\n",
            "Epoch 5/5\n",
            "49/49 [==============================] - 46s 929ms/step - loss: 0.0857 - accuracy: 0.9703 - val_loss: 0.2366 - val_accuracy: 0.9316\n"
          ]
        }
      ]
    },
    {
      "cell_type": "code",
      "source": [
        "model_10.evaluate(test_data)"
      ],
      "metadata": {
        "colab": {
          "base_uri": "https://localhost:8080/"
        },
        "id": "d7q46cycBPQa",
        "outputId": "f2c20e6d-7302-4113-8d0b-4ec68fc5c746"
      },
      "execution_count": null,
      "outputs": [
        {
          "output_type": "stream",
          "name": "stdout",
          "text": [
            "13/13 [==============================] - 3s 193ms/step - loss: 0.2366 - accuracy: 0.9316\n"
          ]
        },
        {
          "output_type": "execute_result",
          "data": {
            "text/plain": [
              "[0.23663204908370972, 0.9316455721855164]"
            ]
          },
          "metadata": {},
          "execution_count": 105
        }
      ]
    },
    {
      "cell_type": "code",
      "source": [
        "model_9.evaluate(test_data)"
      ],
      "metadata": {
        "colab": {
          "base_uri": "https://localhost:8080/"
        },
        "id": "bOPh2--hBYTS",
        "outputId": "29a4e451-ea88-44c5-c2fc-29bfdbea6beb"
      },
      "execution_count": null,
      "outputs": [
        {
          "output_type": "stream",
          "name": "stdout",
          "text": [
            "13/13 [==============================] - 3s 193ms/step - loss: 0.4030 - accuracy: 0.9165\n"
          ]
        },
        {
          "output_type": "execute_result",
          "data": {
            "text/plain": [
              "[0.4029889702796936, 0.9164556860923767]"
            ]
          },
          "metadata": {},
          "execution_count": 110
        }
      ]
    },
    {
      "cell_type": "code",
      "source": [
        "model_10.save('/content/drive/MyDrive/nepalvision/nepalfoodvision')"
      ],
      "metadata": {
        "colab": {
          "base_uri": "https://localhost:8080/"
        },
        "id": "1-AxZS1QBeWa",
        "outputId": "f360b982-b18d-47ff-ae00-5177b0c7a38e"
      },
      "execution_count": null,
      "outputs": [
        {
          "output_type": "stream",
          "name": "stdout",
          "text": [
            "INFO:tensorflow:Assets written to: /content/drive/MyDrive/nepalvision/nepalfoodvision/assets\n"
          ]
        }
      ]
    },
    {
      "cell_type": "code",
      "source": [
        "loaded_model = tf.keras.models.load_model('/content/drive/MyDrive/nepalvision/nepalfoodvision')"
      ],
      "metadata": {
        "id": "V2t5_QUcDcgS"
      },
      "execution_count": null,
      "outputs": []
    },
    {
      "cell_type": "code",
      "source": [
        "loaded_model.summary()"
      ],
      "metadata": {
        "colab": {
          "base_uri": "https://localhost:8080/"
        },
        "id": "1qiZa3VGDmPn",
        "outputId": "bc27f747-17fc-4382-f24d-82aa6642b0d2"
      },
      "execution_count": null,
      "outputs": [
        {
          "output_type": "stream",
          "name": "stdout",
          "text": [
            "Model: \"model_13\"\n",
            "_________________________________________________________________\n",
            " Layer (type)                Output Shape              Param #   \n",
            "=================================================================\n",
            " input_layer (InputLayer)    [(None, 224, 224, 3)]     0         \n",
            "                                                                 \n",
            " efficientnetb0 (Functional)  (None, None, None, 1280)  4049571  \n",
            "                                                                 \n",
            " global_average_pooling2d_10  (None, 1280)             0         \n",
            "  (GlobalAveragePooling2D)                                       \n",
            "                                                                 \n",
            " dense_14 (Dense)            (None, 9)                 11529     \n",
            "                                                                 \n",
            "=================================================================\n",
            "Total params: 4,061,100\n",
            "Trainable params: 1,362,489\n",
            "Non-trainable params: 2,698,611\n",
            "_________________________________________________________________\n"
          ]
        }
      ]
    },
    {
      "cell_type": "code",
      "source": [
        "loaded_model.evaluate(test_data)"
      ],
      "metadata": {
        "id": "cMG07MLBDwBN",
        "outputId": "eb2c535a-85b1-4b07-e7b9-803d7bd25ac8",
        "colab": {
          "base_uri": "https://localhost:8080/"
        }
      },
      "execution_count": null,
      "outputs": [
        {
          "output_type": "stream",
          "name": "stdout",
          "text": [
            "13/13 [==============================] - 7s 326ms/step - loss: 0.2366 - accuracy: 0.9316\n"
          ]
        },
        {
          "output_type": "execute_result",
          "data": {
            "text/plain": [
              "[0.23663204908370972, 0.9316455721855164]"
            ]
          },
          "metadata": {},
          "execution_count": 114
        }
      ]
    },
    {
      "cell_type": "code",
      "source": [
        ""
      ],
      "metadata": {
        "id": "ZM7FhPoWDzen"
      },
      "execution_count": null,
      "outputs": []
    }
  ],
  "metadata": {
    "accelerator": "GPU",
    "colab": {
      "collapsed_sections": [],
      "name": "NepalFoodVision.ipynb",
      "provenance": []
    },
    "kernelspec": {
      "display_name": "Python 3",
      "name": "python3"
    },
    "language_info": {
      "name": "python"
    }
  },
  "nbformat": 4,
  "nbformat_minor": 0
}